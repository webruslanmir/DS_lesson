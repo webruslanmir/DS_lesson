{
 "cells": [
  {
   "cell_type": "markdown",
   "metadata": {},
   "source": [
    "# Задание 1  \n",
    "* Напишите программу, которая будет выводить на экран площадь квадрата и его периметр. Сторона квадрата будет равна 25.  "
   ]
  },
  {
   "cell_type": "code",
   "execution_count": 53,
   "metadata": {},
   "outputs": [
    {
     "name": "stdout",
     "output_type": "stream",
     "text": [
      "Площадь равна 625, периметр равен 100\n"
     ]
    }
   ],
   "source": [
    "def square_params(a=25):\n",
    "    s = a*a\n",
    "    p = (a+a)*2\n",
    "    return f'Площадь равна {s}, периметр равен {p}'\n",
    "\n",
    "print(square_params())"
   ]
  },
  {
   "cell_type": "markdown",
   "metadata": {},
   "source": [
    "# Задание 2  \n",
    "* Напишите функцию, которая будет принимать два числа и считать сумму квадратов этих двух чисел, запишите своё вычисление в переменную squared. (Подсказка: Помните, чтобы записать результат функции в переменную, она должна этот результат внутри себя возвращать! Return :slight_smile: ). "
   ]
  },
  {
   "cell_type": "code",
   "execution_count": 49,
   "metadata": {},
   "outputs": [
    {
     "name": "stdout",
     "output_type": "stream",
     "text": [
      "13\n"
     ]
    }
   ],
   "source": [
    "def sum_squares(a, b):\n",
    "    result = a**2 + b**2\n",
    "    return result\n",
    "\n",
    "\n",
    "squared = sum_squares(3, 2)\n",
    "print(squared)"
   ]
  },
  {
   "cell_type": "markdown",
   "metadata": {},
   "source": [
    "# Задание 3  \n",
    "* Напишите функцию, которая будет принимать на вход список  [“male“,“male“,“female“,“male“,“male“,“female“,”female“] и возвращать его в обратном порядке. Запишите список в переменную new_list. Подсказка: Вам поможет обратная индексация к спискам ! [::-1]"
   ]
  },
  {
   "cell_type": "code",
   "execution_count": 54,
   "metadata": {},
   "outputs": [
    {
     "name": "stdout",
     "output_type": "stream",
     "text": [
      "['female', 'female', 'male', 'male', 'female', 'male', 'male']\n",
      "['female', 'female', 'male', 'male', 'female', 'male', 'male']\n"
     ]
    }
   ],
   "source": [
    "lst = [\"male\",\"male\",\"female\",\"male\",\"male\",\"female\",\"female\"]\n",
    "\n",
    "\n",
    "def list_reverse(lst: list):\n",
    "    result = lst [::-1]\n",
    "    return result\n",
    "\n",
    "\n",
    "def list_reverse_core_method(lst: list):\n",
    "    lst.reverse()\n",
    "    return lst\n",
    "\n",
    "new_list = list_reverse(lst)\n",
    "new_list_core_method = list_reverse_core_method(lst)\n",
    "\n",
    "print(new_list)\n",
    "print(new_list_core_method)"
   ]
  },
  {
   "cell_type": "markdown",
   "metadata": {},
   "source": [
    "# Задание 4  \n",
    "* Напишите функцию, которая будет принимать на вход список (new_list) и идти по нему в цикле. На выходе функция должна вывести на экран: Кол-во мужчин 4, Кол-во женщин 3."
   ]
  },
  {
   "cell_type": "code",
   "execution_count": 55,
   "metadata": {},
   "outputs": [
    {
     "name": "stdout",
     "output_type": "stream",
     "text": [
      "Кол-во мужчин 4, Кол-во женщин 3\n"
     ]
    }
   ],
   "source": [
    "def m_f_count(lst: list):\n",
    "    male, female = 0, 0\n",
    "    for i in lst:\n",
    "        if i == 'female':\n",
    "            female += 1\n",
    "\n",
    "        elif i == 'male':\n",
    "            male += 1\n",
    "        else:\n",
    "            raise('KeyError')\n",
    "    print(f'Кол-во мужчин { male }, Кол-во женщин { female }')\n",
    "\n",
    "m_f_count(new_list)\n"
   ]
  },
  {
   "cell_type": "markdown",
   "metadata": {},
   "source": [
    "# Задание 5  \n",
    "* Напишите функцию, которая будет принимать строку (Например: “female”), а возвращать словарь где ключи — это символы строки, а значения кол-во символов в строке. "
   ]
  },
  {
   "cell_type": "code",
   "execution_count": 57,
   "metadata": {},
   "outputs": [
    {
     "name": "stdout",
     "output_type": "stream",
     "text": [
      "{'f': 1, 'e': 2, 'm': 1, 'a': 1, 'l': 1}\n"
     ]
    }
   ],
   "source": [
    "param = 'female'\n",
    "\n",
    "def count_characters(string :str):\n",
    "    char_count = {}\n",
    "    for char in string:\n",
    "        char_count[char] = char_count.get(char, 0) + 1\n",
    "    return char_count\n",
    "\n",
    "\n",
    "result = count_characters('female')\n",
    "print(result)\n"
   ]
  },
  {
   "cell_type": "markdown",
   "metadata": {},
   "source": [
    "# Задание 6  \n",
    "* Воспользуйтесь функцией range в Python и выведите на экран сумму квадратов от 1 до 100 (включительно). "
   ]
  },
  {
   "cell_type": "code",
   "execution_count": 62,
   "metadata": {},
   "outputs": [
    {
     "name": "stdout",
     "output_type": "stream",
     "text": [
      "338350\n"
     ]
    }
   ],
   "source": [
    "sum=0\n",
    "for i in range(1, 101):\n",
    "    sum = sum + i**2\n",
    "print(sum)"
   ]
  },
  {
   "cell_type": "markdown",
   "metadata": {},
   "source": [
    "# Задание 7  \n",
    "* Укажите какой метод добавит значение в конец списка. Приведите пример"
   ]
  },
  {
   "cell_type": "code",
   "execution_count": 64,
   "metadata": {},
   "outputs": [
    {
     "name": "stdout",
     "output_type": "stream",
     "text": [
      "['a', 'b', 'c']\n"
     ]
    }
   ],
   "source": [
    "a_list = ['a', 'b']\n",
    "a_list.append('c')\n",
    "print(a_list)"
   ]
  },
  {
   "cell_type": "markdown",
   "metadata": {},
   "source": [
    "# Задание 8  \n",
    "* Как объединить два списка \"a\" и \"b\" в один новый список \"c\"? Приведите пример."
   ]
  },
  {
   "cell_type": "code",
   "execution_count": 67,
   "metadata": {},
   "outputs": [
    {
     "name": "stdout",
     "output_type": "stream",
     "text": [
      "['a', 'b', 'c', 'd']\n"
     ]
    }
   ],
   "source": [
    "a_list = ['a', 'b']\n",
    "b_list = ['c', 'd']\n",
    "c_list = a_list + b_list\n",
    "print(c_list)\n",
    "\n"
   ]
  },
  {
   "cell_type": "markdown",
   "metadata": {},
   "source": [
    "# Задание 9  \n",
    "* Укажите какой метод посчитает количество значений в списке. Приведите пример"
   ]
  },
  {
   "cell_type": "code",
   "execution_count": 68,
   "metadata": {},
   "outputs": [
    {
     "name": "stdout",
     "output_type": "stream",
     "text": [
      "4\n"
     ]
    }
   ],
   "source": [
    "print(len(c_list))"
   ]
  },
  {
   "cell_type": "markdown",
   "metadata": {},
   "source": [
    "# Задание 10  \n",
    "* Исправьте следующий код, так чтобы он отрабатывал правильно "
   ]
  },
  {
   "cell_type": "code",
   "execution_count": 69,
   "metadata": {},
   "outputs": [
    {
     "name": "stdout",
     "output_type": "stream",
     "text": [
      "x больше, либо равен y\n"
     ]
    }
   ],
   "source": [
    "x = 2**4\n",
    "y = 4**2\n",
    "if x < y:\n",
    "    print(\"x меньше y\") \n",
    "else: \n",
    "    print(\"x больше, либо равен y\")"
   ]
  }
 ],
 "metadata": {
  "kernelspec": {
   "display_name": "Python 3 (ipykernel)",
   "language": "python",
   "name": "python3"
  },
  "language_info": {
   "codemirror_mode": {
    "name": "ipython",
    "version": 3
   },
   "file_extension": ".py",
   "mimetype": "text/x-python",
   "name": "python",
   "nbconvert_exporter": "python",
   "pygments_lexer": "ipython3",
   "version": "3.11.9"
  }
 },
 "nbformat": 4,
 "nbformat_minor": 4
}
