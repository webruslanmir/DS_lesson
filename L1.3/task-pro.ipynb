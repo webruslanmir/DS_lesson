{
 "cells": [
  {
   "cell_type": "markdown",
   "metadata": {},
   "source": [
    "# Задание 1  \n",
    "* Написать программу, которая будет выводить на экран числа Фибоначчи до заданного числа.  "
   ]
  },
  {
   "cell_type": "code",
   "execution_count": 13,
   "metadata": {},
   "outputs": [
    {
     "name": "stdout",
     "output_type": "stream",
     "text": [
      "0\n",
      "1\n",
      "1\n",
      "2\n",
      "3\n",
      "5\n",
      "8\n"
     ]
    }
   ],
   "source": [
    "def fibonacchi(num):\n",
    "    a, b = 0, 1\n",
    "    print(a)\n",
    "    while b <= num:\n",
    "        print(b)\n",
    "        a, b = b, a + b\n",
    "\n",
    "fibonacchi(10)"
   ]
  },
  {
   "cell_type": "markdown",
   "metadata": {},
   "source": [
    "# Задание 2  \n",
    "* Напишите программу, которая на вход принимает список чисел и возвращает только уникальные значения из этого списка. "
   ]
  },
  {
   "cell_type": "code",
   "execution_count": 20,
   "metadata": {},
   "outputs": [
    {
     "name": "stdout",
     "output_type": "stream",
     "text": [
      "{0, 1, 2, 3, 4, 5, 6, 7, 8, 9, 66, 554, 8765445, 78, 6677, 54, 665, 444}\n"
     ]
    }
   ],
   "source": [
    "def unique_num(lst: list[int,]):\n",
    "    unique=set()\n",
    "    unique.update(lst)\n",
    "    return unique\n",
    "\n",
    "print(unique_num([1,2,3,4,5,6,7,8,9,0,9,8,7,6,5,4,3,2,1,2,3,444,5,665,4,66,7,78,78.0,554,8765445,6677,54]))"
   ]
  },
  {
   "cell_type": "markdown",
   "metadata": {},
   "source": [
    "# Задание 3  \n",
    "* Напишите программу, которая переводит температуру в градусах Фаренгейта в градусы Цельсия."
   ]
  },
  {
   "cell_type": "code",
   "execution_count": 12,
   "metadata": {},
   "outputs": [
    {
     "name": "stdout",
     "output_type": "stream",
     "text": [
      "37.77777777777778 °C\n"
     ]
    }
   ],
   "source": [
    "def far_to_cels(temp_f :int):\n",
    "    temp_c=f'{(temp_f - 32)* 5/9} °C'\n",
    "    return temp_c\n",
    "\n",
    "print(far_to_cels(100))"
   ]
  },
  {
   "cell_type": "markdown",
   "metadata": {},
   "source": [
    "# Задание 4  \n",
    "* Напишите программу, которая проверяет, является ли строка палиндромом без использования стандартных методов."
   ]
  },
  {
   "cell_type": "code",
   "execution_count": 79,
   "metadata": {},
   "outputs": [
    {
     "name": "stdout",
     "output_type": "stream",
     "text": [
      "palindrom\n",
      "no palindrom\n"
     ]
    }
   ],
   "source": [
    "slovo1 = 'ABBA'\n",
    "slovo2 = 'python'\n",
    "\n",
    "def palindrom(slovo :str):\n",
    "    counter = 0\n",
    "    symbol_count = len(slovo)\n",
    "    word_center = symbol_count // 2\n",
    "    for iter in range(word_center):\n",
    "        if slovo[iter] is slovo[-(iter + 1)]:\n",
    "            counter += 1\n",
    "            if word_center is counter:\n",
    "                print ('palindrom')\n",
    "                break\n",
    "        else:\n",
    "            print('no palindrom')\n",
    "            break\n",
    "\n",
    "palindrom(slovo1)\n",
    "palindrom(slovo2)"
   ]
  }
 ],
 "metadata": {
  "kernelspec": {
   "display_name": "Python 3 (ipykernel)",
   "language": "python",
   "name": "python3"
  },
  "language_info": {
   "codemirror_mode": {
    "name": "ipython",
    "version": 3
   },
   "file_extension": ".py",
   "mimetype": "text/x-python",
   "name": "python",
   "nbconvert_exporter": "python",
   "pygments_lexer": "ipython3",
   "version": "3.11.9"
  }
 },
 "nbformat": 4,
 "nbformat_minor": 4
}
