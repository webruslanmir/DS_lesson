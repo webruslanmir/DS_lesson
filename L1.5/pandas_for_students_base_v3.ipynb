{
 "cells": [
  {
   "cell_type": "code",
   "execution_count": 61,
   "metadata": {
    "ExecuteTime": {
     "end_time": "2024-07-20T19:24:45.048946100Z",
     "start_time": "2024-07-20T19:24:44.965164900Z"
    }
   },
   "outputs": [],
   "source": [
    "# %load  ../basic_imports.py\n",
    "import pandas as pd\n",
    "import numpy as np\n",
    "import matplotlib.pyplot as plt\n",
    "import re\n"
   ]
  },
  {
   "attachments": {},
   "cell_type": "markdown",
   "metadata": {},
   "source": [
    "# Работа с Pandas"
   ]
  },
  {
   "attachments": {},
   "cell_type": "markdown",
   "metadata": {},
   "source": [
    "1. Загрузите ваш DataFrame в переменную df и выведете на экран первые пять строк "
   ]
  },
  {
   "cell_type": "code",
   "execution_count": 62,
   "metadata": {
    "ExecuteTime": {
     "end_time": "2024-07-20T19:24:46.624091100Z",
     "start_time": "2024-07-20T19:24:45.051889Z"
    }
   },
   "outputs": [],
   "source": [
    "path = 'https://cdn.1t.ru/24/Data_Scientist/%D0%A4%D0%B0%D0%B9%D0%BB%D1%8B/googleplaystore%20.csv' # Здесь должен быть полный путь к файлу(если он лежит у вас локально) или ссылка\n",
    "df = pd.read_csv(path) # Считываем наш датафрейм из csv файла"
   ]
  },
  {
   "cell_type": "code",
   "execution_count": 63,
   "metadata": {
    "ExecuteTime": {
     "end_time": "2024-07-20T19:24:46.644303600Z",
     "start_time": "2024-07-20T19:24:46.628512400Z"
    }
   },
   "outputs": [
    {
     "data": {
      "text/plain": "                                                 App        Category  Rating  \\\n0     Photo Editor & Candy Camera & Grid & ScrapBook  ART_AND_DESIGN     4.1   \n1                                Coloring book moana  ART_AND_DESIGN     3.9   \n2  U Launcher Lite – FREE Live Cool Themes, Hide ...  ART_AND_DESIGN     4.7   \n3                              Sketch - Draw & Paint  ART_AND_DESIGN     4.5   \n4              Pixel Draw - Number Art Coloring Book  ART_AND_DESIGN     4.3   \n\n  Reviews  Size     Installs  Type  Price Content Rating  \\\n0     159   19M      10,000+  Free    0.0       Everyone   \n1     967   14M     500,000+  Free    0.0       Everyone   \n2   87510  8.7M   5,000,000+  Free    0.0       Everyone   \n3  215644   25M  50,000,000+  Free    0.0           Teen   \n4     967  2.8M     100,000+  Free    0.0       Everyone   \n\n                      Genres      Last Updated         Current Ver  \\\n0               Art & Design   January 7, 2018               1.0.0   \n1  Art & Design;Pretend Play  January 15, 2018               2.0.0   \n2               Art & Design    August 1, 2018               1.2.4   \n3               Art & Design      June 8, 2018  Varies with device   \n4    Art & Design;Creativity     June 20, 2018                 1.1   \n\n    Android Ver  \n0  4.0.3 and up  \n1  4.0.3 and up  \n2  4.0.3 and up  \n3    4.2 and up  \n4    4.4 and up  ",
      "text/html": "<div>\n<style scoped>\n    .dataframe tbody tr th:only-of-type {\n        vertical-align: middle;\n    }\n\n    .dataframe tbody tr th {\n        vertical-align: top;\n    }\n\n    .dataframe thead th {\n        text-align: right;\n    }\n</style>\n<table border=\"1\" class=\"dataframe\">\n  <thead>\n    <tr style=\"text-align: right;\">\n      <th></th>\n      <th>App</th>\n      <th>Category</th>\n      <th>Rating</th>\n      <th>Reviews</th>\n      <th>Size</th>\n      <th>Installs</th>\n      <th>Type</th>\n      <th>Price</th>\n      <th>Content Rating</th>\n      <th>Genres</th>\n      <th>Last Updated</th>\n      <th>Current Ver</th>\n      <th>Android Ver</th>\n    </tr>\n  </thead>\n  <tbody>\n    <tr>\n      <th>0</th>\n      <td>Photo Editor &amp; Candy Camera &amp; Grid &amp; ScrapBook</td>\n      <td>ART_AND_DESIGN</td>\n      <td>4.1</td>\n      <td>159</td>\n      <td>19M</td>\n      <td>10,000+</td>\n      <td>Free</td>\n      <td>0.0</td>\n      <td>Everyone</td>\n      <td>Art &amp; Design</td>\n      <td>January 7, 2018</td>\n      <td>1.0.0</td>\n      <td>4.0.3 and up</td>\n    </tr>\n    <tr>\n      <th>1</th>\n      <td>Coloring book moana</td>\n      <td>ART_AND_DESIGN</td>\n      <td>3.9</td>\n      <td>967</td>\n      <td>14M</td>\n      <td>500,000+</td>\n      <td>Free</td>\n      <td>0.0</td>\n      <td>Everyone</td>\n      <td>Art &amp; Design;Pretend Play</td>\n      <td>January 15, 2018</td>\n      <td>2.0.0</td>\n      <td>4.0.3 and up</td>\n    </tr>\n    <tr>\n      <th>2</th>\n      <td>U Launcher Lite – FREE Live Cool Themes, Hide ...</td>\n      <td>ART_AND_DESIGN</td>\n      <td>4.7</td>\n      <td>87510</td>\n      <td>8.7M</td>\n      <td>5,000,000+</td>\n      <td>Free</td>\n      <td>0.0</td>\n      <td>Everyone</td>\n      <td>Art &amp; Design</td>\n      <td>August 1, 2018</td>\n      <td>1.2.4</td>\n      <td>4.0.3 and up</td>\n    </tr>\n    <tr>\n      <th>3</th>\n      <td>Sketch - Draw &amp; Paint</td>\n      <td>ART_AND_DESIGN</td>\n      <td>4.5</td>\n      <td>215644</td>\n      <td>25M</td>\n      <td>50,000,000+</td>\n      <td>Free</td>\n      <td>0.0</td>\n      <td>Teen</td>\n      <td>Art &amp; Design</td>\n      <td>June 8, 2018</td>\n      <td>Varies with device</td>\n      <td>4.2 and up</td>\n    </tr>\n    <tr>\n      <th>4</th>\n      <td>Pixel Draw - Number Art Coloring Book</td>\n      <td>ART_AND_DESIGN</td>\n      <td>4.3</td>\n      <td>967</td>\n      <td>2.8M</td>\n      <td>100,000+</td>\n      <td>Free</td>\n      <td>0.0</td>\n      <td>Everyone</td>\n      <td>Art &amp; Design;Creativity</td>\n      <td>June 20, 2018</td>\n      <td>1.1</td>\n      <td>4.4 and up</td>\n    </tr>\n  </tbody>\n</table>\n</div>"
     },
     "execution_count": 63,
     "metadata": {},
     "output_type": "execute_result"
    }
   ],
   "source": [
    "df.head()  # По дефолту 5 строк ( df.head(n)/ df.sample(n)/ df.tail(n )  )"
   ]
  },
  {
   "attachments": {},
   "cell_type": "markdown",
   "metadata": {},
   "source": [
    "2. Отобразите количество строк и столбцов в DataFrame"
   ]
  },
  {
   "cell_type": "code",
   "execution_count": 64,
   "metadata": {
    "ExecuteTime": {
     "end_time": "2024-07-20T19:24:46.650639700Z",
     "start_time": "2024-07-20T19:24:46.642054500Z"
    }
   },
   "outputs": [
    {
     "data": {
      "text/plain": "(10841, 13)"
     },
     "execution_count": 64,
     "metadata": {},
     "output_type": "execute_result"
    }
   ],
   "source": [
    "df.shape"
   ]
  },
  {
   "attachments": {},
   "cell_type": "markdown",
   "metadata": {},
   "source": [
    "3. Выведете основную информацию о DataFrame методом info(). Проанализируйте есть ли пропуски в столбцах. Напишите вывод о том, какие столбцы содержат пропуски"
   ]
  },
  {
   "cell_type": "code",
   "execution_count": 65,
   "metadata": {
    "collapsed": false,
    "ExecuteTime": {
     "end_time": "2024-07-20T19:24:46.712956100Z",
     "start_time": "2024-07-20T19:24:46.652370600Z"
    }
   },
   "outputs": [
    {
     "name": "stdout",
     "output_type": "stream",
     "text": [
      "<class 'pandas.core.frame.DataFrame'>\n",
      "RangeIndex: 10841 entries, 0 to 10840\n",
      "Data columns (total 13 columns):\n",
      " #   Column          Non-Null Count  Dtype  \n",
      "---  ------          --------------  -----  \n",
      " 0   App             10841 non-null  object \n",
      " 1   Category        10841 non-null  object \n",
      " 2   Rating          9367 non-null   float64\n",
      " 3   Reviews         10841 non-null  object \n",
      " 4   Size            10841 non-null  object \n",
      " 5   Installs        10841 non-null  object \n",
      " 6   Type            10840 non-null  object \n",
      " 7   Price           10841 non-null  float64\n",
      " 8   Content Rating  10840 non-null  object \n",
      " 9   Genres          10841 non-null  object \n",
      " 10  Last Updated    10841 non-null  object \n",
      " 11  Current Ver     10833 non-null  object \n",
      " 12  Android Ver     10838 non-null  object \n",
      "dtypes: float64(2), object(11)\n",
      "memory usage: 1.1+ MB\n"
     ]
    }
   ],
   "source": [
    "df.info()"
   ]
  },
  {
   "cell_type": "code",
   "execution_count": 66,
   "metadata": {
    "ExecuteTime": {
     "end_time": "2024-07-20T19:24:46.714062800Z",
     "start_time": "2024-07-20T19:24:46.666710700Z"
    }
   },
   "outputs": [
    {
     "data": {
      "text/plain": "App                  0\nCategory             0\nRating            1474\nReviews              0\nSize                 0\nInstalls             0\nType                 1\nPrice                0\nContent Rating       1\nGenres               0\nLast Updated         0\nCurrent Ver          8\nAndroid Ver          3\ndtype: int64"
     },
     "execution_count": 66,
     "metadata": {},
     "output_type": "execute_result"
    }
   ],
   "source": [
    "pd.isnull(df).sum()\n"
   ]
  },
  {
   "attachments": {},
   "cell_type": "markdown",
   "metadata": {},
   "source": [
    "4. Удалите или замените пропуски известными вам методами. (Подсказка: `dropna()` или `fillna()`, выбор того или иного метода должен быть аргументирован)."
   ]
  },
  {
   "cell_type": "code",
   "execution_count": 67,
   "metadata": {
    "ExecuteTime": {
     "end_time": "2024-07-20T19:24:46.715152900Z",
     "start_time": "2024-07-20T19:24:46.679375900Z"
    }
   },
   "outputs": [],
   "source": [
    "df.fillna(\n",
    "        {\n",
    "            'Rating': df.Rating.median(),\n",
    "            'Type': 'No data',\n",
    "            'Content Rating': 'No data',\n",
    "            'Current Ver': 'No data',\n",
    "            'Android Ver': 'No data',\n",
    "        }, \n",
    "        inplace=True\n",
    "    )\n",
    "\n"
   ]
  },
  {
   "attachments": {},
   "cell_type": "markdown",
   "metadata": {},
   "source": [
    "5. Проверьте нет ли пропусков после произведенной обработки"
   ]
  },
  {
   "cell_type": "code",
   "execution_count": 68,
   "metadata": {
    "ExecuteTime": {
     "end_time": "2024-07-20T19:24:46.804784800Z",
     "start_time": "2024-07-20T19:24:46.691858Z"
    }
   },
   "outputs": [
    {
     "name": "stdout",
     "output_type": "stream",
     "text": [
      "<class 'pandas.core.frame.DataFrame'>\n",
      "RangeIndex: 10841 entries, 0 to 10840\n",
      "Data columns (total 13 columns):\n",
      " #   Column          Non-Null Count  Dtype  \n",
      "---  ------          --------------  -----  \n",
      " 0   App             10841 non-null  object \n",
      " 1   Category        10841 non-null  object \n",
      " 2   Rating          10841 non-null  float64\n",
      " 3   Reviews         10841 non-null  object \n",
      " 4   Size            10841 non-null  object \n",
      " 5   Installs        10841 non-null  object \n",
      " 6   Type            10841 non-null  object \n",
      " 7   Price           10841 non-null  float64\n",
      " 8   Content Rating  10841 non-null  object \n",
      " 9   Genres          10841 non-null  object \n",
      " 10  Last Updated    10841 non-null  object \n",
      " 11  Current Ver     10841 non-null  object \n",
      " 12  Android Ver     10841 non-null  object \n",
      "dtypes: float64(2), object(11)\n",
      "memory usage: 1.1+ MB\n"
     ]
    }
   ],
   "source": [
    "df.info()"
   ]
  },
  {
   "attachments": {},
   "cell_type": "markdown",
   "metadata": {},
   "source": [
    "6. Выведите на экран минимум и максимум из столбца `Price`:"
   ]
  },
  {
   "cell_type": "code",
   "execution_count": 69,
   "metadata": {
    "ExecuteTime": {
     "end_time": "2024-07-20T19:24:46.830194900Z",
     "start_time": "2024-07-20T19:24:46.705220600Z"
    }
   },
   "outputs": [
    {
     "name": "stdout",
     "output_type": "stream",
     "text": [
      "Max price:  400.0\n",
      "Min price:  0.0\n"
     ]
    }
   ],
   "source": [
    "print(\"Max price: \", df.Price.max())\n",
    "print(\"Min price: \", df.Price.min())"
   ]
  },
  {
   "attachments": {},
   "cell_type": "markdown",
   "metadata": {},
   "source": [
    "7. Выведите на экран медиану и среднее арифметическое столбцов:\n",
    " - Rating\n",
    " - Reviews"
   ]
  },
  {
   "cell_type": "code",
   "execution_count": 70,
   "metadata": {
    "collapsed": false,
    "ExecuteTime": {
     "end_time": "2024-07-20T19:24:46.832195800Z",
     "start_time": "2024-07-20T19:24:46.710805100Z"
    }
   },
   "outputs": [
    {
     "name": "stdout",
     "output_type": "stream",
     "text": [
      "Median Rating:  4.3\n",
      "Mean Rating:  4.2078406051102295\n",
      "Median Reviews:  2094.0\n",
      "Mean Reviews:  444388.6535374965\n"
     ]
    }
   ],
   "source": [
    "def string_to_int(string_witn_rank):\n",
    "    \"\"\"Convert string like '3.0М' -> 3000000, '1K' -> 1000\"\"\"\n",
    "    try:\n",
    "       result = int(string_witn_rank)\n",
    "    except Exception:\n",
    "        numeric_digits={'M':10**6, 'K':10**3 }\n",
    "        result_list = re.match(r'(\\d+\\.\\d+|\\d+)([MKmk])', string_witn_rank.replace(' ', '')).groups()\n",
    "        result = float(result_list[0])*(numeric_digits.get(result_list[1].upper()))\n",
    "    return int(result)\n",
    "    \n",
    "df['Reviews'] = df['Reviews'].apply(string_to_int)\n",
    "\n",
    "print(\"Median Rating: \", df['Rating'].median())\n",
    "print(\"Mean Rating: \", df['Rating'].mean())\n",
    "print(\"Median Reviews: \", df['Reviews'].median())\n",
    "print(\"Mean Reviews: \", df['Reviews'].mean())"
   ]
  },
  {
   "attachments": {},
   "cell_type": "markdown",
   "metadata": {},
   "source": [
    "8. Выведите на экран все уникальные значения категориального столбца Genres"
   ]
  },
  {
   "cell_type": "code",
   "execution_count": 71,
   "metadata": {
    "ExecuteTime": {
     "end_time": "2024-07-20T19:24:46.833197500Z",
     "start_time": "2024-07-20T19:24:46.729115900Z"
    }
   },
   "outputs": [
    {
     "data": {
      "text/plain": "array(['Art & Design', 'Art & Design;Pretend Play',\n       'Art & Design;Creativity', 'Art & Design;Action & Adventure',\n       'Auto & Vehicles', 'Beauty', 'Books & Reference', 'Business',\n       'Comics', 'Comics;Creativity', 'Communication', 'Dating',\n       'Education;Education', 'Education', 'Education;Creativity',\n       'Education;Music & Video', 'Education;Action & Adventure',\n       'Education;Pretend Play', 'Education;Brain Games', 'Entertainment',\n       'Entertainment;Music & Video', 'Entertainment;Brain Games',\n       'Entertainment;Creativity', 'Events', 'Finance', 'Food & Drink',\n       'Health & Fitness', 'House & Home', 'Libraries & Demo',\n       'Lifestyle', 'Lifestyle;Pretend Play',\n       'Adventure;Action & Adventure', 'Arcade', 'Casual', 'Card',\n       'Casual;Pretend Play', 'Action', 'Strategy', 'Puzzle', 'Sports',\n       'Music', 'Word', 'Racing', 'Casual;Creativity',\n       'Casual;Action & Adventure', 'Simulation', 'Adventure', 'Board',\n       'Trivia', 'Role Playing', 'Simulation;Education',\n       'Action;Action & Adventure', 'Casual;Brain Games',\n       'Simulation;Action & Adventure', 'Educational;Creativity',\n       'Puzzle;Brain Games', 'Educational;Education', 'Card;Brain Games',\n       'Educational;Brain Games', 'Educational;Pretend Play',\n       'Entertainment;Education', 'Casual;Education',\n       'Music;Music & Video', 'Racing;Action & Adventure',\n       'Arcade;Pretend Play', 'Role Playing;Action & Adventure',\n       'Simulation;Pretend Play', 'Puzzle;Creativity',\n       'Sports;Action & Adventure', 'Educational;Action & Adventure',\n       'Arcade;Action & Adventure', 'Entertainment;Action & Adventure',\n       'Puzzle;Action & Adventure', 'Strategy;Action & Adventure',\n       'Music & Audio;Music & Video', 'Health & Fitness;Education',\n       'Adventure;Education', 'Board;Brain Games',\n       'Board;Action & Adventure', 'Board;Pretend Play',\n       'Casual;Music & Video', 'Role Playing;Pretend Play',\n       'Entertainment;Pretend Play', 'Video Players & Editors;Creativity',\n       'Card;Action & Adventure', 'Medical', 'Social', 'Shopping',\n       'Photography', 'Travel & Local',\n       'Travel & Local;Action & Adventure', 'Tools', 'Tools;Education',\n       'Personalization', 'Productivity', 'Parenting',\n       'Parenting;Music & Video', 'Parenting;Education',\n       'Parenting;Brain Games', 'Weather', 'Video Players & Editors',\n       'Video Players & Editors;Music & Video', 'News & Magazines',\n       'Maps & Navigation', 'Health & Fitness;Action & Adventure',\n       'Educational', 'Casino', 'Adventure;Brain Games',\n       'Trivia;Education', 'Lifestyle;Education',\n       'Books & Reference;Creativity', 'Books & Reference;Education',\n       'Puzzle;Education', 'Role Playing;Education',\n       'Role Playing;Brain Games', 'Strategy;Education',\n       'Racing;Pretend Play', 'Communication;Creativity',\n       'February 11, 2018', 'Strategy;Creativity'], dtype=object)"
     },
     "execution_count": 71,
     "metadata": {},
     "output_type": "execute_result"
    }
   ],
   "source": [
    "df['Genres'].unique()"
   ]
  },
  {
   "attachments": {},
   "cell_type": "markdown",
   "metadata": {},
   "source": [
    "9. Сгруппируйте данные по столбцу `Genres` и посчитайте для каждого жанра средний и медианный рейтинг. Представьте результат в виде нового DataFrame,который будет сохранен в переменную `grouped_df`, где одна колонка будет содержать названия жарнов, а две другие буду содержать в себе средний и медианный рейтинги. Напишите краткий вывод."
   ]
  },
  {
   "cell_type": "code",
   "execution_count": 72,
   "metadata": {
    "ExecuteTime": {
     "end_time": "2024-07-20T19:24:46.839195200Z",
     "start_time": "2024-07-20T19:24:46.737045600Z"
    }
   },
   "outputs": [
    {
     "name": "stdout",
     "output_type": "stream",
     "text": [
      "                                       Mean Rating  Median Rating\n",
      "Genres                                                           \n",
      "Action                                    4.285753            4.3\n",
      "Action;Action & Adventure                 4.311765            4.3\n",
      "Adventure                                 4.184000            4.3\n",
      "Adventure;Action & Adventure              4.423077            4.5\n",
      "Adventure;Brain Games                     4.600000            4.6\n",
      "...                                            ...            ...\n",
      "Video Players & Editors                   4.084393            4.3\n",
      "Video Players & Editors;Creativity        4.100000            4.1\n",
      "Video Players & Editors;Music & Video     4.000000            4.0\n",
      "Weather                                   4.248780            4.3\n",
      "Word                                      4.406897            4.4\n",
      "\n",
      "[120 rows x 2 columns]\n"
     ]
    }
   ],
   "source": [
    "grouped_df = df.groupby('Genres').agg({'Rating': ['mean', 'median']})\n",
    "grouped_df.columns = ['Mean Rating', 'Median Rating']\n",
    "print(grouped_df)"
   ]
  },
  {
   "attachments": {},
   "cell_type": "markdown",
   "metadata": {},
   "source": [
    "10. Из получившегося датафрейма выведите на экран только те жанры, чей медианный рейтинг больше 4.5. Напишите краткий вывод."
   ]
  },
  {
   "cell_type": "code",
   "execution_count": 73,
   "metadata": {
    "ExecuteTime": {
     "end_time": "2024-07-20T19:24:46.840194500Z",
     "start_time": "2024-07-20T19:24:46.746376700Z"
    }
   },
   "outputs": [
    {
     "name": "stdout",
     "output_type": "stream",
     "text": [
      "                             Mean Rating  Median Rating\n",
      "Genres                                                 \n",
      "Adventure;Brain Games           4.600000            4.6\n",
      "Art & Design;Creativity         4.400000            4.7\n",
      "Board;Pretend Play              4.800000            4.8\n",
      "Comics;Creativity               4.800000            4.8\n",
      "Entertainment;Creativity        4.533333            4.6\n",
      "February 11, 2018              19.000000           19.0\n",
      "Health & Fitness;Education      4.700000            4.7\n",
      "Music;Music & Video             4.533333            4.6\n",
      "Puzzle;Education                4.600000            4.6\n",
      "Strategy;Action & Adventure     4.600000            4.6\n"
     ]
    }
   ],
   "source": [
    "filtered_df = grouped_df[grouped_df['Median Rating'] > 4.5]\n",
    "print(filtered_df)"
   ]
  },
  {
   "attachments": {},
   "cell_type": "markdown",
   "metadata": {},
   "source": [
    "11. Выведете кол-во дубликатов в основном DataFrame (df) и удалите их "
   ]
  },
  {
   "cell_type": "code",
   "execution_count": 74,
   "metadata": {
    "ExecuteTime": {
     "end_time": "2024-07-20T19:24:47.041433300Z",
     "start_time": "2024-07-20T19:24:46.757981900Z"
    }
   },
   "outputs": [
    {
     "name": "stdout",
     "output_type": "stream",
     "text": [
      "Количество дубликатов перед удалением:  483\n",
      "Количество дубликатов после удаления:  0\n",
      "                                                     App             Category  \\\n",
      "0         Photo Editor & Candy Camera & Grid & ScrapBook       ART_AND_DESIGN   \n",
      "1                                    Coloring book moana       ART_AND_DESIGN   \n",
      "2      U Launcher Lite – FREE Live Cool Themes, Hide ...       ART_AND_DESIGN   \n",
      "3                                  Sketch - Draw & Paint       ART_AND_DESIGN   \n",
      "4                  Pixel Draw - Number Art Coloring Book       ART_AND_DESIGN   \n",
      "...                                                  ...                  ...   \n",
      "10836                                   Sya9a Maroc - FR               FAMILY   \n",
      "10837                   Fr. Mike Schmitz Audio Teachings               FAMILY   \n",
      "10838                             Parkinson Exercices FR              MEDICAL   \n",
      "10839                      The SCP Foundation DB fr nn5n  BOOKS_AND_REFERENCE   \n",
      "10840      iHoroscope - 2018 Daily Horoscope & Astrology            LIFESTYLE   \n",
      "\n",
      "       Rating  Reviews                Size     Installs  Type  Price  \\\n",
      "0         4.1      159                 19M      10,000+  Free    0.0   \n",
      "1         3.9      967                 14M     500,000+  Free    0.0   \n",
      "2         4.7    87510                8.7M   5,000,000+  Free    0.0   \n",
      "3         4.5   215644                 25M  50,000,000+  Free    0.0   \n",
      "4         4.3      967                2.8M     100,000+  Free    0.0   \n",
      "...       ...      ...                 ...          ...   ...    ...   \n",
      "10836     4.5       38                 53M       5,000+  Free    0.0   \n",
      "10837     5.0        4                3.6M         100+  Free    0.0   \n",
      "10838     4.3        3                9.5M       1,000+  Free    0.0   \n",
      "10839     4.5      114  Varies with device       1,000+  Free    0.0   \n",
      "10840     4.5   398307                 19M  10,000,000+  Free    0.0   \n",
      "\n",
      "      Content Rating                     Genres      Last Updated  \\\n",
      "0           Everyone               Art & Design   January 7, 2018   \n",
      "1           Everyone  Art & Design;Pretend Play  January 15, 2018   \n",
      "2           Everyone               Art & Design    August 1, 2018   \n",
      "3               Teen               Art & Design      June 8, 2018   \n",
      "4           Everyone    Art & Design;Creativity     June 20, 2018   \n",
      "...              ...                        ...               ...   \n",
      "10836       Everyone                  Education     July 25, 2017   \n",
      "10837       Everyone                  Education      July 6, 2018   \n",
      "10838       Everyone                    Medical  January 20, 2017   \n",
      "10839     Mature 17+          Books & Reference  January 19, 2015   \n",
      "10840       Everyone                  Lifestyle     July 25, 2018   \n",
      "\n",
      "              Current Ver         Android Ver  \n",
      "0                   1.0.0        4.0.3 and up  \n",
      "1                   2.0.0        4.0.3 and up  \n",
      "2                   1.2.4        4.0.3 and up  \n",
      "3      Varies with device          4.2 and up  \n",
      "4                     1.1          4.4 and up  \n",
      "...                   ...                 ...  \n",
      "10836                1.48          4.1 and up  \n",
      "10837                 1.0          4.1 and up  \n",
      "10838                 1.0          2.2 and up  \n",
      "10839  Varies with device  Varies with device  \n",
      "10840  Varies with device  Varies with device  \n",
      "\n",
      "[10358 rows x 13 columns]\n"
     ]
    }
   ],
   "source": [
    "print(\"Количество дубликатов перед удалением: \", df.duplicated().sum())\n",
    "df.drop_duplicates(inplace=True)\n",
    "print(\"Количество дубликатов после удаления: \", df.duplicated().sum())\n",
    "print(df)"
   ]
  },
  {
   "attachments": {},
   "cell_type": "markdown",
   "metadata": {},
   "source": [
    "12. Посчитатайте какое количество приложений содержится в каждом жанре (value_counts).В получившемся Series выведите на экран 10 строк с наибольшим количеством приложений отсортированных по убыванию."
   ]
  },
  {
   "cell_type": "code",
   "execution_count": 76,
   "metadata": {
    "ExecuteTime": {
     "end_time": "2024-07-20T19:25:51.221370100Z",
     "start_time": "2024-07-20T19:25:51.201943200Z"
    }
   },
   "outputs": [
    {
     "data": {
      "text/plain": "Genres\nTools              842\nEntertainment      588\nEducation          527\nBusiness           427\nMedical            408\nProductivity       407\nPersonalization    388\nLifestyle          372\nCommunication      366\nSports             364\nName: count, dtype: int64"
     },
     "execution_count": 76,
     "metadata": {},
     "output_type": "execute_result"
    }
   ],
   "source": [
    "df.Genres.value_counts().head(10)"
   ]
  }
 ],
 "metadata": {
  "kernelspec": {
   "display_name": "Python 3",
   "language": "python",
   "name": "python3"
  },
  "language_info": {
   "codemirror_mode": {
    "name": "ipython",
    "version": 3
   },
   "file_extension": ".py",
   "mimetype": "text/x-python",
   "name": "python",
   "nbconvert_exporter": "python",
   "pygments_lexer": "ipython3",
   "version": "3.11.9"
  },
  "orig_nbformat": 4
 },
 "nbformat": 4,
 "nbformat_minor": 2
}
