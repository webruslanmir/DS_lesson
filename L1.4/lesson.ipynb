{
 "cells": [
  {
   "cell_type": "markdown",
   "source": [
    "# Проверка Pandas"
   ],
   "metadata": {
    "collapsed": false
   },
   "id": "71c96cf95c89e683"
  },
  {
   "cell_type": "code",
   "outputs": [
    {
     "name": "stdout",
     "output_type": "stream",
     "text": [
      "<bound method DataFrame.info of      name  age country\n",
      "0    John   20     USA\n",
      "1   Smith   30   Japan\n",
      "2  Andrey   40  Russia>\n",
      "['John' 'Smith' 'Andrey']\n"
     ]
    }
   ],
   "source": [
    "import pandas as pd\n",
    "\n",
    "data = {\n",
    "    'name':['John', 'Smith', 'Andrey'], \n",
    "    'age':[20, 30, 40],\n",
    "    'country': ['USA', 'Japan', 'Russia'],\n",
    "}\n",
    "\n",
    "df = pd.DataFrame(data)\n",
    "\n",
    "print(df.info)\n",
    "print(df.name.to_numpy())"
   ],
   "metadata": {
    "collapsed": false,
    "ExecuteTime": {
     "end_time": "2024-06-08T17:46:00.039768200Z",
     "start_time": "2024-06-08T17:46:00.004082900Z"
    }
   },
   "id": "570c773ec7ff8f2d",
   "execution_count": 82
  },
  {
   "cell_type": "markdown",
   "source": [
    "# Проверка Numpy"
   ],
   "metadata": {
    "collapsed": false
   },
   "id": "9d486f2e8ffa79c2"
  },
  {
   "cell_type": "code",
   "outputs": [
    {
     "name": "stdout",
     "output_type": "stream",
     "text": [
      "[[1 2]\n",
      " [3 4]]\n"
     ]
    }
   ],
   "source": [
    "import numpy as np\n",
    "\n",
    "y = np.array([[1, 2], [3, 4]])\n",
    "print(y)"
   ],
   "metadata": {
    "collapsed": false,
    "ExecuteTime": {
     "end_time": "2024-06-08T17:46:00.157051100Z",
     "start_time": "2024-06-08T17:46:00.042736300Z"
    }
   },
   "id": "ea9306984a7dc323",
   "execution_count": 83
  },
  {
   "cell_type": "code",
   "outputs": [
    {
     "name": "stdout",
     "output_type": "stream",
     "text": [
      "  animal  age  visits priority\n",
      "a    cat  2.5       1      yes\n",
      "b    cat  3.0       3      yes\n",
      "c  snake  0.5       2       no\n",
      "d    dog  3.0       3      yes\n",
      "e    dog  5.0       2       no\n",
      "f    cat  2.0       3       no\n",
      "g  snake  4.5       1       no\n",
      "h    cat  4.0       1      yes\n",
      "i    dog  7.0       2       no\n",
      "j    dog  3.0       1       no\n"
     ]
    }
   ],
   "source": [
    "# Данная строка импортирует библиотеку пандас в вашу среду программирования.\n",
    "# Без неё все последующие методы не будут работать :)\n",
    "\n",
    "import pandas as pd \n",
    "\n",
    "data = ['cat', 'cat', 'snake', 'dog', 'dog', 'cat', 'snake', 'cat', 'dog', 'dog'] # Создадим список с данными Series\n",
    "labels = ['a', 'b', 'c', 'd', 'e', 'f', 'g', 'h', 'i', 'j'] # Создадим список с индексами Series\n",
    "s = pd.Series(data, index=labels, name='animals') # Создадим Series, обращаясь к Pandas\n",
    "\n",
    "data = {'animal': ['cat', 'cat', 'snake', 'dog', 'dog', 'cat', 'snake', 'cat', 'dog', 'dog'],\n",
    "         'age': [2.5, 3, 0.5, 3, 5, 2, 4.5, 4, 7, 3],\n",
    "         'visits': [1, 3, 2, 3, 2, 3, 1, 1, 2, 1],\n",
    "         'priority': ['yes', 'yes', 'no', 'yes', 'no', 'no', 'no', 'yes', 'no', 'no']}\n",
    "labels = ['a', 'b', 'c', 'd', 'e', 'f', 'g', 'h', 'i', 'j']\n",
    "df = pd.DataFrame(data, index=labels)\n",
    "print(df)"
   ],
   "metadata": {
    "collapsed": false,
    "ExecuteTime": {
     "end_time": "2024-06-08T17:46:00.253703300Z",
     "start_time": "2024-06-08T17:46:00.172368800Z"
    }
   },
   "id": "545317db91bd8227",
   "execution_count": 84
  },
  {
   "cell_type": "code",
   "outputs": [
    {
     "data": {
      "text/plain": "a      cat\nb      cat\nc    snake\nd      dog\ne      dog\nf      cat\ng    snake\nh      cat\ni      dog\nj      dog\nName: animal, dtype: object"
     },
     "execution_count": 85,
     "metadata": {},
     "output_type": "execute_result"
    }
   ],
   "source": [
    "df['animal']"
   ],
   "metadata": {
    "collapsed": false,
    "ExecuteTime": {
     "end_time": "2024-06-08T17:46:00.299701900Z",
     "start_time": "2024-06-08T17:46:00.227082600Z"
    }
   },
   "id": "59624424cb0f2e64",
   "execution_count": 85
  },
  {
   "cell_type": "code",
   "outputs": [
    {
     "data": {
      "text/plain": "animal      cat\nage         4.0\nvisits        1\npriority    yes\nName: h, dtype: object"
     },
     "execution_count": 86,
     "metadata": {},
     "output_type": "execute_result"
    }
   ],
   "source": [
    "df.loc['h',]"
   ],
   "metadata": {
    "collapsed": false,
    "ExecuteTime": {
     "end_time": "2024-06-08T17:46:00.356169Z",
     "start_time": "2024-06-08T17:46:00.301702900Z"
    }
   },
   "id": "ba9a77a5c922265b",
   "execution_count": 86
  },
  {
   "cell_type": "code",
   "outputs": [
    {
     "data": {
      "text/plain": "animal      cat\nage         2.5\nvisits        1\npriority    yes\nName: a, dtype: object"
     },
     "execution_count": 87,
     "metadata": {},
     "output_type": "execute_result"
    }
   ],
   "source": [
    "df.iloc[0]"
   ],
   "metadata": {
    "collapsed": false,
    "ExecuteTime": {
     "end_time": "2024-06-08T17:46:00.430816200Z",
     "start_time": "2024-06-08T17:46:00.332367300Z"
    }
   },
   "id": "64e8fe2f07525ac6",
   "execution_count": 87
  },
  {
   "cell_type": "code",
   "outputs": [
    {
     "data": {
      "text/plain": "  animal  age  visits priority\na    cat  2.5       1      yes\nb    cat  3.0       3      yes\nd    dog  3.0       3      yes\ne    dog  5.0       2       no\ng  snake  4.5       1       no\nh    cat  4.0       1      yes\ni    dog  7.0       2       no\nj    dog  3.0       1       no",
      "text/html": "<div>\n<style scoped>\n    .dataframe tbody tr th:only-of-type {\n        vertical-align: middle;\n    }\n\n    .dataframe tbody tr th {\n        vertical-align: top;\n    }\n\n    .dataframe thead th {\n        text-align: right;\n    }\n</style>\n<table border=\"1\" class=\"dataframe\">\n  <thead>\n    <tr style=\"text-align: right;\">\n      <th></th>\n      <th>animal</th>\n      <th>age</th>\n      <th>visits</th>\n      <th>priority</th>\n    </tr>\n  </thead>\n  <tbody>\n    <tr>\n      <th>a</th>\n      <td>cat</td>\n      <td>2.5</td>\n      <td>1</td>\n      <td>yes</td>\n    </tr>\n    <tr>\n      <th>b</th>\n      <td>cat</td>\n      <td>3.0</td>\n      <td>3</td>\n      <td>yes</td>\n    </tr>\n    <tr>\n      <th>d</th>\n      <td>dog</td>\n      <td>3.0</td>\n      <td>3</td>\n      <td>yes</td>\n    </tr>\n    <tr>\n      <th>e</th>\n      <td>dog</td>\n      <td>5.0</td>\n      <td>2</td>\n      <td>no</td>\n    </tr>\n    <tr>\n      <th>g</th>\n      <td>snake</td>\n      <td>4.5</td>\n      <td>1</td>\n      <td>no</td>\n    </tr>\n    <tr>\n      <th>h</th>\n      <td>cat</td>\n      <td>4.0</td>\n      <td>1</td>\n      <td>yes</td>\n    </tr>\n    <tr>\n      <th>i</th>\n      <td>dog</td>\n      <td>7.0</td>\n      <td>2</td>\n      <td>no</td>\n    </tr>\n    <tr>\n      <th>j</th>\n      <td>dog</td>\n      <td>3.0</td>\n      <td>1</td>\n      <td>no</td>\n    </tr>\n  </tbody>\n</table>\n</div>"
     },
     "execution_count": 88,
     "metadata": {},
     "output_type": "execute_result"
    }
   ],
   "source": [
    "df[df['age'] > 2]  # фильтрация по условию\n"
   ],
   "metadata": {
    "collapsed": false,
    "ExecuteTime": {
     "end_time": "2024-06-08T17:46:00.452538200Z",
     "start_time": "2024-06-08T17:46:00.402170500Z"
    }
   },
   "id": "c4e9b745a78d1db8",
   "execution_count": 88
  },
  {
   "cell_type": "code",
   "outputs": [
    {
     "data": {
      "text/plain": "a      cat\nb      cat\nd      dog\ne      dog\ng    snake\nh      cat\ni      dog\nj      dog\nName: animal, dtype: object"
     },
     "execution_count": 89,
     "metadata": {},
     "output_type": "execute_result"
    }
   ],
   "source": [
    "df.loc[df['age'] > 2, 'animal']  # фильтрация строк по условию и выбор столбцов"
   ],
   "metadata": {
    "collapsed": false,
    "ExecuteTime": {
     "end_time": "2024-06-08T17:46:00.499675500Z",
     "start_time": "2024-06-08T17:46:00.456540400Z"
    }
   },
   "id": "f640d56f37777a4f",
   "execution_count": 89
  },
  {
   "cell_type": "code",
   "outputs": [
    {
     "data": {
      "text/plain": "  animal  age  visits priority\nd    dog  3.0       3      yes\ne    dog  5.0       2       no\ni    dog  7.0       2       no\nj    dog  3.0       1       no",
      "text/html": "<div>\n<style scoped>\n    .dataframe tbody tr th:only-of-type {\n        vertical-align: middle;\n    }\n\n    .dataframe tbody tr th {\n        vertical-align: top;\n    }\n\n    .dataframe thead th {\n        text-align: right;\n    }\n</style>\n<table border=\"1\" class=\"dataframe\">\n  <thead>\n    <tr style=\"text-align: right;\">\n      <th></th>\n      <th>animal</th>\n      <th>age</th>\n      <th>visits</th>\n      <th>priority</th>\n    </tr>\n  </thead>\n  <tbody>\n    <tr>\n      <th>d</th>\n      <td>dog</td>\n      <td>3.0</td>\n      <td>3</td>\n      <td>yes</td>\n    </tr>\n    <tr>\n      <th>e</th>\n      <td>dog</td>\n      <td>5.0</td>\n      <td>2</td>\n      <td>no</td>\n    </tr>\n    <tr>\n      <th>i</th>\n      <td>dog</td>\n      <td>7.0</td>\n      <td>2</td>\n      <td>no</td>\n    </tr>\n    <tr>\n      <th>j</th>\n      <td>dog</td>\n      <td>3.0</td>\n      <td>1</td>\n      <td>no</td>\n    </tr>\n  </tbody>\n</table>\n</div>"
     },
     "execution_count": 90,
     "metadata": {},
     "output_type": "execute_result"
    }
   ],
   "source": [
    "df_filtered = df[df['animal'] == 'dog']\n",
    "df_filtered"
   ],
   "metadata": {
    "collapsed": false,
    "ExecuteTime": {
     "end_time": "2024-06-08T17:46:00.631217800Z",
     "start_time": "2024-06-08T17:46:00.500674Z"
    }
   },
   "id": "8bfa1e3bb1788565",
   "execution_count": 90
  },
  {
   "cell_type": "code",
   "outputs": [
    {
     "data": {
      "text/plain": "  animal  age  visits priority\nd    dog  3.0       3      yes\nj    dog  3.0       1       no",
      "text/html": "<div>\n<style scoped>\n    .dataframe tbody tr th:only-of-type {\n        vertical-align: middle;\n    }\n\n    .dataframe tbody tr th {\n        vertical-align: top;\n    }\n\n    .dataframe thead th {\n        text-align: right;\n    }\n</style>\n<table border=\"1\" class=\"dataframe\">\n  <thead>\n    <tr style=\"text-align: right;\">\n      <th></th>\n      <th>animal</th>\n      <th>age</th>\n      <th>visits</th>\n      <th>priority</th>\n    </tr>\n  </thead>\n  <tbody>\n    <tr>\n      <th>d</th>\n      <td>dog</td>\n      <td>3.0</td>\n      <td>3</td>\n      <td>yes</td>\n    </tr>\n    <tr>\n      <th>j</th>\n      <td>dog</td>\n      <td>3.0</td>\n      <td>1</td>\n      <td>no</td>\n    </tr>\n  </tbody>\n</table>\n</div>"
     },
     "execution_count": 91,
     "metadata": {},
     "output_type": "execute_result"
    }
   ],
   "source": [
    "df_filtered = df[(df['animal'] == 'dog') & (df['age'] == 3)]\n",
    "df_filtered"
   ],
   "metadata": {
    "collapsed": false,
    "ExecuteTime": {
     "end_time": "2024-06-08T17:46:00.661221800Z",
     "start_time": "2024-06-08T17:46:00.580390500Z"
    }
   },
   "id": "7ca76cd43acf22c0",
   "execution_count": 91
  },
  {
   "cell_type": "code",
   "outputs": [
    {
     "data": {
      "text/plain": "  animal  age  visits priority\na    cat  2.5       1      yes\nb    cat  3.0       3      yes\nc  snake  0.5       2       no\nd    dog  3.0       3      yes\ne    dog  5.0       2       no\nf    cat  2.0       3       no\ng  snake  4.5       1       no\nh    cat  4.0       1      yes\ni    dog  7.0       2       no\nj    dog  3.0       1       no",
      "text/html": "<div>\n<style scoped>\n    .dataframe tbody tr th:only-of-type {\n        vertical-align: middle;\n    }\n\n    .dataframe tbody tr th {\n        vertical-align: top;\n    }\n\n    .dataframe thead th {\n        text-align: right;\n    }\n</style>\n<table border=\"1\" class=\"dataframe\">\n  <thead>\n    <tr style=\"text-align: right;\">\n      <th></th>\n      <th>animal</th>\n      <th>age</th>\n      <th>visits</th>\n      <th>priority</th>\n    </tr>\n  </thead>\n  <tbody>\n    <tr>\n      <th>a</th>\n      <td>cat</td>\n      <td>2.5</td>\n      <td>1</td>\n      <td>yes</td>\n    </tr>\n    <tr>\n      <th>b</th>\n      <td>cat</td>\n      <td>3.0</td>\n      <td>3</td>\n      <td>yes</td>\n    </tr>\n    <tr>\n      <th>c</th>\n      <td>snake</td>\n      <td>0.5</td>\n      <td>2</td>\n      <td>no</td>\n    </tr>\n    <tr>\n      <th>d</th>\n      <td>dog</td>\n      <td>3.0</td>\n      <td>3</td>\n      <td>yes</td>\n    </tr>\n    <tr>\n      <th>e</th>\n      <td>dog</td>\n      <td>5.0</td>\n      <td>2</td>\n      <td>no</td>\n    </tr>\n    <tr>\n      <th>f</th>\n      <td>cat</td>\n      <td>2.0</td>\n      <td>3</td>\n      <td>no</td>\n    </tr>\n    <tr>\n      <th>g</th>\n      <td>snake</td>\n      <td>4.5</td>\n      <td>1</td>\n      <td>no</td>\n    </tr>\n    <tr>\n      <th>h</th>\n      <td>cat</td>\n      <td>4.0</td>\n      <td>1</td>\n      <td>yes</td>\n    </tr>\n    <tr>\n      <th>i</th>\n      <td>dog</td>\n      <td>7.0</td>\n      <td>2</td>\n      <td>no</td>\n    </tr>\n    <tr>\n      <th>j</th>\n      <td>dog</td>\n      <td>3.0</td>\n      <td>1</td>\n      <td>no</td>\n    </tr>\n  </tbody>\n</table>\n</div>"
     },
     "execution_count": 92,
     "metadata": {},
     "output_type": "execute_result"
    }
   ],
   "source": [
    "df_all = df.loc[:, :]\n",
    "df_all"
   ],
   "metadata": {
    "collapsed": false,
    "ExecuteTime": {
     "end_time": "2024-06-08T17:46:00.782197Z",
     "start_time": "2024-06-08T17:46:00.664219300Z"
    }
   },
   "id": "28ba772056882e86",
   "execution_count": 92
  },
  {
   "cell_type": "code",
   "outputs": [
    {
     "data": {
      "text/plain": "  animal  visits\na    cat       1\nh    cat       1",
      "text/html": "<div>\n<style scoped>\n    .dataframe tbody tr th:only-of-type {\n        vertical-align: middle;\n    }\n\n    .dataframe tbody tr th {\n        vertical-align: top;\n    }\n\n    .dataframe thead th {\n        text-align: right;\n    }\n</style>\n<table border=\"1\" class=\"dataframe\">\n  <thead>\n    <tr style=\"text-align: right;\">\n      <th></th>\n      <th>animal</th>\n      <th>visits</th>\n    </tr>\n  </thead>\n  <tbody>\n    <tr>\n      <th>a</th>\n      <td>cat</td>\n      <td>1</td>\n    </tr>\n    <tr>\n      <th>h</th>\n      <td>cat</td>\n      <td>1</td>\n    </tr>\n  </tbody>\n</table>\n</div>"
     },
     "execution_count": 93,
     "metadata": {},
     "output_type": "execute_result"
    }
   ],
   "source": [
    "df_part = df.loc[['a', 'h'], ['animal', 'visits']]\n",
    "df_part"
   ],
   "metadata": {
    "collapsed": false,
    "ExecuteTime": {
     "end_time": "2024-06-08T17:46:00.853612200Z",
     "start_time": "2024-06-08T17:46:00.706644400Z"
    }
   },
   "id": "d20becfeca0c5556",
   "execution_count": 93
  },
  {
   "cell_type": "code",
   "outputs": [
    {
     "name": "stdout",
     "output_type": "stream",
     "text": [
      "  animal  age  visits priority\n",
      "d    dog  3.0       3      yes\n",
      "e    dog  5.0       2       no\n",
      "i    dog  7.0       2       no\n",
      "j    dog  3.0       1       no\n"
     ]
    }
   ],
   "source": [
    "result = df.loc[lambda x: x['animal'] == 'dog']\n",
    "print (result)"
   ],
   "metadata": {
    "collapsed": false,
    "ExecuteTime": {
     "end_time": "2024-06-08T17:46:00.961774300Z",
     "start_time": "2024-06-08T17:46:00.821274800Z"
    }
   },
   "id": "6da427801c57b9c6",
   "execution_count": 94
  },
  {
   "cell_type": "markdown",
   "source": [
    "# Загрузка данных в Pandas  "
   ],
   "metadata": {
    "collapsed": false
   },
   "id": "de145edc6accb09c"
  },
  {
   "cell_type": "code",
   "outputs": [
    {
     "data": {
      "text/plain": "          id  order_date ship_mode customer_id     sales\n0     100006  2014-09-07  Standard    DK-13375   377.970\n1     100090  2014-07-08  Standard    EB-13705   699.192\n2     100293  2014-03-14  Standard    NF-18475    91.056\n3     100328  2014-01-28  Standard    JC-15340     3.928\n4     100363  2014-04-08  Standard    JM-15655    21.376\n...      ...         ...       ...         ...       ...\n5004  168802  2017-11-03  Standard    JO-15145    18.368\n5005  169320  2017-07-23    Second    LH-16900   171.430\n5006  169488  2017-09-07     First    AA-10375    56.860\n5007  169502  2017-08-28  Standard    MG-17650   113.410\n5008  169551  2017-07-07     First    RL-19615  1344.838\n\n[5009 rows x 5 columns]",
      "text/html": "<div>\n<style scoped>\n    .dataframe tbody tr th:only-of-type {\n        vertical-align: middle;\n    }\n\n    .dataframe tbody tr th {\n        vertical-align: top;\n    }\n\n    .dataframe thead th {\n        text-align: right;\n    }\n</style>\n<table border=\"1\" class=\"dataframe\">\n  <thead>\n    <tr style=\"text-align: right;\">\n      <th></th>\n      <th>id</th>\n      <th>order_date</th>\n      <th>ship_mode</th>\n      <th>customer_id</th>\n      <th>sales</th>\n    </tr>\n  </thead>\n  <tbody>\n    <tr>\n      <th>0</th>\n      <td>100006</td>\n      <td>2014-09-07</td>\n      <td>Standard</td>\n      <td>DK-13375</td>\n      <td>377.970</td>\n    </tr>\n    <tr>\n      <th>1</th>\n      <td>100090</td>\n      <td>2014-07-08</td>\n      <td>Standard</td>\n      <td>EB-13705</td>\n      <td>699.192</td>\n    </tr>\n    <tr>\n      <th>2</th>\n      <td>100293</td>\n      <td>2014-03-14</td>\n      <td>Standard</td>\n      <td>NF-18475</td>\n      <td>91.056</td>\n    </tr>\n    <tr>\n      <th>3</th>\n      <td>100328</td>\n      <td>2014-01-28</td>\n      <td>Standard</td>\n      <td>JC-15340</td>\n      <td>3.928</td>\n    </tr>\n    <tr>\n      <th>4</th>\n      <td>100363</td>\n      <td>2014-04-08</td>\n      <td>Standard</td>\n      <td>JM-15655</td>\n      <td>21.376</td>\n    </tr>\n    <tr>\n      <th>...</th>\n      <td>...</td>\n      <td>...</td>\n      <td>...</td>\n      <td>...</td>\n      <td>...</td>\n    </tr>\n    <tr>\n      <th>5004</th>\n      <td>168802</td>\n      <td>2017-11-03</td>\n      <td>Standard</td>\n      <td>JO-15145</td>\n      <td>18.368</td>\n    </tr>\n    <tr>\n      <th>5005</th>\n      <td>169320</td>\n      <td>2017-07-23</td>\n      <td>Second</td>\n      <td>LH-16900</td>\n      <td>171.430</td>\n    </tr>\n    <tr>\n      <th>5006</th>\n      <td>169488</td>\n      <td>2017-09-07</td>\n      <td>First</td>\n      <td>AA-10375</td>\n      <td>56.860</td>\n    </tr>\n    <tr>\n      <th>5007</th>\n      <td>169502</td>\n      <td>2017-08-28</td>\n      <td>Standard</td>\n      <td>MG-17650</td>\n      <td>113.410</td>\n    </tr>\n    <tr>\n      <th>5008</th>\n      <td>169551</td>\n      <td>2017-07-07</td>\n      <td>First</td>\n      <td>RL-19615</td>\n      <td>1344.838</td>\n    </tr>\n  </tbody>\n</table>\n<p>5009 rows × 5 columns</p>\n</div>"
     },
     "execution_count": 126,
     "metadata": {},
     "output_type": "execute_result"
    }
   ],
   "source": [
    "path = 'C:\\\\Users\\\\Rus\\dev\\\\!DS\\DS_lesson\\\\L1.4\\\\orders.csv' # Здесь должен быть полный путь к файлу(если он лежит у вас локально) или ссылка\n",
    "df = pd.read_csv(path) # Считываем наш датафрейм из csv файла\n",
    "df"
   ],
   "metadata": {
    "collapsed": false,
    "ExecuteTime": {
     "end_time": "2024-06-08T18:28:24.754020600Z",
     "start_time": "2024-06-08T18:28:24.708199500Z"
    }
   },
   "id": "d0ec2529e9a0283a",
   "execution_count": 126
  },
  {
   "cell_type": "code",
   "outputs": [
    {
     "data": {
      "text/plain": "          id  order_date ship_mode customer_id     sales  new column\n0     100006  2014-09-07  Standard    DK-13375   377.970  100383.970\n1     100090  2014-07-08  Standard    EB-13705   699.192  100789.192\n2     100293  2014-03-14  Standard    NF-18475    91.056  100384.056\n3     100328  2014-01-28  Standard    JC-15340     3.928  100331.928\n4     100363  2014-04-08  Standard    JM-15655    21.376  100384.376\n...      ...         ...       ...         ...       ...         ...\n5004  168802  2017-11-03  Standard    JO-15145    18.368  168820.368\n5005  169320  2017-07-23    Second    LH-16900   171.430  169491.430\n5006  169488  2017-09-07     First    AA-10375    56.860  169544.860\n5007  169502  2017-08-28  Standard    MG-17650   113.410  169615.410\n5008  169551  2017-07-07     First    RL-19615  1344.838  170895.838\n\n[5009 rows x 6 columns]",
      "text/html": "<div>\n<style scoped>\n    .dataframe tbody tr th:only-of-type {\n        vertical-align: middle;\n    }\n\n    .dataframe tbody tr th {\n        vertical-align: top;\n    }\n\n    .dataframe thead th {\n        text-align: right;\n    }\n</style>\n<table border=\"1\" class=\"dataframe\">\n  <thead>\n    <tr style=\"text-align: right;\">\n      <th></th>\n      <th>id</th>\n      <th>order_date</th>\n      <th>ship_mode</th>\n      <th>customer_id</th>\n      <th>sales</th>\n      <th>new column</th>\n    </tr>\n  </thead>\n  <tbody>\n    <tr>\n      <th>0</th>\n      <td>100006</td>\n      <td>2014-09-07</td>\n      <td>Standard</td>\n      <td>DK-13375</td>\n      <td>377.970</td>\n      <td>100383.970</td>\n    </tr>\n    <tr>\n      <th>1</th>\n      <td>100090</td>\n      <td>2014-07-08</td>\n      <td>Standard</td>\n      <td>EB-13705</td>\n      <td>699.192</td>\n      <td>100789.192</td>\n    </tr>\n    <tr>\n      <th>2</th>\n      <td>100293</td>\n      <td>2014-03-14</td>\n      <td>Standard</td>\n      <td>NF-18475</td>\n      <td>91.056</td>\n      <td>100384.056</td>\n    </tr>\n    <tr>\n      <th>3</th>\n      <td>100328</td>\n      <td>2014-01-28</td>\n      <td>Standard</td>\n      <td>JC-15340</td>\n      <td>3.928</td>\n      <td>100331.928</td>\n    </tr>\n    <tr>\n      <th>4</th>\n      <td>100363</td>\n      <td>2014-04-08</td>\n      <td>Standard</td>\n      <td>JM-15655</td>\n      <td>21.376</td>\n      <td>100384.376</td>\n    </tr>\n    <tr>\n      <th>...</th>\n      <td>...</td>\n      <td>...</td>\n      <td>...</td>\n      <td>...</td>\n      <td>...</td>\n      <td>...</td>\n    </tr>\n    <tr>\n      <th>5004</th>\n      <td>168802</td>\n      <td>2017-11-03</td>\n      <td>Standard</td>\n      <td>JO-15145</td>\n      <td>18.368</td>\n      <td>168820.368</td>\n    </tr>\n    <tr>\n      <th>5005</th>\n      <td>169320</td>\n      <td>2017-07-23</td>\n      <td>Second</td>\n      <td>LH-16900</td>\n      <td>171.430</td>\n      <td>169491.430</td>\n    </tr>\n    <tr>\n      <th>5006</th>\n      <td>169488</td>\n      <td>2017-09-07</td>\n      <td>First</td>\n      <td>AA-10375</td>\n      <td>56.860</td>\n      <td>169544.860</td>\n    </tr>\n    <tr>\n      <th>5007</th>\n      <td>169502</td>\n      <td>2017-08-28</td>\n      <td>Standard</td>\n      <td>MG-17650</td>\n      <td>113.410</td>\n      <td>169615.410</td>\n    </tr>\n    <tr>\n      <th>5008</th>\n      <td>169551</td>\n      <td>2017-07-07</td>\n      <td>First</td>\n      <td>RL-19615</td>\n      <td>1344.838</td>\n      <td>170895.838</td>\n    </tr>\n  </tbody>\n</table>\n<p>5009 rows × 6 columns</p>\n</div>"
     },
     "execution_count": 128,
     "metadata": {},
     "output_type": "execute_result"
    }
   ],
   "source": [
    "df['new column'] =  df['sales']+ df['id']\n",
    "df"
   ],
   "metadata": {
    "collapsed": false,
    "ExecuteTime": {
     "end_time": "2024-06-08T18:28:46.682179700Z",
     "start_time": "2024-06-08T18:28:46.650564800Z"
    }
   },
   "id": "5160e7598b514f69",
   "execution_count": 128
  },
  {
   "cell_type": "code",
   "outputs": [],
   "source": [
    "df['new column'] = df['new column'].replace(100383.970, 0)"
   ],
   "metadata": {
    "collapsed": false,
    "ExecuteTime": {
     "end_time": "2024-06-08T18:29:33.518168400Z",
     "start_time": "2024-06-08T18:29:33.487943600Z"
    }
   },
   "id": "4eba45536e12ff37",
   "execution_count": 130
  },
  {
   "cell_type": "code",
   "outputs": [
    {
     "data": {
      "text/plain": "          id  order_date ship_mode customer_id     sales  new column\n0     100006  2014-09-07  Standard    DK-13375   377.970       0.000\n1     100090  2014-07-08  Standard    EB-13705   699.192  100789.192\n2     100293  2014-03-14  Standard    NF-18475    91.056  100384.056\n3     100328  2014-01-28  Standard    JC-15340     3.928  100331.928\n4     100363  2014-04-08  Standard    JM-15655    21.376  100384.376\n...      ...         ...       ...         ...       ...         ...\n5004  168802  2017-11-03  Standard    JO-15145    18.368  168820.368\n5005  169320  2017-07-23    Second    LH-16900   171.430  169491.430\n5006  169488  2017-09-07     First    AA-10375    56.860  169544.860\n5007  169502  2017-08-28  Standard    MG-17650   113.410  169615.410\n5008  169551  2017-07-07     First    RL-19615  1344.838  170895.838\n\n[5009 rows x 6 columns]",
      "text/html": "<div>\n<style scoped>\n    .dataframe tbody tr th:only-of-type {\n        vertical-align: middle;\n    }\n\n    .dataframe tbody tr th {\n        vertical-align: top;\n    }\n\n    .dataframe thead th {\n        text-align: right;\n    }\n</style>\n<table border=\"1\" class=\"dataframe\">\n  <thead>\n    <tr style=\"text-align: right;\">\n      <th></th>\n      <th>id</th>\n      <th>order_date</th>\n      <th>ship_mode</th>\n      <th>customer_id</th>\n      <th>sales</th>\n      <th>new column</th>\n    </tr>\n  </thead>\n  <tbody>\n    <tr>\n      <th>0</th>\n      <td>100006</td>\n      <td>2014-09-07</td>\n      <td>Standard</td>\n      <td>DK-13375</td>\n      <td>377.970</td>\n      <td>0.000</td>\n    </tr>\n    <tr>\n      <th>1</th>\n      <td>100090</td>\n      <td>2014-07-08</td>\n      <td>Standard</td>\n      <td>EB-13705</td>\n      <td>699.192</td>\n      <td>100789.192</td>\n    </tr>\n    <tr>\n      <th>2</th>\n      <td>100293</td>\n      <td>2014-03-14</td>\n      <td>Standard</td>\n      <td>NF-18475</td>\n      <td>91.056</td>\n      <td>100384.056</td>\n    </tr>\n    <tr>\n      <th>3</th>\n      <td>100328</td>\n      <td>2014-01-28</td>\n      <td>Standard</td>\n      <td>JC-15340</td>\n      <td>3.928</td>\n      <td>100331.928</td>\n    </tr>\n    <tr>\n      <th>4</th>\n      <td>100363</td>\n      <td>2014-04-08</td>\n      <td>Standard</td>\n      <td>JM-15655</td>\n      <td>21.376</td>\n      <td>100384.376</td>\n    </tr>\n    <tr>\n      <th>...</th>\n      <td>...</td>\n      <td>...</td>\n      <td>...</td>\n      <td>...</td>\n      <td>...</td>\n      <td>...</td>\n    </tr>\n    <tr>\n      <th>5004</th>\n      <td>168802</td>\n      <td>2017-11-03</td>\n      <td>Standard</td>\n      <td>JO-15145</td>\n      <td>18.368</td>\n      <td>168820.368</td>\n    </tr>\n    <tr>\n      <th>5005</th>\n      <td>169320</td>\n      <td>2017-07-23</td>\n      <td>Second</td>\n      <td>LH-16900</td>\n      <td>171.430</td>\n      <td>169491.430</td>\n    </tr>\n    <tr>\n      <th>5006</th>\n      <td>169488</td>\n      <td>2017-09-07</td>\n      <td>First</td>\n      <td>AA-10375</td>\n      <td>56.860</td>\n      <td>169544.860</td>\n    </tr>\n    <tr>\n      <th>5007</th>\n      <td>169502</td>\n      <td>2017-08-28</td>\n      <td>Standard</td>\n      <td>MG-17650</td>\n      <td>113.410</td>\n      <td>169615.410</td>\n    </tr>\n    <tr>\n      <th>5008</th>\n      <td>169551</td>\n      <td>2017-07-07</td>\n      <td>First</td>\n      <td>RL-19615</td>\n      <td>1344.838</td>\n      <td>170895.838</td>\n    </tr>\n  </tbody>\n</table>\n<p>5009 rows × 6 columns</p>\n</div>"
     },
     "execution_count": 131,
     "metadata": {},
     "output_type": "execute_result"
    }
   ],
   "source": [
    "df"
   ],
   "metadata": {
    "collapsed": false,
    "ExecuteTime": {
     "end_time": "2024-06-08T18:29:38.932052300Z",
     "start_time": "2024-06-08T18:29:38.906436900Z"
    }
   },
   "id": "870c6b5037e219f",
   "execution_count": 131
  },
  {
   "cell_type": "code",
   "outputs": [
    {
     "data": {
      "text/plain": "          id  order_date ship_mode customer_id     sales\n0     100006  2014-09-07  Standard    DK-13375   377.970\n1     100090  2014-07-08  Standard    EB-13705   699.192\n2     100293  2014-03-14  Standard    NF-18475    91.056\n3     100328  2014-01-28  Standard    JC-15340     3.928\n4     100363  2014-04-08  Standard    JM-15655    21.376\n...      ...         ...       ...         ...       ...\n5004  168802  2017-11-03  Standard    JO-15145    18.368\n5005  169320  2017-07-23    Second    LH-16900   171.430\n5006  169488  2017-09-07     First    AA-10375    56.860\n5007  169502  2017-08-28  Standard    MG-17650   113.410\n5008  169551  2017-07-07     First    RL-19615  1344.838\n\n[5009 rows x 5 columns]",
      "text/html": "<div>\n<style scoped>\n    .dataframe tbody tr th:only-of-type {\n        vertical-align: middle;\n    }\n\n    .dataframe tbody tr th {\n        vertical-align: top;\n    }\n\n    .dataframe thead th {\n        text-align: right;\n    }\n</style>\n<table border=\"1\" class=\"dataframe\">\n  <thead>\n    <tr style=\"text-align: right;\">\n      <th></th>\n      <th>id</th>\n      <th>order_date</th>\n      <th>ship_mode</th>\n      <th>customer_id</th>\n      <th>sales</th>\n    </tr>\n  </thead>\n  <tbody>\n    <tr>\n      <th>0</th>\n      <td>100006</td>\n      <td>2014-09-07</td>\n      <td>Standard</td>\n      <td>DK-13375</td>\n      <td>377.970</td>\n    </tr>\n    <tr>\n      <th>1</th>\n      <td>100090</td>\n      <td>2014-07-08</td>\n      <td>Standard</td>\n      <td>EB-13705</td>\n      <td>699.192</td>\n    </tr>\n    <tr>\n      <th>2</th>\n      <td>100293</td>\n      <td>2014-03-14</td>\n      <td>Standard</td>\n      <td>NF-18475</td>\n      <td>91.056</td>\n    </tr>\n    <tr>\n      <th>3</th>\n      <td>100328</td>\n      <td>2014-01-28</td>\n      <td>Standard</td>\n      <td>JC-15340</td>\n      <td>3.928</td>\n    </tr>\n    <tr>\n      <th>4</th>\n      <td>100363</td>\n      <td>2014-04-08</td>\n      <td>Standard</td>\n      <td>JM-15655</td>\n      <td>21.376</td>\n    </tr>\n    <tr>\n      <th>...</th>\n      <td>...</td>\n      <td>...</td>\n      <td>...</td>\n      <td>...</td>\n      <td>...</td>\n    </tr>\n    <tr>\n      <th>5004</th>\n      <td>168802</td>\n      <td>2017-11-03</td>\n      <td>Standard</td>\n      <td>JO-15145</td>\n      <td>18.368</td>\n    </tr>\n    <tr>\n      <th>5005</th>\n      <td>169320</td>\n      <td>2017-07-23</td>\n      <td>Second</td>\n      <td>LH-16900</td>\n      <td>171.430</td>\n    </tr>\n    <tr>\n      <th>5006</th>\n      <td>169488</td>\n      <td>2017-09-07</td>\n      <td>First</td>\n      <td>AA-10375</td>\n      <td>56.860</td>\n    </tr>\n    <tr>\n      <th>5007</th>\n      <td>169502</td>\n      <td>2017-08-28</td>\n      <td>Standard</td>\n      <td>MG-17650</td>\n      <td>113.410</td>\n    </tr>\n    <tr>\n      <th>5008</th>\n      <td>169551</td>\n      <td>2017-07-07</td>\n      <td>First</td>\n      <td>RL-19615</td>\n      <td>1344.838</td>\n    </tr>\n  </tbody>\n</table>\n<p>5009 rows × 5 columns</p>\n</div>"
     },
     "execution_count": 132,
     "metadata": {},
     "output_type": "execute_result"
    }
   ],
   "source": [
    "df = df.drop('new column', axis=1) # Указываем axis=1, чтобы удалять столбец, а не строки\n",
    "df"
   ],
   "metadata": {
    "collapsed": false,
    "ExecuteTime": {
     "end_time": "2024-06-08T18:35:03.834119900Z",
     "start_time": "2024-06-08T18:35:03.819583900Z"
    }
   },
   "id": "34ec1a98622e7cad",
   "execution_count": 132
  },
  {
   "cell_type": "code",
   "outputs": [
    {
     "data": {
      "text/plain": "          id  order_date ship_mode customer_id     sales\n0     100006  2014-09-07  Standard    DK-13375   377.970\n1     100090  2014-07-08  Standard    EB-13705   699.192\n2     100293  2014-03-14  Standard    NF-18475    91.056\n3     100328  2014-01-28  Standard    JC-15340     3.928\n4     100363  2014-04-08  Standard    JM-15655    21.376\n...      ...         ...       ...         ...       ...\n5004  168802  2017-11-03  Standard    JO-15145    18.368\n5005  169320  2017-07-23    Second    LH-16900   171.430\n5006  169488  2017-09-07     First    AA-10375    56.860\n5007  169502  2017-08-28  Standard    MG-17650   113.410\n5008  169551  2017-07-07     First    RL-19615  1344.838\n\n[5009 rows x 5 columns]",
      "text/html": "<div>\n<style scoped>\n    .dataframe tbody tr th:only-of-type {\n        vertical-align: middle;\n    }\n\n    .dataframe tbody tr th {\n        vertical-align: top;\n    }\n\n    .dataframe thead th {\n        text-align: right;\n    }\n</style>\n<table border=\"1\" class=\"dataframe\">\n  <thead>\n    <tr style=\"text-align: right;\">\n      <th></th>\n      <th>id</th>\n      <th>order_date</th>\n      <th>ship_mode</th>\n      <th>customer_id</th>\n      <th>sales</th>\n    </tr>\n  </thead>\n  <tbody>\n    <tr>\n      <th>0</th>\n      <td>100006</td>\n      <td>2014-09-07</td>\n      <td>Standard</td>\n      <td>DK-13375</td>\n      <td>377.970</td>\n    </tr>\n    <tr>\n      <th>1</th>\n      <td>100090</td>\n      <td>2014-07-08</td>\n      <td>Standard</td>\n      <td>EB-13705</td>\n      <td>699.192</td>\n    </tr>\n    <tr>\n      <th>2</th>\n      <td>100293</td>\n      <td>2014-03-14</td>\n      <td>Standard</td>\n      <td>NF-18475</td>\n      <td>91.056</td>\n    </tr>\n    <tr>\n      <th>3</th>\n      <td>100328</td>\n      <td>2014-01-28</td>\n      <td>Standard</td>\n      <td>JC-15340</td>\n      <td>3.928</td>\n    </tr>\n    <tr>\n      <th>4</th>\n      <td>100363</td>\n      <td>2014-04-08</td>\n      <td>Standard</td>\n      <td>JM-15655</td>\n      <td>21.376</td>\n    </tr>\n    <tr>\n      <th>...</th>\n      <td>...</td>\n      <td>...</td>\n      <td>...</td>\n      <td>...</td>\n      <td>...</td>\n    </tr>\n    <tr>\n      <th>5004</th>\n      <td>168802</td>\n      <td>2017-11-03</td>\n      <td>Standard</td>\n      <td>JO-15145</td>\n      <td>18.368</td>\n    </tr>\n    <tr>\n      <th>5005</th>\n      <td>169320</td>\n      <td>2017-07-23</td>\n      <td>Second</td>\n      <td>LH-16900</td>\n      <td>171.430</td>\n    </tr>\n    <tr>\n      <th>5006</th>\n      <td>169488</td>\n      <td>2017-09-07</td>\n      <td>First</td>\n      <td>AA-10375</td>\n      <td>56.860</td>\n    </tr>\n    <tr>\n      <th>5007</th>\n      <td>169502</td>\n      <td>2017-08-28</td>\n      <td>Standard</td>\n      <td>MG-17650</td>\n      <td>113.410</td>\n    </tr>\n    <tr>\n      <th>5008</th>\n      <td>169551</td>\n      <td>2017-07-07</td>\n      <td>First</td>\n      <td>RL-19615</td>\n      <td>1344.838</td>\n    </tr>\n  </tbody>\n</table>\n<p>5009 rows × 5 columns</p>\n</div>"
     },
     "execution_count": 134,
     "metadata": {},
     "output_type": "execute_result"
    }
   ],
   "source": [
    "df = df.drop_duplicates() # Удаляет первое вхождение дубликатов данных\n",
    "df"
   ],
   "metadata": {
    "collapsed": false,
    "ExecuteTime": {
     "end_time": "2024-06-08T18:35:42.762641500Z",
     "start_time": "2024-06-08T18:35:42.746665300Z"
    }
   },
   "id": "effdfc570580e54e",
   "execution_count": 134
  },
  {
   "cell_type": "code",
   "outputs": [
    {
     "data": {
      "text/plain": "          id  order_date ship_mode customer_id    sales\n7     100706  2014-12-16    Second    LE-16810  129.440\n14    100972  2014-11-19    Second    DB-13360  166.440\n16    101175  2014-12-09  Standard    DM-12955  100.704\n18    101364  2014-12-22  Standard    TW-21025  296.712\n19    101392  2014-12-07  Standard    AS-10630  269.360\n...      ...         ...       ...         ...      ...\n4989  165869  2017-07-31  Standard    LS-17200  173.400\n4999  167570  2017-12-08  Standard    EG-13900  215.544\n5002  168613  2017-10-08  Standard    GM-14440  145.764\n5005  169320  2017-07-23    Second    LH-16900  171.430\n5007  169502  2017-08-28  Standard    MG-17650  113.410\n\n[1093 rows x 5 columns]",
      "text/html": "<div>\n<style scoped>\n    .dataframe tbody tr th:only-of-type {\n        vertical-align: middle;\n    }\n\n    .dataframe tbody tr th {\n        vertical-align: top;\n    }\n\n    .dataframe thead th {\n        text-align: right;\n    }\n</style>\n<table border=\"1\" class=\"dataframe\">\n  <thead>\n    <tr style=\"text-align: right;\">\n      <th></th>\n      <th>id</th>\n      <th>order_date</th>\n      <th>ship_mode</th>\n      <th>customer_id</th>\n      <th>sales</th>\n    </tr>\n  </thead>\n  <tbody>\n    <tr>\n      <th>7</th>\n      <td>100706</td>\n      <td>2014-12-16</td>\n      <td>Second</td>\n      <td>LE-16810</td>\n      <td>129.440</td>\n    </tr>\n    <tr>\n      <th>14</th>\n      <td>100972</td>\n      <td>2014-11-19</td>\n      <td>Second</td>\n      <td>DB-13360</td>\n      <td>166.440</td>\n    </tr>\n    <tr>\n      <th>16</th>\n      <td>101175</td>\n      <td>2014-12-09</td>\n      <td>Standard</td>\n      <td>DM-12955</td>\n      <td>100.704</td>\n    </tr>\n    <tr>\n      <th>18</th>\n      <td>101364</td>\n      <td>2014-12-22</td>\n      <td>Standard</td>\n      <td>TW-21025</td>\n      <td>296.712</td>\n    </tr>\n    <tr>\n      <th>19</th>\n      <td>101392</td>\n      <td>2014-12-07</td>\n      <td>Standard</td>\n      <td>AS-10630</td>\n      <td>269.360</td>\n    </tr>\n    <tr>\n      <th>...</th>\n      <td>...</td>\n      <td>...</td>\n      <td>...</td>\n      <td>...</td>\n      <td>...</td>\n    </tr>\n    <tr>\n      <th>4989</th>\n      <td>165869</td>\n      <td>2017-07-31</td>\n      <td>Standard</td>\n      <td>LS-17200</td>\n      <td>173.400</td>\n    </tr>\n    <tr>\n      <th>4999</th>\n      <td>167570</td>\n      <td>2017-12-08</td>\n      <td>Standard</td>\n      <td>EG-13900</td>\n      <td>215.544</td>\n    </tr>\n    <tr>\n      <th>5002</th>\n      <td>168613</td>\n      <td>2017-10-08</td>\n      <td>Standard</td>\n      <td>GM-14440</td>\n      <td>145.764</td>\n    </tr>\n    <tr>\n      <th>5005</th>\n      <td>169320</td>\n      <td>2017-07-23</td>\n      <td>Second</td>\n      <td>LH-16900</td>\n      <td>171.430</td>\n    </tr>\n    <tr>\n      <th>5007</th>\n      <td>169502</td>\n      <td>2017-08-28</td>\n      <td>Standard</td>\n      <td>MG-17650</td>\n      <td>113.410</td>\n    </tr>\n  </tbody>\n</table>\n<p>1093 rows × 5 columns</p>\n</div>"
     },
     "execution_count": 138,
     "metadata": {},
     "output_type": "execute_result"
    }
   ],
   "source": [
    "df_filtered = df[(df['sales'] > 100) & (df['sales'] < 300)]\n",
    "df_filtered"
   ],
   "metadata": {
    "collapsed": false,
    "ExecuteTime": {
     "end_time": "2024-06-08T18:37:24.657641200Z",
     "start_time": "2024-06-08T18:37:24.639557700Z"
    }
   },
   "id": "a9642c689bb78915",
   "execution_count": 138
  },
  {
   "cell_type": "code",
   "outputs": [],
   "source": [
    "df_no_nulls = df.dropna(inplace=True) # Удаляем все строки с пропусками, axis=0, по умолчанию\n",
    "df_no_nulls"
   ],
   "metadata": {
    "collapsed": false,
    "ExecuteTime": {
     "end_time": "2024-06-08T18:38:24.942112100Z",
     "start_time": "2024-06-08T18:38:24.935594700Z"
    }
   },
   "id": "ee94b11458d61952",
   "execution_count": 140
  },
  {
   "cell_type": "code",
   "outputs": [],
   "source": [
    "df_filled = df.fillna(0, inplace=True) # Заполняем пропуски каким-либо значением\n",
    "df_filled"
   ],
   "metadata": {
    "collapsed": false,
    "ExecuteTime": {
     "end_time": "2024-06-08T18:39:15.472760500Z",
     "start_time": "2024-06-08T18:39:15.457212200Z"
    }
   },
   "id": "73964b9c589a61b3",
   "execution_count": 142
  },
  {
   "cell_type": "code",
   "outputs": [],
   "source": [],
   "metadata": {
    "collapsed": false
   },
   "id": "3f6466c57dfcbd1b"
  }
 ],
 "metadata": {
  "kernelspec": {
   "display_name": "Python 3",
   "language": "python",
   "name": "python3"
  },
  "language_info": {
   "codemirror_mode": {
    "name": "ipython",
    "version": 2
   },
   "file_extension": ".py",
   "mimetype": "text/x-python",
   "name": "python",
   "nbconvert_exporter": "python",
   "pygments_lexer": "ipython2",
   "version": "2.7.6"
  }
 },
 "nbformat": 4,
 "nbformat_minor": 5
}
