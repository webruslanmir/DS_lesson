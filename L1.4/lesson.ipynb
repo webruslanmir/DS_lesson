{
 "cells": [
  {
   "cell_type": "code",
   "execution_count": 1,
   "id": "464397c9",
   "metadata": {
    "ExecuteTime": {
     "end_time": "2024-10-07T10:23:23.329634800Z",
     "start_time": "2024-10-07T10:23:23.321853700Z"
    }
   },
   "outputs": [],
   "source": [
    "# %load  ../basic_imports.py\n",
    "import pandas as pd\n",
    "import numpy as np\n",
    "import matplotlib.pyplot as plt\n"
   ]
  },
  {
   "cell_type": "markdown",
   "id": "71c96cf95c89e683",
   "metadata": {
    "collapsed": false
   },
   "source": [
    "# Проверка Pandas"
   ]
  },
  {
   "cell_type": "code",
   "execution_count": 2,
   "id": "570c773ec7ff8f2d",
   "metadata": {
    "collapsed": false,
    "ExecuteTime": {
     "end_time": "2024-10-07T10:23:23.351259300Z",
     "start_time": "2024-10-07T10:23:23.328182200Z"
    }
   },
   "outputs": [
    {
     "data": {
      "text/plain": "<bound method DataFrame.info of      name  age country\n0    John   20     USA\n1   Smith   30   Japan\n2  Andrey   40  Russia>"
     },
     "metadata": {},
     "output_type": "display_data"
    },
    {
     "name": "stdout",
     "output_type": "stream",
     "text": [
      "['John' 'Smith' 'Andrey']\n"
     ]
    }
   ],
   "source": [
    "data = {\n",
    "    'name':['John', 'Smith', 'Andrey'], \n",
    "    'age':[20, 30, 40],\n",
    "    'country': ['USA', 'Japan', 'Russia'],\n",
    "}\n",
    "\n",
    "df = pd.DataFrame(data)\n",
    "\n",
    "display(df.info)\n",
    "print(df.name.to_numpy())"
   ]
  },
  {
   "cell_type": "markdown",
   "id": "9d486f2e8ffa79c2",
   "metadata": {
    "collapsed": false
   },
   "source": [
    "# Проверка Numpy"
   ]
  },
  {
   "cell_type": "code",
   "execution_count": 3,
   "id": "ea9306984a7dc323",
   "metadata": {
    "collapsed": false,
    "ExecuteTime": {
     "end_time": "2024-10-07T10:23:23.353450900Z",
     "start_time": "2024-10-07T10:23:23.347228900Z"
    }
   },
   "outputs": [
    {
     "name": "stdout",
     "output_type": "stream",
     "text": [
      "[[1 2]\n",
      " [3 4]]\n"
     ]
    }
   ],
   "source": [
    "import numpy as np\n",
    "\n",
    "y = np.array([[1, 2], [3, 4]])\n",
    "print(y)"
   ]
  },
  {
   "cell_type": "code",
   "execution_count": 4,
   "id": "545317db91bd8227",
   "metadata": {
    "collapsed": false,
    "ExecuteTime": {
     "end_time": "2024-10-07T10:23:23.411561200Z",
     "start_time": "2024-10-07T10:23:23.356729600Z"
    }
   },
   "outputs": [
    {
     "name": "stdout",
     "output_type": "stream",
     "text": [
      "  animal  age  visits priority\n",
      "a    cat  2.5       1      yes\n",
      "b    cat  3.0       3      yes\n",
      "c  snake  0.5       2       no\n",
      "d    dog  3.0       3      yes\n",
      "e    dog  5.0       2       no\n",
      "f    cat  2.0       3       no\n",
      "g  snake  4.5       1       no\n",
      "h    cat  4.0       1      yes\n",
      "i    dog  7.0       2       no\n",
      "j    dog  3.0       1       no\n"
     ]
    }
   ],
   "source": [
    "# Данная строка импортирует библиотеку пандас в вашу среду программирования.\n",
    "# Без неё все последующие методы не будут работать :)\n",
    "\n",
    "import pandas as pd \n",
    "\n",
    "data = ['cat', 'cat', 'snake', 'dog', 'dog', 'cat', 'snake', 'cat', 'dog', 'dog'] # Создадим список с данными Series\n",
    "labels = ['a', 'b', 'c', 'd', 'e', 'f', 'g', 'h', 'i', 'j'] # Создадим список с индексами Series\n",
    "s = pd.Series(data, index=labels, name='animals') # Создадим Series, обращаясь к Pandas\n",
    "\n",
    "data = {'animal': ['cat', 'cat', 'snake', 'dog', 'dog', 'cat', 'snake', 'cat', 'dog', 'dog'],\n",
    "         'age': [2.5, 3, 0.5, 3, 5, 2, 4.5, 4, 7, 3],\n",
    "         'visits': [1, 3, 2, 3, 2, 3, 1, 1, 2, 1],\n",
    "         'priority': ['yes', 'yes', 'no', 'yes', 'no', 'no', 'no', 'yes', 'no', 'no']}\n",
    "labels = ['a', 'b', 'c', 'd', 'e', 'f', 'g', 'h', 'i', 'j']\n",
    "df = pd.DataFrame(data, index=labels)\n",
    "print(df)"
   ]
  },
  {
   "cell_type": "code",
   "execution_count": 5,
   "id": "59624424cb0f2e64",
   "metadata": {
    "collapsed": false,
    "ExecuteTime": {
     "end_time": "2024-10-07T10:23:23.412924400Z",
     "start_time": "2024-10-07T10:23:23.367627100Z"
    }
   },
   "outputs": [
    {
     "data": {
      "text/plain": "a      cat\nb      cat\nc    snake\nd      dog\ne      dog\nf      cat\ng    snake\nh      cat\ni      dog\nj      dog\nName: animal, dtype: object"
     },
     "execution_count": 5,
     "metadata": {},
     "output_type": "execute_result"
    }
   ],
   "source": [
    "df['animal']"
   ]
  },
  {
   "cell_type": "code",
   "execution_count": 6,
   "id": "ba9a77a5c922265b",
   "metadata": {
    "collapsed": false,
    "ExecuteTime": {
     "end_time": "2024-10-07T10:23:23.415099Z",
     "start_time": "2024-10-07T10:23:23.377178900Z"
    }
   },
   "outputs": [
    {
     "data": {
      "text/plain": "  animal  age  visits priority\nh    cat  4.0       1      yes\ni    dog  7.0       2       no\nj    dog  3.0       1       no",
      "text/html": "<div>\n<style scoped>\n    .dataframe tbody tr th:only-of-type {\n        vertical-align: middle;\n    }\n\n    .dataframe tbody tr th {\n        vertical-align: top;\n    }\n\n    .dataframe thead th {\n        text-align: right;\n    }\n</style>\n<table border=\"1\" class=\"dataframe\">\n  <thead>\n    <tr style=\"text-align: right;\">\n      <th></th>\n      <th>animal</th>\n      <th>age</th>\n      <th>visits</th>\n      <th>priority</th>\n    </tr>\n  </thead>\n  <tbody>\n    <tr>\n      <th>h</th>\n      <td>cat</td>\n      <td>4.0</td>\n      <td>1</td>\n      <td>yes</td>\n    </tr>\n    <tr>\n      <th>i</th>\n      <td>dog</td>\n      <td>7.0</td>\n      <td>2</td>\n      <td>no</td>\n    </tr>\n    <tr>\n      <th>j</th>\n      <td>dog</td>\n      <td>3.0</td>\n      <td>1</td>\n      <td>no</td>\n    </tr>\n  </tbody>\n</table>\n</div>"
     },
     "execution_count": 6,
     "metadata": {},
     "output_type": "execute_result"
    }
   ],
   "source": [
    "df.loc['h':'j']"
   ]
  },
  {
   "cell_type": "code",
   "execution_count": 7,
   "id": "64e8fe2f07525ac6",
   "metadata": {
    "collapsed": false,
    "ExecuteTime": {
     "end_time": "2024-10-07T10:23:23.479440400Z",
     "start_time": "2024-10-07T10:23:23.399159400Z"
    }
   },
   "outputs": [
    {
     "data": {
      "text/plain": "  animal  age  visits priority\na    cat  2.5       1      yes\nb    cat  3.0       3      yes\nc  snake  0.5       2       no\nd    dog  3.0       3      yes\ne    dog  5.0       2       no",
      "text/html": "<div>\n<style scoped>\n    .dataframe tbody tr th:only-of-type {\n        vertical-align: middle;\n    }\n\n    .dataframe tbody tr th {\n        vertical-align: top;\n    }\n\n    .dataframe thead th {\n        text-align: right;\n    }\n</style>\n<table border=\"1\" class=\"dataframe\">\n  <thead>\n    <tr style=\"text-align: right;\">\n      <th></th>\n      <th>animal</th>\n      <th>age</th>\n      <th>visits</th>\n      <th>priority</th>\n    </tr>\n  </thead>\n  <tbody>\n    <tr>\n      <th>a</th>\n      <td>cat</td>\n      <td>2.5</td>\n      <td>1</td>\n      <td>yes</td>\n    </tr>\n    <tr>\n      <th>b</th>\n      <td>cat</td>\n      <td>3.0</td>\n      <td>3</td>\n      <td>yes</td>\n    </tr>\n    <tr>\n      <th>c</th>\n      <td>snake</td>\n      <td>0.5</td>\n      <td>2</td>\n      <td>no</td>\n    </tr>\n    <tr>\n      <th>d</th>\n      <td>dog</td>\n      <td>3.0</td>\n      <td>3</td>\n      <td>yes</td>\n    </tr>\n    <tr>\n      <th>e</th>\n      <td>dog</td>\n      <td>5.0</td>\n      <td>2</td>\n      <td>no</td>\n    </tr>\n  </tbody>\n</table>\n</div>"
     },
     "execution_count": 7,
     "metadata": {},
     "output_type": "execute_result"
    }
   ],
   "source": [
    "df.iloc[0:5]"
   ]
  },
  {
   "cell_type": "code",
   "execution_count": 8,
   "id": "c4e9b745a78d1db8",
   "metadata": {
    "collapsed": false,
    "ExecuteTime": {
     "end_time": "2024-10-07T10:23:23.496718400Z",
     "start_time": "2024-10-07T10:23:23.412924400Z"
    }
   },
   "outputs": [
    {
     "data": {
      "text/plain": "  animal  age  visits priority\na    cat  2.5       1      yes\nb    cat  3.0       3      yes\nd    dog  3.0       3      yes\ne    dog  5.0       2       no\ng  snake  4.5       1       no\nh    cat  4.0       1      yes\ni    dog  7.0       2       no\nj    dog  3.0       1       no",
      "text/html": "<div>\n<style scoped>\n    .dataframe tbody tr th:only-of-type {\n        vertical-align: middle;\n    }\n\n    .dataframe tbody tr th {\n        vertical-align: top;\n    }\n\n    .dataframe thead th {\n        text-align: right;\n    }\n</style>\n<table border=\"1\" class=\"dataframe\">\n  <thead>\n    <tr style=\"text-align: right;\">\n      <th></th>\n      <th>animal</th>\n      <th>age</th>\n      <th>visits</th>\n      <th>priority</th>\n    </tr>\n  </thead>\n  <tbody>\n    <tr>\n      <th>a</th>\n      <td>cat</td>\n      <td>2.5</td>\n      <td>1</td>\n      <td>yes</td>\n    </tr>\n    <tr>\n      <th>b</th>\n      <td>cat</td>\n      <td>3.0</td>\n      <td>3</td>\n      <td>yes</td>\n    </tr>\n    <tr>\n      <th>d</th>\n      <td>dog</td>\n      <td>3.0</td>\n      <td>3</td>\n      <td>yes</td>\n    </tr>\n    <tr>\n      <th>e</th>\n      <td>dog</td>\n      <td>5.0</td>\n      <td>2</td>\n      <td>no</td>\n    </tr>\n    <tr>\n      <th>g</th>\n      <td>snake</td>\n      <td>4.5</td>\n      <td>1</td>\n      <td>no</td>\n    </tr>\n    <tr>\n      <th>h</th>\n      <td>cat</td>\n      <td>4.0</td>\n      <td>1</td>\n      <td>yes</td>\n    </tr>\n    <tr>\n      <th>i</th>\n      <td>dog</td>\n      <td>7.0</td>\n      <td>2</td>\n      <td>no</td>\n    </tr>\n    <tr>\n      <th>j</th>\n      <td>dog</td>\n      <td>3.0</td>\n      <td>1</td>\n      <td>no</td>\n    </tr>\n  </tbody>\n</table>\n</div>"
     },
     "execution_count": 8,
     "metadata": {},
     "output_type": "execute_result"
    }
   ],
   "source": [
    "df[df['age'] > 2]  # фильтрация по условию\n"
   ]
  },
  {
   "cell_type": "code",
   "execution_count": 9,
   "id": "f640d56f37777a4f",
   "metadata": {
    "collapsed": false,
    "ExecuteTime": {
     "end_time": "2024-10-07T10:23:23.498904900Z",
     "start_time": "2024-10-07T10:23:23.430649300Z"
    }
   },
   "outputs": [
    {
     "data": {
      "text/plain": "a      cat\nb      cat\nd      dog\ne      dog\ng    snake\nh      cat\ni      dog\nj      dog\nName: animal, dtype: object"
     },
     "execution_count": 9,
     "metadata": {},
     "output_type": "execute_result"
    }
   ],
   "source": [
    "df.loc[df['age'] > 2, 'animal']  # фильтрация строк по условию и выбор столбцов"
   ]
  },
  {
   "cell_type": "code",
   "execution_count": 10,
   "id": "8bfa1e3bb1788565",
   "metadata": {
    "collapsed": false,
    "ExecuteTime": {
     "end_time": "2024-10-07T10:23:23.548634200Z",
     "start_time": "2024-10-07T10:23:23.450051800Z"
    }
   },
   "outputs": [
    {
     "data": {
      "text/plain": "  animal  age  visits priority\nd    dog  3.0       3      yes\ne    dog  5.0       2       no\ni    dog  7.0       2       no\nj    dog  3.0       1       no",
      "text/html": "<div>\n<style scoped>\n    .dataframe tbody tr th:only-of-type {\n        vertical-align: middle;\n    }\n\n    .dataframe tbody tr th {\n        vertical-align: top;\n    }\n\n    .dataframe thead th {\n        text-align: right;\n    }\n</style>\n<table border=\"1\" class=\"dataframe\">\n  <thead>\n    <tr style=\"text-align: right;\">\n      <th></th>\n      <th>animal</th>\n      <th>age</th>\n      <th>visits</th>\n      <th>priority</th>\n    </tr>\n  </thead>\n  <tbody>\n    <tr>\n      <th>d</th>\n      <td>dog</td>\n      <td>3.0</td>\n      <td>3</td>\n      <td>yes</td>\n    </tr>\n    <tr>\n      <th>e</th>\n      <td>dog</td>\n      <td>5.0</td>\n      <td>2</td>\n      <td>no</td>\n    </tr>\n    <tr>\n      <th>i</th>\n      <td>dog</td>\n      <td>7.0</td>\n      <td>2</td>\n      <td>no</td>\n    </tr>\n    <tr>\n      <th>j</th>\n      <td>dog</td>\n      <td>3.0</td>\n      <td>1</td>\n      <td>no</td>\n    </tr>\n  </tbody>\n</table>\n</div>"
     },
     "execution_count": 10,
     "metadata": {},
     "output_type": "execute_result"
    }
   ],
   "source": [
    "df_filtered = df[df['animal'] == 'dog']\n",
    "df_filtered"
   ]
  },
  {
   "cell_type": "code",
   "execution_count": 11,
   "id": "7ca76cd43acf22c0",
   "metadata": {
    "collapsed": false,
    "ExecuteTime": {
     "end_time": "2024-10-07T10:23:23.550791200Z",
     "start_time": "2024-10-07T10:23:23.467258800Z"
    }
   },
   "outputs": [
    {
     "data": {
      "text/plain": "  animal  age  visits priority\nd    dog  3.0       3      yes\nj    dog  3.0       1       no",
      "text/html": "<div>\n<style scoped>\n    .dataframe tbody tr th:only-of-type {\n        vertical-align: middle;\n    }\n\n    .dataframe tbody tr th {\n        vertical-align: top;\n    }\n\n    .dataframe thead th {\n        text-align: right;\n    }\n</style>\n<table border=\"1\" class=\"dataframe\">\n  <thead>\n    <tr style=\"text-align: right;\">\n      <th></th>\n      <th>animal</th>\n      <th>age</th>\n      <th>visits</th>\n      <th>priority</th>\n    </tr>\n  </thead>\n  <tbody>\n    <tr>\n      <th>d</th>\n      <td>dog</td>\n      <td>3.0</td>\n      <td>3</td>\n      <td>yes</td>\n    </tr>\n    <tr>\n      <th>j</th>\n      <td>dog</td>\n      <td>3.0</td>\n      <td>1</td>\n      <td>no</td>\n    </tr>\n  </tbody>\n</table>\n</div>"
     },
     "execution_count": 11,
     "metadata": {},
     "output_type": "execute_result"
    }
   ],
   "source": [
    "df_filtered = df[(df['animal'] == 'dog') & (df['age'] == 3)]\n",
    "df_filtered"
   ]
  },
  {
   "cell_type": "code",
   "execution_count": 12,
   "id": "28ba772056882e86",
   "metadata": {
    "collapsed": false,
    "ExecuteTime": {
     "end_time": "2024-10-07T10:23:23.604755900Z",
     "start_time": "2024-10-07T10:23:23.479440400Z"
    }
   },
   "outputs": [
    {
     "data": {
      "text/plain": "  animal  age  visits priority\na    cat  2.5       1      yes\nb    cat  3.0       3      yes\nc  snake  0.5       2       no\nd    dog  3.0       3      yes\ne    dog  5.0       2       no\nf    cat  2.0       3       no\ng  snake  4.5       1       no\nh    cat  4.0       1      yes\ni    dog  7.0       2       no\nj    dog  3.0       1       no",
      "text/html": "<div>\n<style scoped>\n    .dataframe tbody tr th:only-of-type {\n        vertical-align: middle;\n    }\n\n    .dataframe tbody tr th {\n        vertical-align: top;\n    }\n\n    .dataframe thead th {\n        text-align: right;\n    }\n</style>\n<table border=\"1\" class=\"dataframe\">\n  <thead>\n    <tr style=\"text-align: right;\">\n      <th></th>\n      <th>animal</th>\n      <th>age</th>\n      <th>visits</th>\n      <th>priority</th>\n    </tr>\n  </thead>\n  <tbody>\n    <tr>\n      <th>a</th>\n      <td>cat</td>\n      <td>2.5</td>\n      <td>1</td>\n      <td>yes</td>\n    </tr>\n    <tr>\n      <th>b</th>\n      <td>cat</td>\n      <td>3.0</td>\n      <td>3</td>\n      <td>yes</td>\n    </tr>\n    <tr>\n      <th>c</th>\n      <td>snake</td>\n      <td>0.5</td>\n      <td>2</td>\n      <td>no</td>\n    </tr>\n    <tr>\n      <th>d</th>\n      <td>dog</td>\n      <td>3.0</td>\n      <td>3</td>\n      <td>yes</td>\n    </tr>\n    <tr>\n      <th>e</th>\n      <td>dog</td>\n      <td>5.0</td>\n      <td>2</td>\n      <td>no</td>\n    </tr>\n    <tr>\n      <th>f</th>\n      <td>cat</td>\n      <td>2.0</td>\n      <td>3</td>\n      <td>no</td>\n    </tr>\n    <tr>\n      <th>g</th>\n      <td>snake</td>\n      <td>4.5</td>\n      <td>1</td>\n      <td>no</td>\n    </tr>\n    <tr>\n      <th>h</th>\n      <td>cat</td>\n      <td>4.0</td>\n      <td>1</td>\n      <td>yes</td>\n    </tr>\n    <tr>\n      <th>i</th>\n      <td>dog</td>\n      <td>7.0</td>\n      <td>2</td>\n      <td>no</td>\n    </tr>\n    <tr>\n      <th>j</th>\n      <td>dog</td>\n      <td>3.0</td>\n      <td>1</td>\n      <td>no</td>\n    </tr>\n  </tbody>\n</table>\n</div>"
     },
     "execution_count": 12,
     "metadata": {},
     "output_type": "execute_result"
    }
   ],
   "source": [
    "df_all = df.loc[:, :]\n",
    "df_all"
   ]
  },
  {
   "cell_type": "code",
   "execution_count": 13,
   "id": "d20becfeca0c5556",
   "metadata": {
    "collapsed": false,
    "ExecuteTime": {
     "end_time": "2024-10-07T10:23:23.608020Z",
     "start_time": "2024-10-07T10:23:23.492797200Z"
    }
   },
   "outputs": [
    {
     "data": {
      "text/plain": "  animal  visits\na    cat       1\nh    cat       1",
      "text/html": "<div>\n<style scoped>\n    .dataframe tbody tr th:only-of-type {\n        vertical-align: middle;\n    }\n\n    .dataframe tbody tr th {\n        vertical-align: top;\n    }\n\n    .dataframe thead th {\n        text-align: right;\n    }\n</style>\n<table border=\"1\" class=\"dataframe\">\n  <thead>\n    <tr style=\"text-align: right;\">\n      <th></th>\n      <th>animal</th>\n      <th>visits</th>\n    </tr>\n  </thead>\n  <tbody>\n    <tr>\n      <th>a</th>\n      <td>cat</td>\n      <td>1</td>\n    </tr>\n    <tr>\n      <th>h</th>\n      <td>cat</td>\n      <td>1</td>\n    </tr>\n  </tbody>\n</table>\n</div>"
     },
     "execution_count": 13,
     "metadata": {},
     "output_type": "execute_result"
    }
   ],
   "source": [
    "df_part = df.loc[['a', 'h'], ['animal', 'visits']]\n",
    "df_part"
   ]
  },
  {
   "cell_type": "code",
   "execution_count": 14,
   "id": "6da427801c57b9c6",
   "metadata": {
    "collapsed": false,
    "ExecuteTime": {
     "end_time": "2024-10-07T10:23:23.635602300Z",
     "start_time": "2024-10-07T10:23:23.506021900Z"
    }
   },
   "outputs": [
    {
     "name": "stdout",
     "output_type": "stream",
     "text": [
      "  animal  age  visits priority\n",
      "d    dog  3.0       3      yes\n",
      "e    dog  5.0       2       no\n",
      "i    dog  7.0       2       no\n",
      "j    dog  3.0       1       no\n"
     ]
    }
   ],
   "source": [
    "result = df.loc[lambda x: x['animal'] == 'dog']\n",
    "print (result)"
   ]
  },
  {
   "cell_type": "markdown",
   "id": "de145edc6accb09c",
   "metadata": {
    "collapsed": false
   },
   "source": [
    "# Загрузка данных в Pandas  "
   ]
  },
  {
   "cell_type": "code",
   "execution_count": 15,
   "id": "d0ec2529e9a0283a",
   "metadata": {
    "collapsed": false,
    "ExecuteTime": {
     "end_time": "2024-10-07T10:23:23.661207Z",
     "start_time": "2024-10-07T10:23:23.516115400Z"
    }
   },
   "outputs": [
    {
     "data": {
      "text/plain": "          id  order_date ship_mode customer_id     sales\n0     100006  2014-09-07  Standard    DK-13375   377.970\n1     100090  2014-07-08  Standard    EB-13705   699.192\n2     100293  2014-03-14  Standard    NF-18475    91.056\n3     100328  2014-01-28  Standard    JC-15340     3.928\n4     100363  2014-04-08  Standard    JM-15655    21.376\n...      ...         ...       ...         ...       ...\n5004  168802  2017-11-03  Standard    JO-15145    18.368\n5005  169320  2017-07-23    Second    LH-16900   171.430\n5006  169488  2017-09-07     First    AA-10375    56.860\n5007  169502  2017-08-28  Standard    MG-17650   113.410\n5008  169551  2017-07-07     First    RL-19615  1344.838\n\n[5009 rows x 5 columns]",
      "text/html": "<div>\n<style scoped>\n    .dataframe tbody tr th:only-of-type {\n        vertical-align: middle;\n    }\n\n    .dataframe tbody tr th {\n        vertical-align: top;\n    }\n\n    .dataframe thead th {\n        text-align: right;\n    }\n</style>\n<table border=\"1\" class=\"dataframe\">\n  <thead>\n    <tr style=\"text-align: right;\">\n      <th></th>\n      <th>id</th>\n      <th>order_date</th>\n      <th>ship_mode</th>\n      <th>customer_id</th>\n      <th>sales</th>\n    </tr>\n  </thead>\n  <tbody>\n    <tr>\n      <th>0</th>\n      <td>100006</td>\n      <td>2014-09-07</td>\n      <td>Standard</td>\n      <td>DK-13375</td>\n      <td>377.970</td>\n    </tr>\n    <tr>\n      <th>1</th>\n      <td>100090</td>\n      <td>2014-07-08</td>\n      <td>Standard</td>\n      <td>EB-13705</td>\n      <td>699.192</td>\n    </tr>\n    <tr>\n      <th>2</th>\n      <td>100293</td>\n      <td>2014-03-14</td>\n      <td>Standard</td>\n      <td>NF-18475</td>\n      <td>91.056</td>\n    </tr>\n    <tr>\n      <th>3</th>\n      <td>100328</td>\n      <td>2014-01-28</td>\n      <td>Standard</td>\n      <td>JC-15340</td>\n      <td>3.928</td>\n    </tr>\n    <tr>\n      <th>4</th>\n      <td>100363</td>\n      <td>2014-04-08</td>\n      <td>Standard</td>\n      <td>JM-15655</td>\n      <td>21.376</td>\n    </tr>\n    <tr>\n      <th>...</th>\n      <td>...</td>\n      <td>...</td>\n      <td>...</td>\n      <td>...</td>\n      <td>...</td>\n    </tr>\n    <tr>\n      <th>5004</th>\n      <td>168802</td>\n      <td>2017-11-03</td>\n      <td>Standard</td>\n      <td>JO-15145</td>\n      <td>18.368</td>\n    </tr>\n    <tr>\n      <th>5005</th>\n      <td>169320</td>\n      <td>2017-07-23</td>\n      <td>Second</td>\n      <td>LH-16900</td>\n      <td>171.430</td>\n    </tr>\n    <tr>\n      <th>5006</th>\n      <td>169488</td>\n      <td>2017-09-07</td>\n      <td>First</td>\n      <td>AA-10375</td>\n      <td>56.860</td>\n    </tr>\n    <tr>\n      <th>5007</th>\n      <td>169502</td>\n      <td>2017-08-28</td>\n      <td>Standard</td>\n      <td>MG-17650</td>\n      <td>113.410</td>\n    </tr>\n    <tr>\n      <th>5008</th>\n      <td>169551</td>\n      <td>2017-07-07</td>\n      <td>First</td>\n      <td>RL-19615</td>\n      <td>1344.838</td>\n    </tr>\n  </tbody>\n</table>\n<p>5009 rows × 5 columns</p>\n</div>"
     },
     "execution_count": 15,
     "metadata": {},
     "output_type": "execute_result"
    }
   ],
   "source": [
    "path = 'C:\\\\Users\\\\Rus\\dev\\\\!DS\\DS_lesson\\\\L1.4\\\\orders.csv' # Здесь должен быть полный путь к файлу(если он лежит у вас локально) или ссылка\n",
    "df = pd.read_csv(path) # Считываем наш датафрейм из csv файла\n",
    "df"
   ]
  },
  {
   "cell_type": "code",
   "execution_count": 16,
   "id": "5160e7598b514f69",
   "metadata": {
    "collapsed": false,
    "ExecuteTime": {
     "end_time": "2024-10-07T10:23:23.665359600Z",
     "start_time": "2024-10-07T10:23:23.542095500Z"
    }
   },
   "outputs": [
    {
     "data": {
      "text/plain": "          id  order_date ship_mode customer_id     sales  new column\n0     100006  2014-09-07  Standard    DK-13375   377.970  100383.970\n1     100090  2014-07-08  Standard    EB-13705   699.192  100789.192\n2     100293  2014-03-14  Standard    NF-18475    91.056  100384.056\n3     100328  2014-01-28  Standard    JC-15340     3.928  100331.928\n4     100363  2014-04-08  Standard    JM-15655    21.376  100384.376\n...      ...         ...       ...         ...       ...         ...\n5004  168802  2017-11-03  Standard    JO-15145    18.368  168820.368\n5005  169320  2017-07-23    Second    LH-16900   171.430  169491.430\n5006  169488  2017-09-07     First    AA-10375    56.860  169544.860\n5007  169502  2017-08-28  Standard    MG-17650   113.410  169615.410\n5008  169551  2017-07-07     First    RL-19615  1344.838  170895.838\n\n[5009 rows x 6 columns]",
      "text/html": "<div>\n<style scoped>\n    .dataframe tbody tr th:only-of-type {\n        vertical-align: middle;\n    }\n\n    .dataframe tbody tr th {\n        vertical-align: top;\n    }\n\n    .dataframe thead th {\n        text-align: right;\n    }\n</style>\n<table border=\"1\" class=\"dataframe\">\n  <thead>\n    <tr style=\"text-align: right;\">\n      <th></th>\n      <th>id</th>\n      <th>order_date</th>\n      <th>ship_mode</th>\n      <th>customer_id</th>\n      <th>sales</th>\n      <th>new column</th>\n    </tr>\n  </thead>\n  <tbody>\n    <tr>\n      <th>0</th>\n      <td>100006</td>\n      <td>2014-09-07</td>\n      <td>Standard</td>\n      <td>DK-13375</td>\n      <td>377.970</td>\n      <td>100383.970</td>\n    </tr>\n    <tr>\n      <th>1</th>\n      <td>100090</td>\n      <td>2014-07-08</td>\n      <td>Standard</td>\n      <td>EB-13705</td>\n      <td>699.192</td>\n      <td>100789.192</td>\n    </tr>\n    <tr>\n      <th>2</th>\n      <td>100293</td>\n      <td>2014-03-14</td>\n      <td>Standard</td>\n      <td>NF-18475</td>\n      <td>91.056</td>\n      <td>100384.056</td>\n    </tr>\n    <tr>\n      <th>3</th>\n      <td>100328</td>\n      <td>2014-01-28</td>\n      <td>Standard</td>\n      <td>JC-15340</td>\n      <td>3.928</td>\n      <td>100331.928</td>\n    </tr>\n    <tr>\n      <th>4</th>\n      <td>100363</td>\n      <td>2014-04-08</td>\n      <td>Standard</td>\n      <td>JM-15655</td>\n      <td>21.376</td>\n      <td>100384.376</td>\n    </tr>\n    <tr>\n      <th>...</th>\n      <td>...</td>\n      <td>...</td>\n      <td>...</td>\n      <td>...</td>\n      <td>...</td>\n      <td>...</td>\n    </tr>\n    <tr>\n      <th>5004</th>\n      <td>168802</td>\n      <td>2017-11-03</td>\n      <td>Standard</td>\n      <td>JO-15145</td>\n      <td>18.368</td>\n      <td>168820.368</td>\n    </tr>\n    <tr>\n      <th>5005</th>\n      <td>169320</td>\n      <td>2017-07-23</td>\n      <td>Second</td>\n      <td>LH-16900</td>\n      <td>171.430</td>\n      <td>169491.430</td>\n    </tr>\n    <tr>\n      <th>5006</th>\n      <td>169488</td>\n      <td>2017-09-07</td>\n      <td>First</td>\n      <td>AA-10375</td>\n      <td>56.860</td>\n      <td>169544.860</td>\n    </tr>\n    <tr>\n      <th>5007</th>\n      <td>169502</td>\n      <td>2017-08-28</td>\n      <td>Standard</td>\n      <td>MG-17650</td>\n      <td>113.410</td>\n      <td>169615.410</td>\n    </tr>\n    <tr>\n      <th>5008</th>\n      <td>169551</td>\n      <td>2017-07-07</td>\n      <td>First</td>\n      <td>RL-19615</td>\n      <td>1344.838</td>\n      <td>170895.838</td>\n    </tr>\n  </tbody>\n</table>\n<p>5009 rows × 6 columns</p>\n</div>"
     },
     "execution_count": 16,
     "metadata": {},
     "output_type": "execute_result"
    }
   ],
   "source": [
    "df['new column'] =  df['sales']+ df['id']\n",
    "df"
   ]
  },
  {
   "cell_type": "code",
   "execution_count": 17,
   "id": "4eba45536e12ff37",
   "metadata": {
    "collapsed": false,
    "ExecuteTime": {
     "end_time": "2024-10-07T10:23:23.759008500Z",
     "start_time": "2024-10-07T10:23:23.558002Z"
    }
   },
   "outputs": [],
   "source": [
    "df['new column'] = df['new column'].replace(100383.970, 0)"
   ]
  },
  {
   "cell_type": "code",
   "execution_count": 18,
   "id": "870c6b5037e219f",
   "metadata": {
    "collapsed": false,
    "ExecuteTime": {
     "end_time": "2024-10-07T10:23:23.831885400Z",
     "start_time": "2024-10-07T10:23:23.567410800Z"
    }
   },
   "outputs": [
    {
     "data": {
      "text/plain": "          id  order_date ship_mode customer_id     sales  new column\n0     100006  2014-09-07  Standard    DK-13375   377.970       0.000\n1     100090  2014-07-08  Standard    EB-13705   699.192  100789.192\n2     100293  2014-03-14  Standard    NF-18475    91.056  100384.056\n3     100328  2014-01-28  Standard    JC-15340     3.928  100331.928\n4     100363  2014-04-08  Standard    JM-15655    21.376  100384.376\n...      ...         ...       ...         ...       ...         ...\n5004  168802  2017-11-03  Standard    JO-15145    18.368  168820.368\n5005  169320  2017-07-23    Second    LH-16900   171.430  169491.430\n5006  169488  2017-09-07     First    AA-10375    56.860  169544.860\n5007  169502  2017-08-28  Standard    MG-17650   113.410  169615.410\n5008  169551  2017-07-07     First    RL-19615  1344.838  170895.838\n\n[5009 rows x 6 columns]",
      "text/html": "<div>\n<style scoped>\n    .dataframe tbody tr th:only-of-type {\n        vertical-align: middle;\n    }\n\n    .dataframe tbody tr th {\n        vertical-align: top;\n    }\n\n    .dataframe thead th {\n        text-align: right;\n    }\n</style>\n<table border=\"1\" class=\"dataframe\">\n  <thead>\n    <tr style=\"text-align: right;\">\n      <th></th>\n      <th>id</th>\n      <th>order_date</th>\n      <th>ship_mode</th>\n      <th>customer_id</th>\n      <th>sales</th>\n      <th>new column</th>\n    </tr>\n  </thead>\n  <tbody>\n    <tr>\n      <th>0</th>\n      <td>100006</td>\n      <td>2014-09-07</td>\n      <td>Standard</td>\n      <td>DK-13375</td>\n      <td>377.970</td>\n      <td>0.000</td>\n    </tr>\n    <tr>\n      <th>1</th>\n      <td>100090</td>\n      <td>2014-07-08</td>\n      <td>Standard</td>\n      <td>EB-13705</td>\n      <td>699.192</td>\n      <td>100789.192</td>\n    </tr>\n    <tr>\n      <th>2</th>\n      <td>100293</td>\n      <td>2014-03-14</td>\n      <td>Standard</td>\n      <td>NF-18475</td>\n      <td>91.056</td>\n      <td>100384.056</td>\n    </tr>\n    <tr>\n      <th>3</th>\n      <td>100328</td>\n      <td>2014-01-28</td>\n      <td>Standard</td>\n      <td>JC-15340</td>\n      <td>3.928</td>\n      <td>100331.928</td>\n    </tr>\n    <tr>\n      <th>4</th>\n      <td>100363</td>\n      <td>2014-04-08</td>\n      <td>Standard</td>\n      <td>JM-15655</td>\n      <td>21.376</td>\n      <td>100384.376</td>\n    </tr>\n    <tr>\n      <th>...</th>\n      <td>...</td>\n      <td>...</td>\n      <td>...</td>\n      <td>...</td>\n      <td>...</td>\n      <td>...</td>\n    </tr>\n    <tr>\n      <th>5004</th>\n      <td>168802</td>\n      <td>2017-11-03</td>\n      <td>Standard</td>\n      <td>JO-15145</td>\n      <td>18.368</td>\n      <td>168820.368</td>\n    </tr>\n    <tr>\n      <th>5005</th>\n      <td>169320</td>\n      <td>2017-07-23</td>\n      <td>Second</td>\n      <td>LH-16900</td>\n      <td>171.430</td>\n      <td>169491.430</td>\n    </tr>\n    <tr>\n      <th>5006</th>\n      <td>169488</td>\n      <td>2017-09-07</td>\n      <td>First</td>\n      <td>AA-10375</td>\n      <td>56.860</td>\n      <td>169544.860</td>\n    </tr>\n    <tr>\n      <th>5007</th>\n      <td>169502</td>\n      <td>2017-08-28</td>\n      <td>Standard</td>\n      <td>MG-17650</td>\n      <td>113.410</td>\n      <td>169615.410</td>\n    </tr>\n    <tr>\n      <th>5008</th>\n      <td>169551</td>\n      <td>2017-07-07</td>\n      <td>First</td>\n      <td>RL-19615</td>\n      <td>1344.838</td>\n      <td>170895.838</td>\n    </tr>\n  </tbody>\n</table>\n<p>5009 rows × 6 columns</p>\n</div>"
     },
     "execution_count": 18,
     "metadata": {},
     "output_type": "execute_result"
    }
   ],
   "source": [
    "df"
   ]
  },
  {
   "cell_type": "code",
   "execution_count": 19,
   "id": "34ec1a98622e7cad",
   "metadata": {
    "collapsed": false,
    "ExecuteTime": {
     "end_time": "2024-10-07T10:23:23.898651200Z",
     "start_time": "2024-10-07T10:23:23.589165500Z"
    }
   },
   "outputs": [
    {
     "data": {
      "text/plain": "          id  order_date ship_mode customer_id     sales\n0     100006  2014-09-07  Standard    DK-13375   377.970\n1     100090  2014-07-08  Standard    EB-13705   699.192\n2     100293  2014-03-14  Standard    NF-18475    91.056\n3     100328  2014-01-28  Standard    JC-15340     3.928\n4     100363  2014-04-08  Standard    JM-15655    21.376\n...      ...         ...       ...         ...       ...\n5004  168802  2017-11-03  Standard    JO-15145    18.368\n5005  169320  2017-07-23    Second    LH-16900   171.430\n5006  169488  2017-09-07     First    AA-10375    56.860\n5007  169502  2017-08-28  Standard    MG-17650   113.410\n5008  169551  2017-07-07     First    RL-19615  1344.838\n\n[5009 rows x 5 columns]",
      "text/html": "<div>\n<style scoped>\n    .dataframe tbody tr th:only-of-type {\n        vertical-align: middle;\n    }\n\n    .dataframe tbody tr th {\n        vertical-align: top;\n    }\n\n    .dataframe thead th {\n        text-align: right;\n    }\n</style>\n<table border=\"1\" class=\"dataframe\">\n  <thead>\n    <tr style=\"text-align: right;\">\n      <th></th>\n      <th>id</th>\n      <th>order_date</th>\n      <th>ship_mode</th>\n      <th>customer_id</th>\n      <th>sales</th>\n    </tr>\n  </thead>\n  <tbody>\n    <tr>\n      <th>0</th>\n      <td>100006</td>\n      <td>2014-09-07</td>\n      <td>Standard</td>\n      <td>DK-13375</td>\n      <td>377.970</td>\n    </tr>\n    <tr>\n      <th>1</th>\n      <td>100090</td>\n      <td>2014-07-08</td>\n      <td>Standard</td>\n      <td>EB-13705</td>\n      <td>699.192</td>\n    </tr>\n    <tr>\n      <th>2</th>\n      <td>100293</td>\n      <td>2014-03-14</td>\n      <td>Standard</td>\n      <td>NF-18475</td>\n      <td>91.056</td>\n    </tr>\n    <tr>\n      <th>3</th>\n      <td>100328</td>\n      <td>2014-01-28</td>\n      <td>Standard</td>\n      <td>JC-15340</td>\n      <td>3.928</td>\n    </tr>\n    <tr>\n      <th>4</th>\n      <td>100363</td>\n      <td>2014-04-08</td>\n      <td>Standard</td>\n      <td>JM-15655</td>\n      <td>21.376</td>\n    </tr>\n    <tr>\n      <th>...</th>\n      <td>...</td>\n      <td>...</td>\n      <td>...</td>\n      <td>...</td>\n      <td>...</td>\n    </tr>\n    <tr>\n      <th>5004</th>\n      <td>168802</td>\n      <td>2017-11-03</td>\n      <td>Standard</td>\n      <td>JO-15145</td>\n      <td>18.368</td>\n    </tr>\n    <tr>\n      <th>5005</th>\n      <td>169320</td>\n      <td>2017-07-23</td>\n      <td>Second</td>\n      <td>LH-16900</td>\n      <td>171.430</td>\n    </tr>\n    <tr>\n      <th>5006</th>\n      <td>169488</td>\n      <td>2017-09-07</td>\n      <td>First</td>\n      <td>AA-10375</td>\n      <td>56.860</td>\n    </tr>\n    <tr>\n      <th>5007</th>\n      <td>169502</td>\n      <td>2017-08-28</td>\n      <td>Standard</td>\n      <td>MG-17650</td>\n      <td>113.410</td>\n    </tr>\n    <tr>\n      <th>5008</th>\n      <td>169551</td>\n      <td>2017-07-07</td>\n      <td>First</td>\n      <td>RL-19615</td>\n      <td>1344.838</td>\n    </tr>\n  </tbody>\n</table>\n<p>5009 rows × 5 columns</p>\n</div>"
     },
     "execution_count": 19,
     "metadata": {},
     "output_type": "execute_result"
    }
   ],
   "source": [
    "df = df.drop('new column', axis=1) # Указываем axis=1, чтобы удалять столбец, а не строки\n",
    "df"
   ]
  },
  {
   "cell_type": "code",
   "execution_count": 20,
   "id": "effdfc570580e54e",
   "metadata": {
    "collapsed": false,
    "ExecuteTime": {
     "end_time": "2024-10-07T10:23:23.900857200Z",
     "start_time": "2024-10-07T10:23:23.606935800Z"
    }
   },
   "outputs": [
    {
     "data": {
      "text/plain": "          id  order_date ship_mode customer_id     sales\n0     100006  2014-09-07  Standard    DK-13375   377.970\n1     100090  2014-07-08  Standard    EB-13705   699.192\n2     100293  2014-03-14  Standard    NF-18475    91.056\n3     100328  2014-01-28  Standard    JC-15340     3.928\n4     100363  2014-04-08  Standard    JM-15655    21.376\n...      ...         ...       ...         ...       ...\n5004  168802  2017-11-03  Standard    JO-15145    18.368\n5005  169320  2017-07-23    Second    LH-16900   171.430\n5006  169488  2017-09-07     First    AA-10375    56.860\n5007  169502  2017-08-28  Standard    MG-17650   113.410\n5008  169551  2017-07-07     First    RL-19615  1344.838\n\n[5009 rows x 5 columns]",
      "text/html": "<div>\n<style scoped>\n    .dataframe tbody tr th:only-of-type {\n        vertical-align: middle;\n    }\n\n    .dataframe tbody tr th {\n        vertical-align: top;\n    }\n\n    .dataframe thead th {\n        text-align: right;\n    }\n</style>\n<table border=\"1\" class=\"dataframe\">\n  <thead>\n    <tr style=\"text-align: right;\">\n      <th></th>\n      <th>id</th>\n      <th>order_date</th>\n      <th>ship_mode</th>\n      <th>customer_id</th>\n      <th>sales</th>\n    </tr>\n  </thead>\n  <tbody>\n    <tr>\n      <th>0</th>\n      <td>100006</td>\n      <td>2014-09-07</td>\n      <td>Standard</td>\n      <td>DK-13375</td>\n      <td>377.970</td>\n    </tr>\n    <tr>\n      <th>1</th>\n      <td>100090</td>\n      <td>2014-07-08</td>\n      <td>Standard</td>\n      <td>EB-13705</td>\n      <td>699.192</td>\n    </tr>\n    <tr>\n      <th>2</th>\n      <td>100293</td>\n      <td>2014-03-14</td>\n      <td>Standard</td>\n      <td>NF-18475</td>\n      <td>91.056</td>\n    </tr>\n    <tr>\n      <th>3</th>\n      <td>100328</td>\n      <td>2014-01-28</td>\n      <td>Standard</td>\n      <td>JC-15340</td>\n      <td>3.928</td>\n    </tr>\n    <tr>\n      <th>4</th>\n      <td>100363</td>\n      <td>2014-04-08</td>\n      <td>Standard</td>\n      <td>JM-15655</td>\n      <td>21.376</td>\n    </tr>\n    <tr>\n      <th>...</th>\n      <td>...</td>\n      <td>...</td>\n      <td>...</td>\n      <td>...</td>\n      <td>...</td>\n    </tr>\n    <tr>\n      <th>5004</th>\n      <td>168802</td>\n      <td>2017-11-03</td>\n      <td>Standard</td>\n      <td>JO-15145</td>\n      <td>18.368</td>\n    </tr>\n    <tr>\n      <th>5005</th>\n      <td>169320</td>\n      <td>2017-07-23</td>\n      <td>Second</td>\n      <td>LH-16900</td>\n      <td>171.430</td>\n    </tr>\n    <tr>\n      <th>5006</th>\n      <td>169488</td>\n      <td>2017-09-07</td>\n      <td>First</td>\n      <td>AA-10375</td>\n      <td>56.860</td>\n    </tr>\n    <tr>\n      <th>5007</th>\n      <td>169502</td>\n      <td>2017-08-28</td>\n      <td>Standard</td>\n      <td>MG-17650</td>\n      <td>113.410</td>\n    </tr>\n    <tr>\n      <th>5008</th>\n      <td>169551</td>\n      <td>2017-07-07</td>\n      <td>First</td>\n      <td>RL-19615</td>\n      <td>1344.838</td>\n    </tr>\n  </tbody>\n</table>\n<p>5009 rows × 5 columns</p>\n</div>"
     },
     "execution_count": 20,
     "metadata": {},
     "output_type": "execute_result"
    }
   ],
   "source": [
    "df = df.drop_duplicates() # Удаляет первое вхождение дубликатов данных\n",
    "df"
   ]
  },
  {
   "cell_type": "code",
   "execution_count": 21,
   "id": "a9642c689bb78915",
   "metadata": {
    "collapsed": false,
    "ExecuteTime": {
     "end_time": "2024-10-07T10:23:23.916430500Z",
     "start_time": "2024-10-07T10:23:23.628741300Z"
    }
   },
   "outputs": [
    {
     "data": {
      "text/plain": "          id  order_date ship_mode customer_id    sales\n7     100706  2014-12-16    Second    LE-16810  129.440\n14    100972  2014-11-19    Second    DB-13360  166.440\n16    101175  2014-12-09  Standard    DM-12955  100.704\n18    101364  2014-12-22  Standard    TW-21025  296.712\n19    101392  2014-12-07  Standard    AS-10630  269.360\n...      ...         ...       ...         ...      ...\n4989  165869  2017-07-31  Standard    LS-17200  173.400\n4999  167570  2017-12-08  Standard    EG-13900  215.544\n5002  168613  2017-10-08  Standard    GM-14440  145.764\n5005  169320  2017-07-23    Second    LH-16900  171.430\n5007  169502  2017-08-28  Standard    MG-17650  113.410\n\n[1093 rows x 5 columns]",
      "text/html": "<div>\n<style scoped>\n    .dataframe tbody tr th:only-of-type {\n        vertical-align: middle;\n    }\n\n    .dataframe tbody tr th {\n        vertical-align: top;\n    }\n\n    .dataframe thead th {\n        text-align: right;\n    }\n</style>\n<table border=\"1\" class=\"dataframe\">\n  <thead>\n    <tr style=\"text-align: right;\">\n      <th></th>\n      <th>id</th>\n      <th>order_date</th>\n      <th>ship_mode</th>\n      <th>customer_id</th>\n      <th>sales</th>\n    </tr>\n  </thead>\n  <tbody>\n    <tr>\n      <th>7</th>\n      <td>100706</td>\n      <td>2014-12-16</td>\n      <td>Second</td>\n      <td>LE-16810</td>\n      <td>129.440</td>\n    </tr>\n    <tr>\n      <th>14</th>\n      <td>100972</td>\n      <td>2014-11-19</td>\n      <td>Second</td>\n      <td>DB-13360</td>\n      <td>166.440</td>\n    </tr>\n    <tr>\n      <th>16</th>\n      <td>101175</td>\n      <td>2014-12-09</td>\n      <td>Standard</td>\n      <td>DM-12955</td>\n      <td>100.704</td>\n    </tr>\n    <tr>\n      <th>18</th>\n      <td>101364</td>\n      <td>2014-12-22</td>\n      <td>Standard</td>\n      <td>TW-21025</td>\n      <td>296.712</td>\n    </tr>\n    <tr>\n      <th>19</th>\n      <td>101392</td>\n      <td>2014-12-07</td>\n      <td>Standard</td>\n      <td>AS-10630</td>\n      <td>269.360</td>\n    </tr>\n    <tr>\n      <th>...</th>\n      <td>...</td>\n      <td>...</td>\n      <td>...</td>\n      <td>...</td>\n      <td>...</td>\n    </tr>\n    <tr>\n      <th>4989</th>\n      <td>165869</td>\n      <td>2017-07-31</td>\n      <td>Standard</td>\n      <td>LS-17200</td>\n      <td>173.400</td>\n    </tr>\n    <tr>\n      <th>4999</th>\n      <td>167570</td>\n      <td>2017-12-08</td>\n      <td>Standard</td>\n      <td>EG-13900</td>\n      <td>215.544</td>\n    </tr>\n    <tr>\n      <th>5002</th>\n      <td>168613</td>\n      <td>2017-10-08</td>\n      <td>Standard</td>\n      <td>GM-14440</td>\n      <td>145.764</td>\n    </tr>\n    <tr>\n      <th>5005</th>\n      <td>169320</td>\n      <td>2017-07-23</td>\n      <td>Second</td>\n      <td>LH-16900</td>\n      <td>171.430</td>\n    </tr>\n    <tr>\n      <th>5007</th>\n      <td>169502</td>\n      <td>2017-08-28</td>\n      <td>Standard</td>\n      <td>MG-17650</td>\n      <td>113.410</td>\n    </tr>\n  </tbody>\n</table>\n<p>1093 rows × 5 columns</p>\n</div>"
     },
     "execution_count": 21,
     "metadata": {},
     "output_type": "execute_result"
    }
   ],
   "source": [
    "df_filtered = df[(df['sales'] > 100) & (df['sales'] < 300)]\n",
    "df_filtered\n"
   ]
  },
  {
   "cell_type": "code",
   "execution_count": 22,
   "id": "ee94b11458d61952",
   "metadata": {
    "collapsed": false,
    "ExecuteTime": {
     "end_time": "2024-10-07T10:23:23.917519600Z",
     "start_time": "2024-10-07T10:23:23.642886400Z"
    }
   },
   "outputs": [],
   "source": [
    "df_no_nulls = df.dropna(inplace=True) # Удаляем все строки с пропусками, axis=0, по умолчанию\n",
    "df_no_nulls"
   ]
  },
  {
   "cell_type": "code",
   "execution_count": 23,
   "id": "73964b9c589a61b3",
   "metadata": {
    "collapsed": false,
    "ExecuteTime": {
     "end_time": "2024-10-07T10:23:23.918671400Z",
     "start_time": "2024-10-07T10:23:23.651977800Z"
    }
   },
   "outputs": [],
   "source": [
    "df_filled = df.fillna(0, inplace=True) # Заполняем пропуски каким-либо значением\n",
    "df_filled"
   ]
  },
  {
   "cell_type": "code",
   "execution_count": 23,
   "id": "3f6466c57dfcbd1b",
   "metadata": {
    "collapsed": false,
    "ExecuteTime": {
     "end_time": "2024-10-07T10:23:23.920920Z",
     "start_time": "2024-10-07T10:23:23.662433200Z"
    }
   },
   "outputs": [],
   "source": []
  }
 ],
 "metadata": {
  "kernelspec": {
   "display_name": "Python 3",
   "language": "python",
   "name": "python3"
  },
  "language_info": {
   "codemirror_mode": {
    "name": "ipython",
    "version": 3
   },
   "file_extension": ".py",
   "mimetype": "text/x-python",
   "name": "python",
   "nbconvert_exporter": "python",
   "pygments_lexer": "ipython3",
   "version": "3.11.9"
  }
 },
 "nbformat": 4,
 "nbformat_minor": 5
}
