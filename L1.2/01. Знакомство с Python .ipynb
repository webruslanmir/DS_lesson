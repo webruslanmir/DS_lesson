{
  "cells": [
    {
      "attachments": {},
      "cell_type": "markdown",
      "metadata": {
        "id": "awD_oBRJNOC0"
      },
      "source": [
        "# Описание типов и структур данных Python"
      ]
    },
    {
      "cell_type": "code",
      "execution_count": 1,
      "metadata": {},
      "outputs": [
        {
          "name": "stdout",
          "output_type": "stream",
          "text": [
            "Hello world!\n"
          ]
        }
      ],
      "source": [
        "print('Hello world!') # Функция print - выводит на экран какие-либо значения"
      ]
    },
    {
      "cell_type": "code",
      "execution_count": 2,
      "metadata": {},
      "outputs": [
        {
          "name": "stdout",
          "output_type": "stream",
          "text": [
            "asdasdasd\n"
          ]
        }
      ],
      "source": [
        "print('asdasdasd')"
      ]
    },
    {
      "cell_type": "code",
      "execution_count": 3,
      "metadata": {},
      "outputs": [
        {
          "name": "stdout",
          "output_type": "stream",
          "text": [
            "2\n"
          ]
        }
      ],
      "source": [
        "print(2)"
      ]
    },
    {
      "attachments": {},
      "cell_type": "markdown",
      "metadata": {},
      "source": [
        "## Стандартные вычислительные операции"
      ]
    },
    {
      "cell_type": "code",
      "execution_count": 4,
      "metadata": {
        "colab": {
          "base_uri": "https://localhost:8080/"
        },
        "id": "6ZGIKRtMNOC3",
        "outputId": "901131b1-e1f7-457d-9ebb-2738cd09b8cc"
      },
      "outputs": [
        {
          "data": {
            "text/plain": [
              "0.6666666666666666"
            ]
          },
          "execution_count": 4,
          "metadata": {},
          "output_type": "execute_result"
        }
      ],
      "source": [
        "2/3"
      ]
    },
    {
      "cell_type": "code",
      "execution_count": 5,
      "metadata": {
        "colab": {
          "base_uri": "https://localhost:8080/"
        },
        "id": "gqpsyIa8NOC5",
        "outputId": "596e78ca-c403-41d6-8fba-e8d81a6fc4e3"
      },
      "outputs": [
        {
          "data": {
            "text/plain": [
              "6"
            ]
          },
          "execution_count": 5,
          "metadata": {},
          "output_type": "execute_result"
        }
      ],
      "source": [
        "3 * 2     "
      ]
    },
    {
      "cell_type": "code",
      "execution_count": 6,
      "metadata": {
        "colab": {
          "base_uri": "https://localhost:8080/"
        },
        "id": "BCdk8LU1NOC6",
        "outputId": "c7ec26c7-ba0e-4d03-c7d7-6e75f82d8e47"
      },
      "outputs": [
        {
          "data": {
            "text/plain": [
              "5"
            ]
          },
          "execution_count": 6,
          "metadata": {},
          "output_type": "execute_result"
        }
      ],
      "source": [
        "2 + 3"
      ]
    },
    {
      "cell_type": "code",
      "execution_count": 7,
      "metadata": {
        "colab": {
          "base_uri": "https://localhost:8080/"
        },
        "id": "lp_glbmENOC6",
        "outputId": "20820c68-ee4e-426b-dbdb-a5641e3a433e"
      },
      "outputs": [
        {
          "data": {
            "text/plain": [
              "-33.0"
            ]
          },
          "execution_count": 7,
          "metadata": {},
          "output_type": "execute_result"
        }
      ],
      "source": [
        "12*(34 - 56)/8"
      ]
    },
    {
      "cell_type": "code",
      "execution_count": 8,
      "metadata": {
        "colab": {
          "base_uri": "https://localhost:8080/"
        },
        "id": "AP4-HEs1NOC6",
        "outputId": "fc7f070f-e01f-4184-9016-904cbe2d299d"
      },
      "outputs": [
        {
          "data": {
            "text/plain": [
              "3.3333333333333335"
            ]
          },
          "execution_count": 8,
          "metadata": {},
          "output_type": "execute_result"
        }
      ],
      "source": [
        "10 / 3"
      ]
    },
    {
      "cell_type": "code",
      "execution_count": 9,
      "metadata": {
        "colab": {
          "base_uri": "https://localhost:8080/"
        },
        "id": "ABqi0e1HNOC7",
        "outputId": "e850b68b-0559-428e-c2c4-174c25cd6351"
      },
      "outputs": [
        {
          "data": {
            "text/plain": [
              "3.0000000000000004"
            ]
          },
          "execution_count": 9,
          "metadata": {},
          "output_type": "execute_result"
        }
      ],
      "source": [
        "3 + 0.0000000000000005"
      ]
    },
    {
      "cell_type": "code",
      "execution_count": 10,
      "metadata": {
        "colab": {
          "base_uri": "https://localhost:8080/"
        },
        "id": "2IAhqEUMNOC8",
        "outputId": "e43020ef-1b3a-4ac3-91a2-ba179f19e7d6"
      },
      "outputs": [
        {
          "data": {
            "text/plain": [
              "1.0000000000000004"
            ]
          },
          "execution_count": 10,
          "metadata": {},
          "output_type": "execute_result"
        }
      ],
      "source": [
        "1 + .0000000000000005"
      ]
    },
    {
      "cell_type": "code",
      "execution_count": 11,
      "metadata": {
        "colab": {
          "base_uri": "https://localhost:8080/"
        },
        "id": "-xUH3N4-NOC8",
        "outputId": "8551c1b4-d19f-467a-8be9-0d3b16c92d40"
      },
      "outputs": [
        {
          "data": {
            "text/plain": [
              "3"
            ]
          },
          "execution_count": 11,
          "metadata": {},
          "output_type": "execute_result"
        }
      ],
      "source": [
        "10//3 "
      ]
    },
    {
      "cell_type": "code",
      "execution_count": 12,
      "metadata": {
        "colab": {
          "base_uri": "https://localhost:8080/"
        },
        "id": "2jTEZ4fXNOC8",
        "outputId": "826cf086-3460-4309-a19b-a8ffc25718ab"
      },
      "outputs": [
        {
          "data": {
            "text/plain": [
              "2.0"
            ]
          },
          "execution_count": 12,
          "metadata": {},
          "output_type": "execute_result"
        }
      ],
      "source": [
        "10.5 // 3.6"
      ]
    },
    {
      "cell_type": "code",
      "execution_count": 13,
      "metadata": {
        "colab": {
          "base_uri": "https://localhost:8080/"
        },
        "id": "j-SwfUJcNOC9",
        "outputId": "ef1c683e-dc09-459d-f7bd-017212882aca"
      },
      "outputs": [
        {
          "data": {
            "text/plain": [
              "-4"
            ]
          },
          "execution_count": 13,
          "metadata": {},
          "output_type": "execute_result"
        }
      ],
      "source": [
        "(-10)//3 # Python округляет в меньшую сторону"
      ]
    },
    {
      "cell_type": "code",
      "execution_count": 17,
      "metadata": {},
      "outputs": [
        {
          "data": {
            "text/plain": [
              "-3.3333333333333335"
            ]
          },
          "execution_count": 17,
          "metadata": {},
          "output_type": "execute_result"
        }
      ],
      "source": [
        "-10/3"
      ]
    },
    {
      "cell_type": "code",
      "execution_count": 18,
      "metadata": {
        "colab": {
          "base_uri": "https://localhost:8080/"
        },
        "id": "iZF2VtrkNOC9",
        "outputId": "9b2bf511-0816-4261-c41e-b03109911623"
      },
      "outputs": [
        {
          "data": {
            "text/plain": [
              "1"
            ]
          },
          "execution_count": 18,
          "metadata": {},
          "output_type": "execute_result"
        }
      ],
      "source": [
        "10 % 3         # Остаток от деления"
      ]
    },
    {
      "cell_type": "code",
      "execution_count": 19,
      "metadata": {
        "colab": {
          "base_uri": "https://localhost:8080/"
        },
        "id": "NmlAoszoNOC9",
        "outputId": "e3481f68-bec4-45e7-d24f-ce79bac5c35c"
      },
      "outputs": [
        {
          "data": {
            "text/plain": [
              "2"
            ]
          },
          "execution_count": 19,
          "metadata": {},
          "output_type": "execute_result"
        }
      ],
      "source": [
        "(-10) % 3       # Остаток от деления"
      ]
    },
    {
      "cell_type": "code",
      "execution_count": 20,
      "metadata": {
        "colab": {
          "base_uri": "https://localhost:8080/"
        },
        "id": "5tEy8fQUNOC-",
        "outputId": "861fb0ae-333f-4262-a07a-ce9f2840c8d7"
      },
      "outputs": [
        {
          "data": {
            "text/plain": [
              "27"
            ]
          },
          "execution_count": 20,
          "metadata": {},
          "output_type": "execute_result"
        }
      ],
      "source": [
        "3**3 # Возведение числа в степень"
      ]
    },
    {
      "cell_type": "code",
      "execution_count": 21,
      "metadata": {
        "colab": {
          "base_uri": "https://localhost:8080/"
        },
        "id": "gfXgM6bxNOC-",
        "outputId": "d6688af5-710c-4204-86cd-b57a7c47010d"
      },
      "outputs": [
        {
          "data": {
            "text/plain": [
              "10000000000000000000000000000000000000000000000000000000000000000000000000000000000000000000000000000000000000000000000000000000000000000000000000000000000000000000000000000000000000000000000000000000000000000000000000000000000000000000000000000000000000000000000000000000000000000000000000000000000000000000000000000000000000000000000000000000000000000000000000000000000000000000000000000000000000000000000000000000000000000000000000000000000000000000000000000000000000000000000000000000000000000000000000000000000000000000000000000000000000000000000000000000000000000000000000000000000000000000000000000000000000000000000000000000000000000000000000000000000000000000000000000000000000000000000000000000000000000000000000000000000000000000000000000000000000000000000000000000000000000000000000000000000000000000000000000000000000000000000000000000000000000000000000000000000000000000000000000000000000000000000000000000000000000000000000000000000000000000000000000000000000000000000000000000000000000"
            ]
          },
          "execution_count": 21,
          "metadata": {},
          "output_type": "execute_result"
        }
      ],
      "source": [
        "10**1000"
      ]
    },
    {
      "cell_type": "code",
      "execution_count": 22,
      "metadata": {
        "colab": {
          "base_uri": "https://localhost:8080/"
        },
        "id": "OEEEtFTSNOC-",
        "outputId": "a3bbfe21-dc9f-476b-d23a-e2c9023e4307"
      },
      "outputs": [
        {
          "data": {
            "text/plain": [
              "1e+100"
            ]
          },
          "execution_count": 22,
          "metadata": {},
          "output_type": "execute_result"
        }
      ],
      "source": [
        "10.0**100"
      ]
    },
    {
      "cell_type": "code",
      "execution_count": 24,
      "metadata": {
        "colab": {
          "base_uri": "https://localhost:8080/"
        },
        "id": "MymUPTIXNOC_",
        "outputId": "08bac0a1-afed-48a8-9c65-0711469628c6"
      },
      "outputs": [
        {
          "name": "stdout",
          "output_type": "stream",
          "text": [
            "2 7\n"
          ]
        }
      ],
      "source": [
        "x = 2          # Присваивание. Результат не отображается\n",
        "y = 9-x\n",
        "print(x, y)"
      ]
    },
    {
      "cell_type": "code",
      "execution_count": 25,
      "metadata": {
        "colab": {
          "base_uri": "https://localhost:8080/"
        },
        "id": "TZ9tsAqrNODA",
        "outputId": "c8dc55fc-7184-4ee9-f0c0-5e6e25ae913e"
      },
      "outputs": [
        {
          "data": {
            "text/plain": [
              "(2, 7)"
            ]
          },
          "execution_count": 25,
          "metadata": {},
          "output_type": "execute_result"
        }
      ],
      "source": [
        "x, y"
      ]
    },
    {
      "cell_type": "code",
      "execution_count": 26,
      "metadata": {},
      "outputs": [],
      "source": [
        "# Переменные можно переприсваивать:\n",
        "x = 5"
      ]
    },
    {
      "cell_type": "code",
      "execution_count": 27,
      "metadata": {},
      "outputs": [
        {
          "data": {
            "text/plain": [
              "(5, 7)"
            ]
          },
          "execution_count": 27,
          "metadata": {},
          "output_type": "execute_result"
        }
      ],
      "source": [
        "x, y # Икс поменялся, игрик не поменялся , так как мы его не переприсваивали"
      ]
    },
    {
      "cell_type": "code",
      "execution_count": 28,
      "metadata": {
        "colab": {
          "base_uri": "https://localhost:8080/"
        },
        "id": "XhXMlZH7NODA",
        "outputId": "9b128c4d-08d7-49c6-c157-efde962b02f1"
      },
      "outputs": [
        {
          "name": "stdout",
          "output_type": "stream",
          "text": [
            "5\n"
          ]
        }
      ],
      "source": [
        "# Способ переприсвоения переменной основываясь на её предыдущем значении\n",
        "x = 2\n",
        "x = x + 3\n",
        "print(x)"
      ]
    },
    {
      "cell_type": "code",
      "execution_count": 30,
      "metadata": {
        "id": "A534yKD9NODB"
      },
      "outputs": [
        {
          "name": "stdout",
          "output_type": "stream",
          "text": [
            "5\n"
          ]
        }
      ],
      "source": [
        "# Это то же самое что и в примере выше, только короче\n",
        "x = 2\n",
        "x += 3 \n",
        "print(x)"
      ]
    },
    {
      "attachments": {},
      "cell_type": "markdown",
      "metadata": {
        "id": "UtVEi0PCNODB"
      },
      "source": [
        "# Типы данных"
      ]
    },
    {
      "attachments": {},
      "cell_type": "markdown",
      "metadata": {},
      "source": [
        "## Числовой тип данных"
      ]
    },
    {
      "cell_type": "code",
      "execution_count": 36,
      "metadata": {
        "colab": {
          "base_uri": "https://localhost:8080/"
        },
        "id": "blTyiPJPNODB",
        "outputId": "4190809c-4ad1-4b26-c559-7c42d7c2eb16"
      },
      "outputs": [],
      "source": [
        "# В данном случае мы специально выбрали такие названия для наглядности, в реальной задаче вы можете использовать любые названия переменных, но с некоторыми ограничениями\n",
        "int_number = 5 # Числовой тип данных\n",
        "float_number = 2.45 # Числовой тип данных с плавающей запятой\n",
        "string_sentence = 'Hello world!' # Строковый тип данных, который всегда пишется в кавычках!\n",
        "bool_type = True # Логический тип данных"
      ]
    },
    {
      "cell_type": "code",
      "execution_count": 39,
      "metadata": {
        "colab": {
          "base_uri": "https://localhost:8080/"
        },
        "id": "JWPC3GogNODB",
        "outputId": "948f29fa-1d3c-44df-c1df-e7fb6e94c9b0"
      },
      "outputs": [
        {
          "data": {
            "text/plain": [
              "int"
            ]
          },
          "execution_count": 39,
          "metadata": {},
          "output_type": "execute_result"
        }
      ],
      "source": [
        "type(int_number)"
      ]
    },
    {
      "cell_type": "code",
      "execution_count": 40,
      "metadata": {},
      "outputs": [
        {
          "data": {
            "text/plain": [
              "float"
            ]
          },
          "execution_count": 40,
          "metadata": {},
          "output_type": "execute_result"
        }
      ],
      "source": [
        "type(float_number)"
      ]
    },
    {
      "cell_type": "code",
      "execution_count": 41,
      "metadata": {},
      "outputs": [
        {
          "data": {
            "text/plain": [
              "str"
            ]
          },
          "execution_count": 41,
          "metadata": {},
          "output_type": "execute_result"
        }
      ],
      "source": [
        "type(string_sentence)"
      ]
    },
    {
      "cell_type": "code",
      "execution_count": 42,
      "metadata": {},
      "outputs": [
        {
          "data": {
            "text/plain": [
              "bool"
            ]
          },
          "execution_count": 42,
          "metadata": {},
          "output_type": "execute_result"
        }
      ],
      "source": [
        "type(bool_type)"
      ]
    },
    {
      "attachments": {},
      "cell_type": "markdown",
      "metadata": {
        "id": "zDmcocncNODD"
      },
      "source": [
        "## Строковые типы\n",
        "\n",
        "_Строка_ - неизменяемый контейнер символов"
      ]
    },
    {
      "cell_type": "code",
      "execution_count": 44,
      "metadata": {},
      "outputs": [
        {
          "name": "stdout",
          "output_type": "stream",
          "text": [
            "Hello народ!\n"
          ]
        }
      ],
      "source": [
        "hello_string = 'Hello народ!' # Выводится всё что находится в первых инициализированных кавычках\n",
        "print(hello_string)"
      ]
    },
    {
      "cell_type": "code",
      "execution_count": 45,
      "metadata": {
        "colab": {
          "base_uri": "https://localhost:8080/"
        },
        "id": "h0l5eeRTNODD",
        "outputId": "4892569e-9aa7-47fa-ce6e-b26d1e4015cd"
      },
      "outputs": [
        {
          "name": "stdout",
          "output_type": "stream",
          "text": [
            "\"Hello\" народ!\n"
          ]
        }
      ],
      "source": [
        "hello_string = '\"Hello\" народ!'\n",
        "print(hello_string)"
      ]
    },
    {
      "cell_type": "code",
      "execution_count": 46,
      "metadata": {
        "colab": {
          "base_uri": "https://localhost:8080/"
        },
        "id": "lYeGBIvzNODD",
        "outputId": "cd2d0a83-6e87-4aa9-e75d-40365ee16bce"
      },
      "outputs": [
        {
          "name": "stdout",
          "output_type": "stream",
          "text": [
            "'Hello' народ!\n"
          ]
        }
      ],
      "source": [
        "hello_string = \"'Hello' народ!\"\n",
        "print(hello_string)"
      ]
    },
    {
      "cell_type": "code",
      "execution_count": 47,
      "metadata": {
        "colab": {
          "base_uri": "https://localhost:8080/"
        },
        "id": "SH6jw1JmNODD",
        "outputId": "9488780c-aa16-4bb3-a754-4dddf835ff54"
      },
      "outputs": [
        {
          "name": "stdout",
          "output_type": "stream",
          "text": [
            "Hello' народ!\n"
          ]
        }
      ],
      "source": [
        "hello_string = \"Hello' народ!\"\n",
        "print(hello_string)"
      ]
    },
    {
      "cell_type": "code",
      "execution_count": 48,
      "metadata": {
        "colab": {
          "base_uri": "https://localhost:8080/",
          "height": 36
        },
        "id": "vIY0WaC_NODE",
        "outputId": "400bbbcb-9c47-4905-f49c-afbee344d58b"
      },
      "outputs": [
        {
          "data": {
            "text/plain": [
              "\"Hello' народ!\""
            ]
          },
          "execution_count": 48,
          "metadata": {},
          "output_type": "execute_result"
        }
      ],
      "source": [
        "hello_string"
      ]
    },
    {
      "cell_type": "code",
      "execution_count": 51,
      "metadata": {
        "colab": {
          "base_uri": "https://localhost:8080/",
          "height": 36
        },
        "id": "RnatfLiZNODE",
        "outputId": "8ae6152e-be35-4f8b-c311-6ad59b6a1fd0"
      },
      "outputs": [
        {
          "data": {
            "text/plain": [
              "'H'"
            ]
          },
          "execution_count": 51,
          "metadata": {},
          "output_type": "execute_result"
        }
      ],
      "source": [
        "hello_string[0] # Обращение к каждому символу строки поэлементно"
      ]
    },
    {
      "cell_type": "code",
      "execution_count": 53,
      "metadata": {
        "id": "JHz-GviwNODE"
      },
      "outputs": [],
      "source": [
        "# hello_string[0] = 'h' # Так нельзя"
      ]
    },
    {
      "cell_type": "code",
      "execution_count": 54,
      "metadata": {
        "colab": {
          "base_uri": "https://localhost:8080/"
        },
        "id": "lvvzWp-8NODE",
        "outputId": "b1bef446-2470-4780-b214-42da1b2dbdce"
      },
      "outputs": [
        {
          "data": {
            "text/plain": [
              "13"
            ]
          },
          "execution_count": 54,
          "metadata": {},
          "output_type": "execute_result"
        }
      ],
      "source": [
        "len(hello_string) # Функция len позволяющая измерить кол-во символов в строке"
      ]
    },
    {
      "cell_type": "code",
      "execution_count": 55,
      "metadata": {
        "colab": {
          "base_uri": "https://localhost:8080/"
        },
        "id": "-_ZD8GjmNODE",
        "outputId": "6336bd6e-7f0b-4ee9-9691-da2c2699b9be"
      },
      "outputs": [
        {
          "data": {
            "text/plain": [
              "str"
            ]
          },
          "execution_count": 55,
          "metadata": {},
          "output_type": "execute_result"
        }
      ],
      "source": [
        "type(hello_string)"
      ]
    },
    {
      "cell_type": "code",
      "execution_count": 56,
      "metadata": {
        "id": "wtg76qk9NODE"
      },
      "outputs": [],
      "source": [
        "hello_string = 2"
      ]
    },
    {
      "cell_type": "code",
      "execution_count": 57,
      "metadata": {
        "colab": {
          "base_uri": "https://localhost:8080/"
        },
        "id": "-sREGMZ2NODF",
        "outputId": "18628a30-eb66-4021-df0e-75d063c4fc2d"
      },
      "outputs": [
        {
          "data": {
            "text/plain": [
              "int"
            ]
          },
          "execution_count": 57,
          "metadata": {},
          "output_type": "execute_result"
        }
      ],
      "source": [
        "type(hello_string)"
      ]
    },
    {
      "cell_type": "code",
      "execution_count": 58,
      "metadata": {
        "colab": {
          "base_uri": "https://localhost:8080/"
        },
        "id": "91nSvffoNODG",
        "outputId": "d931dcff-2a9c-4b7b-a059-a9602946915c"
      },
      "outputs": [
        {
          "name": "stdout",
          "output_type": "stream",
          "text": [
            "Язык программирования 'Питон'\n"
          ]
        }
      ],
      "source": [
        "s = \"Язык программирования 'Питон'\"\n",
        "print(s)"
      ]
    },
    {
      "cell_type": "code",
      "execution_count": 63,
      "metadata": {
        "colab": {
          "base_uri": "https://localhost:8080/"
        },
        "id": "eTxPocTZNODG",
        "outputId": "066e96b2-f0d7-40c8-b7cd-df25562727c2"
      },
      "outputs": [
        {
          "name": "stdout",
          "output_type": "stream",
          "text": [
            "Hello World!\n"
          ]
        }
      ],
      "source": [
        "s1 = \"Hello\"\n",
        "s2 = \"World\"\n",
        "s = s1 + \" \" + s2 + \"!\"    # Строки можно складывать между собой обычным оператором сложения\n",
        "print(s)"
      ]
    },
    {
      "cell_type": "code",
      "execution_count": 67,
      "metadata": {},
      "outputs": [
        {
          "data": {
            "text/plain": [
              "'Hello World!'"
            ]
          },
          "execution_count": 67,
          "metadata": {},
          "output_type": "execute_result"
        }
      ],
      "source": [
        "s"
      ]
    },
    {
      "cell_type": "code",
      "execution_count": 68,
      "metadata": {
        "colab": {
          "base_uri": "https://localhost:8080/",
          "height": 36
        },
        "id": "ekg2tBBCNODG",
        "outputId": "d577afbd-e403-446f-85d5-a9cf2e0025a2"
      },
      "outputs": [
        {
          "data": {
            "text/plain": [
              "'Hello'"
            ]
          },
          "execution_count": 68,
          "metadata": {},
          "output_type": "execute_result"
        }
      ],
      "source": [
        "s[0:5] # Использование \"срезов\" в строках"
      ]
    },
    {
      "cell_type": "code",
      "execution_count": 69,
      "metadata": {
        "colab": {
          "base_uri": "https://localhost:8080/",
          "height": 36
        },
        "id": "w6PHrjOaNODG",
        "outputId": "034a7161-b57a-4a00-c6fe-9aaf362df78f"
      },
      "outputs": [
        {
          "data": {
            "text/plain": [
              "'Hello World!Hello World!Hello World!'"
            ]
          },
          "execution_count": 69,
          "metadata": {},
          "output_type": "execute_result"
        }
      ],
      "source": [
        "s*3 # Строки можно умножать :)"
      ]
    },
    {
      "cell_type": "code",
      "execution_count": 75,
      "metadata": {
        "colab": {
          "base_uri": "https://localhost:8080/"
        },
        "id": "zTSx0KsnNODH",
        "outputId": "0a8046fd-af8b-4179-97b9-d1a3171f3bcd"
      },
      "outputs": [
        {
          "name": "stdout",
          "output_type": "stream",
          "text": [
            "0\n",
            "1\n",
            "c\n",
            "b\n"
          ]
        }
      ],
      "source": [
        "s = \"0123456abc\"\n",
        "print(s[0])      # Первый символ\n",
        "print(s[1])      # Второй символ\n",
        "print(s[-1])     # Последний символ \n",
        "print(s[-2])     # Предпоследний символ"
      ]
    },
    {
      "cell_type": "code",
      "execution_count": 82,
      "metadata": {
        "colab": {
          "base_uri": "https://localhost:8080/"
        },
        "id": "FpJeD4xvNODJ",
        "outputId": "88ef4f3e-52fc-4074-9ad5-389eb34536ab"
      },
      "outputs": [
        {
          "name": "stdout",
          "output_type": "stream",
          "text": [
            "Hello World!\n",
            "HELLO WORLD!\n",
            "hello world!\n"
          ]
        }
      ],
      "source": [
        "s = \"Hello World!\"\n",
        "print(s)\n",
        "print(s.upper())\n",
        "print(s.lower())"
      ]
    },
    {
      "cell_type": "code",
      "execution_count": 85,
      "metadata": {
        "id": "mGL_2KSwNODJ"
      },
      "outputs": [
        {
          "ename": "AttributeError",
          "evalue": "'str' object has no attribute 'len'",
          "output_type": "error",
          "traceback": [
            "\u001b[1;31m---------------------------------------------------------------------------\u001b[0m",
            "\u001b[1;31mAttributeError\u001b[0m                            Traceback (most recent call last)",
            "Cell \u001b[1;32mIn[85], line 2\u001b[0m\n\u001b[0;32m      1\u001b[0m \u001b[39m# upper(s) # так нельзя\u001b[39;00m\n\u001b[1;32m----> 2\u001b[0m s\u001b[39m.\u001b[39;49mlen() \u001b[39m# так нельзя\u001b[39;00m\n",
            "\u001b[1;31mAttributeError\u001b[0m: 'str' object has no attribute 'len'"
          ]
        }
      ],
      "source": [
        "# upper(s) # так нельзя\n",
        "# s.len() # так нельзя"
      ]
    },
    {
      "cell_type": "code",
      "execution_count": 86,
      "metadata": {
        "colab": {
          "base_uri": "https://localhost:8080/"
        },
        "id": "JnMod6cvNODJ",
        "outputId": "206dba99-e0a8-4b01-bc03-63410b753e1f"
      },
      "outputs": [
        {
          "data": {
            "text/plain": [
              "12"
            ]
          },
          "execution_count": 86,
          "metadata": {},
          "output_type": "execute_result"
        }
      ],
      "source": [
        "s.upper()\n",
        "len(s)"
      ]
    },
    {
      "attachments": {},
      "cell_type": "markdown",
      "metadata": {
        "id": "DmE8uaeANODJ"
      },
      "source": [
        "## Булевский тип"
      ]
    },
    {
      "cell_type": "code",
      "execution_count": 89,
      "metadata": {
        "colab": {
          "base_uri": "https://localhost:8080/"
        },
        "id": "vIdpXccSNODJ",
        "outputId": "ce0dcd7b-f9b1-4262-87c4-49bcdb572af1"
      },
      "outputs": [
        {
          "data": {
            "text/plain": [
              "True"
            ]
          },
          "execution_count": 89,
          "metadata": {},
          "output_type": "execute_result"
        }
      ],
      "source": [
        "True"
      ]
    },
    {
      "cell_type": "code",
      "execution_count": 90,
      "metadata": {
        "colab": {
          "base_uri": "https://localhost:8080/"
        },
        "id": "dcZNwbXLNODJ",
        "outputId": "9deafee3-bab1-4bb2-d219-09e38cf06bb1"
      },
      "outputs": [
        {
          "data": {
            "text/plain": [
              "False"
            ]
          },
          "execution_count": 90,
          "metadata": {},
          "output_type": "execute_result"
        }
      ],
      "source": [
        "False"
      ]
    },
    {
      "attachments": {},
      "cell_type": "markdown",
      "metadata": {},
      "source": [
        "`True` - в Python подразумевает как цифру 1, `False` - как цифру 0"
      ]
    },
    {
      "cell_type": "code",
      "execution_count": 91,
      "metadata": {
        "colab": {
          "base_uri": "https://localhost:8080/"
        },
        "id": "JHBGnn-JNODJ",
        "outputId": "972868cb-2b84-46db-8ecf-fa56951fdede"
      },
      "outputs": [
        {
          "data": {
            "text/plain": [
              "False"
            ]
          },
          "execution_count": 91,
          "metadata": {},
          "output_type": "execute_result"
        }
      ],
      "source": [
        "1 > 2"
      ]
    },
    {
      "cell_type": "code",
      "execution_count": 92,
      "metadata": {
        "colab": {
          "base_uri": "https://localhost:8080/"
        },
        "id": "iviHqLXqNODK",
        "outputId": "d373c1e3-e320-40fa-dbbc-1b46ffabe6ec"
      },
      "outputs": [
        {
          "data": {
            "text/plain": [
              "True"
            ]
          },
          "execution_count": 92,
          "metadata": {},
          "output_type": "execute_result"
        }
      ],
      "source": [
        "1 <= 2"
      ]
    },
    {
      "cell_type": "code",
      "execution_count": 93,
      "metadata": {
        "colab": {
          "base_uri": "https://localhost:8080/"
        },
        "id": "Su-djS_lNODK",
        "outputId": "b8a7dd2d-c61b-4ee5-b1b2-cf6c8a6983bb"
      },
      "outputs": [
        {
          "data": {
            "text/plain": [
              "bool"
            ]
          },
          "execution_count": 93,
          "metadata": {},
          "output_type": "execute_result"
        }
      ],
      "source": [
        "type(True)"
      ]
    },
    {
      "cell_type": "code",
      "execution_count": 96,
      "metadata": {},
      "outputs": [
        {
          "data": {
            "text/plain": [
              "True"
            ]
          },
          "execution_count": 96,
          "metadata": {},
          "output_type": "execute_result"
        }
      ],
      "source": [
        "2 == 2"
      ]
    },
    {
      "cell_type": "code",
      "execution_count": 97,
      "metadata": {},
      "outputs": [
        {
          "data": {
            "text/plain": [
              "True"
            ]
          },
          "execution_count": 97,
          "metadata": {},
          "output_type": "execute_result"
        }
      ],
      "source": [
        "1 != 2"
      ]
    },
    {
      "attachments": {},
      "cell_type": "markdown",
      "metadata": {
        "id": "13eJQCJYNODK"
      },
      "source": [
        "Сравнение: `==`   `!=`   `<`   `>`   `<=`   `>=`\n",
        "\n",
        "Логические связки: `not` `and` `or` "
      ]
    },
    {
      "cell_type": "code",
      "execution_count": 99,
      "metadata": {
        "colab": {
          "base_uri": "https://localhost:8080/"
        },
        "id": "hIJjd6F5NODK",
        "outputId": "c9807d73-d00f-400d-ddae-ec834359a554"
      },
      "outputs": [],
      "source": [
        "age = 49\n",
        "# print(Age < 18 or Age > 55)\n",
        "# print(Age >= 18 and Age <= 55)\n",
        "# print(18 <= Age <= 55)"
      ]
    },
    {
      "cell_type": "code",
      "execution_count": 106,
      "metadata": {},
      "outputs": [
        {
          "data": {
            "text/plain": [
              "True"
            ]
          },
          "execution_count": 106,
          "metadata": {},
          "output_type": "execute_result"
        }
      ],
      "source": [
        "age > 18 or age < 60 or age < 9999999 or age > 50"
      ]
    },
    {
      "cell_type": "code",
      "execution_count": 105,
      "metadata": {},
      "outputs": [
        {
          "data": {
            "text/plain": [
              "False"
            ]
          },
          "execution_count": 105,
          "metadata": {},
          "output_type": "execute_result"
        }
      ],
      "source": [
        "age > 18 and age < 60 and age < 9999999 and age > 50"
      ]
    },
    {
      "cell_type": "code",
      "execution_count": 107,
      "metadata": {
        "colab": {
          "base_uri": "https://localhost:8080/"
        },
        "id": "u_STGhsrNODK",
        "outputId": "cc10ba71-9ac3-4e93-a314-98b975d67104"
      },
      "outputs": [
        {
          "data": {
            "text/plain": [
              "False"
            ]
          },
          "execution_count": 107,
          "metadata": {},
          "output_type": "execute_result"
        }
      ],
      "source": [
        "True <= False"
      ]
    },
    {
      "cell_type": "code",
      "execution_count": 108,
      "metadata": {
        "colab": {
          "base_uri": "https://localhost:8080/"
        },
        "id": "313zbIyLNODK",
        "outputId": "de1cd92e-26b1-4221-d11b-4f7ef6671237"
      },
      "outputs": [
        {
          "data": {
            "text/plain": [
              "True"
            ]
          },
          "execution_count": 108,
          "metadata": {},
          "output_type": "execute_result"
        }
      ],
      "source": [
        "5 > 1 < 2"
      ]
    },
    {
      "cell_type": "code",
      "execution_count": 109,
      "metadata": {
        "colab": {
          "base_uri": "https://localhost:8080/"
        },
        "id": "vcE5xlYpNODK",
        "outputId": "6d971a1c-0d96-42fc-89c1-e6bd5e78eb88"
      },
      "outputs": [
        {
          "data": {
            "text/plain": [
              "True"
            ]
          },
          "execution_count": 109,
          "metadata": {},
          "output_type": "execute_result"
        }
      ],
      "source": [
        "'Вася' < 'Петр Иванович'"
      ]
    },
    {
      "attachments": {},
      "cell_type": "markdown",
      "metadata": {
        "id": "MiaDtiA8NODL"
      },
      "source": [
        "## Списки\n",
        "\n",
        "_Список_ (list) - изменяемый (mutable) контейнер. Обращение к элементу списка - по индексу."
      ]
    },
    {
      "cell_type": "code",
      "execution_count": 110,
      "metadata": {
        "id": "scvtuPlcNODL"
      },
      "outputs": [],
      "source": [
        "lst=[1,2,5, 123, -4]"
      ]
    },
    {
      "cell_type": "code",
      "execution_count": 114,
      "metadata": {
        "colab": {
          "base_uri": "https://localhost:8080/"
        },
        "id": "XCmFIrz4NODL",
        "outputId": "300eed0c-72a5-4fab-ba78-7282880752c3"
      },
      "outputs": [
        {
          "data": {
            "text/plain": [
              "-4"
            ]
          },
          "execution_count": 114,
          "metadata": {},
          "output_type": "execute_result"
        }
      ],
      "source": [
        "lst[-1]"
      ]
    },
    {
      "cell_type": "code",
      "execution_count": 115,
      "metadata": {
        "colab": {
          "base_uri": "https://localhost:8080/"
        },
        "id": "DYHv4ssENODL",
        "outputId": "e2f3bf07-514b-463c-cbc2-6df2ea4291ec"
      },
      "outputs": [
        {
          "data": {
            "text/plain": [
              "[1, 2.0, 3, 'four', True, [123, 321]]"
            ]
          },
          "execution_count": 115,
          "metadata": {},
          "output_type": "execute_result"
        }
      ],
      "source": [
        "lst = [1, 2.0, 3, 'four', True, [123,321]]\n",
        "lst"
      ]
    },
    {
      "cell_type": "code",
      "execution_count": 118,
      "metadata": {
        "colab": {
          "base_uri": "https://localhost:8080/"
        },
        "id": "tkz2v55RNODL",
        "outputId": "e1009234-943d-4a28-ae91-450762f77976"
      },
      "outputs": [
        {
          "data": {
            "text/plain": [
              "321"
            ]
          },
          "execution_count": 118,
          "metadata": {},
          "output_type": "execute_result"
        }
      ],
      "source": [
        "lst[5][1]"
      ]
    },
    {
      "cell_type": "code",
      "execution_count": 119,
      "metadata": {
        "colab": {
          "base_uri": "https://localhost:8080/"
        },
        "id": "A4kTz7bGNODL",
        "outputId": "28b97208-abac-44d0-9092-d65889ab79b7"
      },
      "outputs": [
        {
          "data": {
            "text/plain": [
              "['One', 2.0, 3, 'four', True, [123, 321]]"
            ]
          },
          "execution_count": 119,
          "metadata": {},
          "output_type": "execute_result"
        }
      ],
      "source": [
        "lst[0] = 'One'\n",
        "lst"
      ]
    },
    {
      "cell_type": "code",
      "execution_count": 120,
      "metadata": {
        "colab": {
          "base_uri": "https://localhost:8080/"
        },
        "id": "uM2S9GMrNODM",
        "outputId": "6f40d10c-61c7-4dee-bc4e-086a7df469eb"
      },
      "outputs": [
        {
          "data": {
            "text/plain": [
              "[]"
            ]
          },
          "execution_count": 120,
          "metadata": {},
          "output_type": "execute_result"
        }
      ],
      "source": [
        "[]"
      ]
    },
    {
      "cell_type": "code",
      "execution_count": 121,
      "metadata": {
        "colab": {
          "base_uri": "https://localhost:8080/"
        },
        "id": "uRlC6iizNODM",
        "outputId": "b5f658bf-8f7e-41fb-8bb8-188f122b833f"
      },
      "outputs": [
        {
          "data": {
            "text/plain": [
              "list"
            ]
          },
          "execution_count": 121,
          "metadata": {},
          "output_type": "execute_result"
        }
      ],
      "source": [
        "type(lst)"
      ]
    },
    {
      "cell_type": "code",
      "execution_count": 122,
      "metadata": {
        "colab": {
          "base_uri": "https://localhost:8080/"
        },
        "id": "y4hmCgFDNODM",
        "outputId": "0d8985b0-4e81-4926-a7bf-3bbb9b704098"
      },
      "outputs": [
        {
          "data": {
            "text/plain": [
              "6"
            ]
          },
          "execution_count": 122,
          "metadata": {},
          "output_type": "execute_result"
        }
      ],
      "source": [
        "len(lst)"
      ]
    },
    {
      "cell_type": "code",
      "execution_count": 123,
      "metadata": {
        "colab": {
          "base_uri": "https://localhost:8080/",
          "height": 36
        },
        "id": "McRcT1a7NODM",
        "outputId": "a9c2c5ff-0990-47ab-e66d-e4b9952ef996"
      },
      "outputs": [
        {
          "data": {
            "text/plain": [
              "'One'"
            ]
          },
          "execution_count": 123,
          "metadata": {},
          "output_type": "execute_result"
        }
      ],
      "source": [
        "lst[0]"
      ]
    },
    {
      "cell_type": "code",
      "execution_count": 124,
      "metadata": {
        "colab": {
          "base_uri": "https://localhost:8080/"
        },
        "id": "FLCVWXRWNODM",
        "outputId": "0110ffcf-7bd0-4b55-db7c-331844d328d7"
      },
      "outputs": [
        {
          "data": {
            "text/plain": [
              "2.0"
            ]
          },
          "execution_count": 124,
          "metadata": {},
          "output_type": "execute_result"
        }
      ],
      "source": [
        "lst[1]"
      ]
    },
    {
      "cell_type": "code",
      "execution_count": 125,
      "metadata": {
        "colab": {
          "base_uri": "https://localhost:8080/"
        },
        "id": "ejxucfJYNODM",
        "outputId": "82f13d77-aa80-4962-9c6c-2ddc17045930"
      },
      "outputs": [
        {
          "data": {
            "text/plain": [
              "[123, 321]"
            ]
          },
          "execution_count": 125,
          "metadata": {},
          "output_type": "execute_result"
        }
      ],
      "source": [
        "lst[-1]"
      ]
    },
    {
      "cell_type": "code",
      "execution_count": 126,
      "metadata": {
        "colab": {
          "base_uri": "https://localhost:8080/"
        },
        "id": "gJqpSiHxNODM",
        "outputId": "e7bc3d04-bda9-48bc-fe63-03eba2d4bcf7"
      },
      "outputs": [
        {
          "data": {
            "text/plain": [
              "123"
            ]
          },
          "execution_count": 126,
          "metadata": {},
          "output_type": "execute_result"
        }
      ],
      "source": [
        "lst[-1][0]"
      ]
    },
    {
      "cell_type": "code",
      "execution_count": 127,
      "metadata": {
        "colab": {
          "base_uri": "https://localhost:8080/"
        },
        "id": "apfDI-dSNODM",
        "outputId": "0dffa612-02db-4765-997e-1b31629bbf86"
      },
      "outputs": [
        {
          "data": {
            "text/plain": [
              "True"
            ]
          },
          "execution_count": 127,
          "metadata": {},
          "output_type": "execute_result"
        }
      ],
      "source": [
        "lst[-2]"
      ]
    },
    {
      "cell_type": "code",
      "execution_count": 128,
      "metadata": {},
      "outputs": [
        {
          "data": {
            "text/plain": [
              "['One', 2.0, 3, 'four', True, [123, 321]]"
            ]
          },
          "execution_count": 128,
          "metadata": {},
          "output_type": "execute_result"
        }
      ],
      "source": [
        "lst"
      ]
    },
    {
      "cell_type": "code",
      "execution_count": 129,
      "metadata": {
        "colab": {
          "base_uri": "https://localhost:8080/"
        },
        "id": "q8b5_f9BNODN",
        "outputId": "2397f294-e659-4485-e42f-8e011cc0a96a"
      },
      "outputs": [
        {
          "data": {
            "text/plain": [
              "['One', 2.0, [12, 'three'], 'four', True, [123, 321]]"
            ]
          },
          "execution_count": 129,
          "metadata": {},
          "output_type": "execute_result"
        }
      ],
      "source": [
        "lst[2] = [12, 'three'] # Можно добавить список в список!\n",
        "lst"
      ]
    },
    {
      "cell_type": "code",
      "execution_count": 130,
      "metadata": {
        "colab": {
          "base_uri": "https://localhost:8080/"
        },
        "id": "sjyTJrbFNODN",
        "outputId": "ddff1967-eb68-4cb0-8ab4-538c0d7fed5e"
      },
      "outputs": [
        {
          "data": {
            "text/plain": [
              "6"
            ]
          },
          "execution_count": 130,
          "metadata": {},
          "output_type": "execute_result"
        }
      ],
      "source": [
        "len(lst)"
      ]
    },
    {
      "cell_type": "code",
      "execution_count": 136,
      "metadata": {
        "colab": {
          "base_uri": "https://localhost:8080/"
        },
        "id": "P4h0qz_ANODN",
        "outputId": "c495e8fb-894e-41c3-fc95-467cdb6665c8"
      },
      "outputs": [
        {
          "data": {
            "text/plain": [
              "'three'"
            ]
          },
          "execution_count": 136,
          "metadata": {},
          "output_type": "execute_result"
        }
      ],
      "source": [
        "lst[1:4][1][1]   # Срез в списке (slice)"
      ]
    },
    {
      "cell_type": "code",
      "execution_count": 137,
      "metadata": {},
      "outputs": [
        {
          "data": {
            "text/plain": [
              "['One', 2.0, [12, 'three'], 'four', True, [123, 321]]"
            ]
          },
          "execution_count": 137,
          "metadata": {},
          "output_type": "execute_result"
        }
      ],
      "source": [
        "lst"
      ]
    },
    {
      "cell_type": "code",
      "execution_count": 139,
      "metadata": {
        "colab": {
          "base_uri": "https://localhost:8080/"
        },
        "id": "0inBdASeNODN",
        "outputId": "14076f6f-daca-48fa-899d-a38187adad9a"
      },
      "outputs": [
        {
          "data": {
            "text/plain": [
              "321"
            ]
          },
          "execution_count": 139,
          "metadata": {},
          "output_type": "execute_result"
        }
      ],
      "source": [
        "lst[-1][-1]"
      ]
    },
    {
      "cell_type": "code",
      "execution_count": 140,
      "metadata": {},
      "outputs": [],
      "source": [
        "lst = [1,2,3,4,5,[1,2,3,4]]"
      ]
    },
    {
      "cell_type": "code",
      "execution_count": 141,
      "metadata": {
        "colab": {
          "base_uri": "https://localhost:8080/"
        },
        "id": "3gl7bBHLNODO",
        "outputId": "32046520-f612-460d-8ac4-16309242336b"
      },
      "outputs": [
        {
          "data": {
            "text/plain": [
              "[3, 4]"
            ]
          },
          "execution_count": 141,
          "metadata": {},
          "output_type": "execute_result"
        }
      ],
      "source": [
        "lst[2:4]"
      ]
    },
    {
      "cell_type": "code",
      "execution_count": 142,
      "metadata": {
        "colab": {
          "base_uri": "https://localhost:8080/"
        },
        "id": "1LKLWMB0NODO",
        "outputId": "3097d453-d74c-4f48-9605-df09a0bbfebb"
      },
      "outputs": [
        {
          "data": {
            "text/plain": [
              "[1, 2, 3, 4, 5, [1, 2, 3, 4]]"
            ]
          },
          "execution_count": 142,
          "metadata": {},
          "output_type": "execute_result"
        }
      ],
      "source": [
        "lst"
      ]
    },
    {
      "cell_type": "code",
      "execution_count": 143,
      "metadata": {
        "colab": {
          "base_uri": "https://localhost:8080/"
        },
        "id": "-n2Ui43YNODO",
        "outputId": "145359d6-71e7-4cb5-8717-073e5ffe22ba"
      },
      "outputs": [
        {
          "data": {
            "text/plain": [
              "[1, 2, 3, 4, 5, [1, 2, 3, 4], 1, 2, 3, 4, 5, [1, 2, 3, 4]]"
            ]
          },
          "execution_count": 143,
          "metadata": {},
          "output_type": "execute_result"
        }
      ],
      "source": [
        "lst + lst # Списки можно складывать! Работает почти также как со строками"
      ]
    },
    {
      "cell_type": "code",
      "execution_count": 144,
      "metadata": {
        "colab": {
          "base_uri": "https://localhost:8080/"
        },
        "id": "Zr9wg65WNODO",
        "outputId": "5fa1540f-5f84-4668-f531-ce50169784b6"
      },
      "outputs": [
        {
          "data": {
            "text/plain": [
              "[1, 2, 3, 4, 5, [1, 2, 3, 4], 1, 2, 3, 4, 5, [1, 2, 3, 4]]"
            ]
          },
          "execution_count": 144,
          "metadata": {},
          "output_type": "execute_result"
        }
      ],
      "source": [
        "2*lst # Можно сделать то же самое операцией сложения"
      ]
    },
    {
      "cell_type": "code",
      "execution_count": 153,
      "metadata": {
        "colab": {
          "base_uri": "https://localhost:8080/"
        },
        "id": "3jrHeWpMNODO",
        "outputId": "78aeeb0a-8b23-4ae8-cbae-95918abb8b3a"
      },
      "outputs": [
        {
          "name": "stdout",
          "output_type": "stream",
          "text": [
            "[0, 111, 2, 3, 4]\n",
            "[0, 111, 2, 3, 4]\n"
          ]
        }
      ],
      "source": [
        "lst = [0, 1, 2, 3, 4]\n",
        "lst2 = lst\n",
        "lst2[1] = 111  # lst меняется\n",
        "print(lst2)\n",
        "print(lst)"
      ]
    },
    {
      "cell_type": "code",
      "execution_count": 155,
      "metadata": {},
      "outputs": [],
      "source": [
        "lst3 = [1,2,3]"
      ]
    },
    {
      "cell_type": "code",
      "execution_count": 156,
      "metadata": {
        "colab": {
          "base_uri": "https://localhost:8080/"
        },
        "id": "71xtOZhfNODO",
        "outputId": "d992802d-5438-400d-c93f-f2486c7da0cf"
      },
      "outputs": [
        {
          "data": {
            "text/plain": [
              "False"
            ]
          },
          "execution_count": 156,
          "metadata": {},
          "output_type": "execute_result"
        }
      ],
      "source": [
        "lst3 is lst"
      ]
    },
    {
      "cell_type": "code",
      "execution_count": 166,
      "metadata": {
        "colab": {
          "base_uri": "https://localhost:8080/"
        },
        "id": "r5AT2VLiNODP",
        "outputId": "2a48cf29-a5d6-4c4c-a808-301c4dbba65c"
      },
      "outputs": [
        {
          "name": "stdout",
          "output_type": "stream",
          "text": [
            "[0, 11, 2, 3, 4]\n",
            "[0, 1, 2, 3, 4]\n"
          ]
        }
      ],
      "source": [
        "lst = [0, 1, 2, 3, 4]\n",
        "lst3 = lst[:]\n",
        "lst3[1] = 11\n",
        "print(lst3)\n",
        "print(lst)"
      ]
    },
    {
      "cell_type": "code",
      "execution_count": 167,
      "metadata": {
        "colab": {
          "base_uri": "https://localhost:8080/"
        },
        "id": "sF9F_G3iNODP",
        "outputId": "e1051797-cb0b-4dff-8df0-d7b0969cee4c"
      },
      "outputs": [
        {
          "data": {
            "text/plain": [
              "True"
            ]
          },
          "execution_count": 167,
          "metadata": {},
          "output_type": "execute_result"
        }
      ],
      "source": [
        "[1,2,3] == [1,2,3]"
      ]
    },
    {
      "cell_type": "code",
      "execution_count": 169,
      "metadata": {},
      "outputs": [],
      "source": [
        "a = [1,2,3]\n",
        "b = [1,2,3]"
      ]
    },
    {
      "cell_type": "code",
      "execution_count": 170,
      "metadata": {},
      "outputs": [
        {
          "data": {
            "text/plain": [
              "1998026163520"
            ]
          },
          "execution_count": 170,
          "metadata": {},
          "output_type": "execute_result"
        }
      ],
      "source": [
        "id(a)"
      ]
    },
    {
      "cell_type": "code",
      "execution_count": 171,
      "metadata": {},
      "outputs": [
        {
          "data": {
            "text/plain": [
              "1998026257600"
            ]
          },
          "execution_count": 171,
          "metadata": {},
          "output_type": "execute_result"
        }
      ],
      "source": [
        "id(b)"
      ]
    },
    {
      "cell_type": "code",
      "execution_count": 168,
      "metadata": {
        "colab": {
          "base_uri": "https://localhost:8080/"
        },
        "id": "GkSOk-IrNODP",
        "outputId": "85a3d042-b2ae-4e8b-a610-3bbd5673868c"
      },
      "outputs": [
        {
          "data": {
            "text/plain": [
              "False"
            ]
          },
          "execution_count": 168,
          "metadata": {},
          "output_type": "execute_result"
        }
      ],
      "source": [
        "[1,2,3] is [1,2,3]"
      ]
    },
    {
      "cell_type": "code",
      "execution_count": 172,
      "metadata": {
        "colab": {
          "base_uri": "https://localhost:8080/"
        },
        "id": "sc0ee6rZNODP",
        "outputId": "0a934a66-5412-4a78-811a-fccb8370207d"
      },
      "outputs": [
        {
          "data": {
            "text/plain": [
              "True"
            ]
          },
          "execution_count": 172,
          "metadata": {},
          "output_type": "execute_result"
        }
      ],
      "source": [
        "2==2"
      ]
    },
    {
      "cell_type": "code",
      "execution_count": 173,
      "metadata": {
        "colab": {
          "base_uri": "https://localhost:8080/"
        },
        "id": "bG5dZvAqNODQ",
        "outputId": "9c9461a2-b9ce-4df9-9cbd-4d00f2d4d9be"
      },
      "outputs": [
        {
          "data": {
            "text/plain": [
              "True"
            ]
          },
          "execution_count": 173,
          "metadata": {},
          "output_type": "execute_result"
        }
      ],
      "source": [
        "a=2\n",
        "b=2\n",
        "a is b"
      ]
    },
    {
      "cell_type": "code",
      "execution_count": 182,
      "metadata": {
        "colab": {
          "base_uri": "https://localhost:8080/"
        },
        "id": "DhQXqlkfNODQ",
        "outputId": "11febb73-aec2-480a-f23e-5c2c68665a6c"
      },
      "outputs": [
        {
          "name": "stdout",
          "output_type": "stream",
          "text": [
            "['December', 'January', 'February', 'June', 'July', 'August']\n",
            "[['December', 'January', 'February'], ['June', 'July', 'August'], ['March', 'April', 'May']]\n"
          ]
        }
      ],
      "source": [
        "winter = ['December', 'January', 'February']\n",
        "spring = ['March', 'April', 'May']\n",
        "summer = ['June', 'July', 'August']\n",
        "autumn = ['September', 'October', 'November']\n",
        "print(winter + summer)            # Сложение списков (конкатенация)\n",
        "print([winter, summer, spring])   # Список списков"
      ]
    },
    {
      "cell_type": "code",
      "execution_count": 190,
      "metadata": {
        "colab": {
          "base_uri": "https://localhost:8080/"
        },
        "id": "Iu5OieOUNODQ",
        "outputId": "0e5cd209-52ac-4f0f-f6fb-262219a936b0"
      },
      "outputs": [
        {
          "name": "stdout",
          "output_type": "stream",
          "text": [
            "['December', 'January', 'February', 'March', 'April', 'May', 'June', 'July', 'August', 'September', 'October', 'November']\n"
          ]
        }
      ],
      "source": [
        "year = winter + spring + summer + autumn\n",
        "print(year)"
      ]
    },
    {
      "attachments": {},
      "cell_type": "markdown",
      "metadata": {},
      "source": [
        "В Python существуют методы которые можно применять к различным переменным. Методом называют всё что применяется к какой-либо переменной с точкой. Например : `.append()`"
      ]
    },
    {
      "cell_type": "code",
      "execution_count": 191,
      "metadata": {
        "colab": {
          "base_uri": "https://localhost:8080/"
        },
        "id": "DCTP1LTXNODR",
        "outputId": "d7018856-df92-410f-fdc8-18eab81697d9"
      },
      "outputs": [
        {
          "data": {
            "text/plain": [
              "['December',\n",
              " 'January',\n",
              " 'February',\n",
              " 'March',\n",
              " 'April',\n",
              " 'May',\n",
              " 'June',\n",
              " 'July',\n",
              " 'August',\n",
              " 'September',\n",
              " 'October',\n",
              " 'November',\n",
              " 'January']"
            ]
          },
          "execution_count": 191,
          "metadata": {},
          "output_type": "execute_result"
        }
      ],
      "source": [
        "new_year = year[:]\n",
        "new_year.append('January') # В данном случае .append() - это метод позволяющий добавить в конец списка какое-либо значение\n",
        "new_year"
      ]
    },
    {
      "cell_type": "code",
      "execution_count": 192,
      "metadata": {},
      "outputs": [
        {
          "data": {
            "text/plain": [
              "['December',\n",
              " 'January',\n",
              " 'February',\n",
              " 'March',\n",
              " 'April',\n",
              " 'May',\n",
              " 'June',\n",
              " 'July',\n",
              " 'August',\n",
              " 'September',\n",
              " 'October',\n",
              " 'November']"
            ]
          },
          "execution_count": 192,
          "metadata": {},
          "output_type": "execute_result"
        }
      ],
      "source": [
        "year"
      ]
    },
    {
      "cell_type": "code",
      "execution_count": 193,
      "metadata": {
        "colab": {
          "base_uri": "https://localhost:8080/"
        },
        "id": "XGD64Y4ZNODR",
        "outputId": "faa6488a-674b-4096-fe76-bebbf0b3a327"
      },
      "outputs": [
        {
          "data": {
            "text/plain": [
              "['December',\n",
              " 'January',\n",
              " 'February',\n",
              " 'March',\n",
              " 'April',\n",
              " 'May',\n",
              " 'June',\n",
              " 'July',\n",
              " 'August',\n",
              " 'September',\n",
              " 'October',\n",
              " 'November',\n",
              " 'February']"
            ]
          },
          "execution_count": 193,
          "metadata": {},
          "output_type": "execute_result"
        }
      ],
      "source": [
        "year = year + ['February']\n",
        "year"
      ]
    },
    {
      "cell_type": "code",
      "execution_count": 194,
      "metadata": {},
      "outputs": [
        {
          "data": {
            "text/plain": [
              "['December',\n",
              " 'January',\n",
              " 'February',\n",
              " 'March',\n",
              " 'April',\n",
              " 'May',\n",
              " 'June',\n",
              " 'July',\n",
              " 'August',\n",
              " 'September',\n",
              " 'October',\n",
              " 'November',\n",
              " 'February']"
            ]
          },
          "execution_count": 194,
          "metadata": {},
          "output_type": "execute_result"
        }
      ],
      "source": [
        "year"
      ]
    },
    {
      "cell_type": "code",
      "execution_count": 195,
      "metadata": {
        "colab": {
          "base_uri": "https://localhost:8080/"
        },
        "id": "tSWRq2tZNODR",
        "outputId": "f02deb22-f6a2-4941-fb78-8ca85688f059"
      },
      "outputs": [
        {
          "data": {
            "text/plain": [
              "True"
            ]
          },
          "execution_count": 195,
          "metadata": {},
          "output_type": "execute_result"
        }
      ],
      "source": [
        "'January' in year"
      ]
    },
    {
      "cell_type": "code",
      "execution_count": 196,
      "metadata": {},
      "outputs": [
        {
          "data": {
            "text/plain": [
              "['December', 'January', 'February']"
            ]
          },
          "execution_count": 196,
          "metadata": {},
          "output_type": "execute_result"
        }
      ],
      "source": [
        "winter"
      ]
    },
    {
      "cell_type": "code",
      "execution_count": 198,
      "metadata": {
        "colab": {
          "base_uri": "https://localhost:8080/"
        },
        "id": "bBkGbH-eNODR",
        "outputId": "a4741462-19c0-4258-bea0-654ff33cd9f7"
      },
      "outputs": [
        {
          "data": {
            "text/plain": [
              "False"
            ]
          },
          "execution_count": 198,
          "metadata": {},
          "output_type": "execute_result"
        }
      ],
      "source": [
        "'January' not in winter"
      ]
    },
    {
      "cell_type": "code",
      "execution_count": 202,
      "metadata": {
        "colab": {
          "base_uri": "https://localhost:8080/"
        },
        "id": "uKDyTZEoNODR",
        "outputId": "207c025b-027b-49fb-eb95-52b8d6e698e3"
      },
      "outputs": [
        {
          "name": "stdout",
          "output_type": "stream",
          "text": [
            "['December', 'January', 'February', 'March', 'April', 'May', 'June', 'July', 'August', 'September', 'October', 'November', 'February', 'NewMonth']\n",
            "['December', 'January', 'February', 'March', 'April', 'May', 'June', 'July', 'August', 'September', 'October', 'November', 'February']\n"
          ]
        }
      ],
      "source": [
        "year.append('NewMonth')\n",
        "print(year)\n",
        "year.pop()\n",
        "print(year)"
      ]
    },
    {
      "cell_type": "code",
      "execution_count": 203,
      "metadata": {
        "id": "rbX09wOVNODS"
      },
      "outputs": [],
      "source": [
        "lst = []\n",
        "item = 2\n",
        "indx = 0"
      ]
    },
    {
      "attachments": {},
      "cell_type": "markdown",
      "metadata": {},
      "source": [
        "Существую различные методы которые можно применить к списку"
      ]
    },
    {
      "cell_type": "code",
      "execution_count": 241,
      "metadata": {},
      "outputs": [
        {
          "data": {
            "text/plain": [
              "[10, 2, 2, 3, 4]"
            ]
          },
          "execution_count": 241,
          "metadata": {},
          "output_type": "execute_result"
        }
      ],
      "source": [
        "lst"
      ]
    },
    {
      "cell_type": "code",
      "execution_count": null,
      "metadata": {
        "id": "UY6DnsGmNODS"
      },
      "outputs": [],
      "source": [
        "lst.append(item)       # Вставить в конец\n",
        "lst.pop()              # Удалить последний и возвратить значение\n",
        "lst.insert(indx, item) # Вставка в указанную позицию\n",
        "lst.count(item)        # Найти количество вхождений значений в списке\n",
        "lst.index(item)        # Индекс первого вхождения значения в списке\n",
        "lst.remove(item)       # Удалить первое вхождение значения в список\n",
        "lst.sort()             # Сортировать список\n",
        "lst.reverse()          # Записать в обратном порядке"
      ]
    },
    {
      "cell_type": "code",
      "execution_count": 246,
      "metadata": {
        "colab": {
          "base_uri": "https://localhost:8080/"
        },
        "id": "2eHQqnY2NODS",
        "outputId": "c7ac29ca-c84f-49c5-eb81-d1953633765f"
      },
      "outputs": [
        {
          "name": "stdout",
          "output_type": "stream",
          "text": [
            "[1, 2, 3, 1, 111, 222]\n",
            "[2, 3, 1, 111, 222]\n"
          ]
        }
      ],
      "source": [
        "lst = [1,2,3,1,111,222]\n",
        "print(lst)\n",
        "lst.remove(1)\n",
        "print(lst)"
      ]
    },
    {
      "cell_type": "code",
      "execution_count": 247,
      "metadata": {
        "id": "a971aEc-NODS"
      },
      "outputs": [],
      "source": [
        "lst.remove(1)"
      ]
    },
    {
      "cell_type": "code",
      "execution_count": 248,
      "metadata": {
        "colab": {
          "base_uri": "https://localhost:8080/"
        },
        "id": "ZSPDeBqJNODS",
        "outputId": "114f9de1-6a9b-448e-be7b-8fe188b8929a"
      },
      "outputs": [
        {
          "data": {
            "text/plain": [
              "[2, 3, 111, 222]"
            ]
          },
          "execution_count": 248,
          "metadata": {},
          "output_type": "execute_result"
        }
      ],
      "source": [
        "lst"
      ]
    },
    {
      "attachments": {},
      "cell_type": "markdown",
      "metadata": {},
      "source": [
        "В Python сущетвуют встроенные функции, которые также можно применять к различным переменным, которые вы создали. Например: Вызов функции `min()` или `max()` осуществляется следующим образом:"
      ]
    },
    {
      "cell_type": "code",
      "execution_count": 254,
      "metadata": {
        "colab": {
          "base_uri": "https://localhost:8080/"
        },
        "id": "LIaZjCnINODT",
        "outputId": "bd2bd348-15c5-4f14-fe0e-3a1aa5b7efcf"
      },
      "outputs": [
        {
          "name": "stdout",
          "output_type": "stream",
          "text": [
            "-3 44\n"
          ]
        }
      ],
      "source": [
        "#Внутрь фукнции min или max мы посадили список.\n",
        "#Функция возвращает нам минимальное и максимальное число из списка соответственно\n",
        " \n",
        "lst = [1, 3, 44, 12, 21, 1, -3, 1, 44, 12, 35, 13]\n",
        "print(min(lst), max(lst)) \n",
        "lst.sort() # Метод .sort() возвращает вам отсортированный список по возрастанию\n",
        "# print(lst)"
      ]
    },
    {
      "attachments": {},
      "cell_type": "markdown",
      "metadata": {
        "id": "z-d66XsnNODU"
      },
      "source": [
        "# Кортежи"
      ]
    },
    {
      "attachments": {},
      "cell_type": "markdown",
      "metadata": {
        "id": "WX9YhNpwNODU"
      },
      "source": [
        "_Кортеж_ (tuple) - неизменяемый (immutable) контейнер (в отличие от списка). В остальном они ведут себя так же, как списки."
      ]
    },
    {
      "cell_type": "code",
      "execution_count": 257,
      "metadata": {
        "colab": {
          "base_uri": "https://localhost:8080/"
        },
        "id": "AhrrjxHONODU",
        "outputId": "c001f919-bc62-4763-f9e0-023788db033a"
      },
      "outputs": [
        {
          "name": "stdout",
          "output_type": "stream",
          "text": [
            "(1, 2, 3, 'four')\n",
            "<class 'tuple'>\n"
          ]
        }
      ],
      "source": [
        "x = (1, 2, 3, 'four') # Скобки можно опустить\n",
        "print(x)\n",
        "print(type(x))"
      ]
    },
    {
      "cell_type": "code",
      "execution_count": 258,
      "metadata": {
        "colab": {
          "base_uri": "https://localhost:8080/"
        },
        "id": "0Bl7NdxsNODU",
        "outputId": "98b22b52-2c2b-48ac-e636-a6073f768722"
      },
      "outputs": [
        {
          "data": {
            "text/plain": [
              "(1, 2, 3, 'four')"
            ]
          },
          "execution_count": 258,
          "metadata": {},
          "output_type": "execute_result"
        }
      ],
      "source": [
        "x = 1, 2, 3, 'four'\n",
        "x"
      ]
    },
    {
      "cell_type": "code",
      "execution_count": 259,
      "metadata": {
        "colab": {
          "base_uri": "https://localhost:8080/"
        },
        "id": "5bV83su8NODU",
        "outputId": "c1dbf6d1-0b78-4d0b-a0d9-06051afd90ed"
      },
      "outputs": [
        {
          "data": {
            "text/plain": [
              "(1, 123, 123)"
            ]
          },
          "execution_count": 259,
          "metadata": {},
          "output_type": "execute_result"
        }
      ],
      "source": [
        "x = (1,123,123,)\n",
        "x"
      ]
    },
    {
      "cell_type": "code",
      "execution_count": 260,
      "metadata": {
        "colab": {
          "base_uri": "https://localhost:8080/"
        },
        "id": "o6oSbLnSNODU",
        "outputId": "6dba0d28-42cf-4b68-b754-bab1c4dcbcab"
      },
      "outputs": [
        {
          "data": {
            "text/plain": [
              "()"
            ]
          },
          "execution_count": 260,
          "metadata": {},
          "output_type": "execute_result"
        }
      ],
      "source": [
        "()"
      ]
    },
    {
      "cell_type": "code",
      "execution_count": 261,
      "metadata": {
        "colab": {
          "base_uri": "https://localhost:8080/"
        },
        "id": "S7oXbNitNODV",
        "outputId": "f8f3e2e6-6f36-4e78-c61e-48e7752fba91"
      },
      "outputs": [
        {
          "data": {
            "text/plain": [
              "tuple"
            ]
          },
          "execution_count": 261,
          "metadata": {},
          "output_type": "execute_result"
        }
      ],
      "source": [
        "type(())"
      ]
    },
    {
      "cell_type": "code",
      "execution_count": 263,
      "metadata": {
        "colab": {
          "base_uri": "https://localhost:8080/"
        },
        "id": "kq05qiC7NODV",
        "outputId": "f226b252-a985-44bb-e0cc-5586fe71b793"
      },
      "outputs": [
        {
          "data": {
            "text/plain": [
              "int"
            ]
          },
          "execution_count": 263,
          "metadata": {},
          "output_type": "execute_result"
        }
      ],
      "source": [
        "a=(1)\n",
        "type(a)"
      ]
    },
    {
      "cell_type": "code",
      "execution_count": 264,
      "metadata": {
        "colab": {
          "base_uri": "https://localhost:8080/"
        },
        "id": "h2lmtth8NODV",
        "outputId": "5d93308d-bda3-459f-8ee7-f1f14cbe99f4"
      },
      "outputs": [
        {
          "data": {
            "text/plain": [
              "int"
            ]
          },
          "execution_count": 264,
          "metadata": {},
          "output_type": "execute_result"
        }
      ],
      "source": [
        "type(a)"
      ]
    },
    {
      "cell_type": "code",
      "execution_count": null,
      "metadata": {
        "colab": {
          "base_uri": "https://localhost:8080/"
        },
        "id": "ZxK5_ttENODV",
        "outputId": "ed9f760a-225a-477d-db9d-8e3aadb1fcbe"
      },
      "outputs": [],
      "source": [
        "(1,)"
      ]
    },
    {
      "cell_type": "code",
      "execution_count": 265,
      "metadata": {
        "colab": {
          "base_uri": "https://localhost:8080/"
        },
        "id": "Jq2Y4ES1NODV",
        "outputId": "7b0f5606-b49f-435f-fc68-0d9698470171"
      },
      "outputs": [
        {
          "data": {
            "text/plain": [
              "int"
            ]
          },
          "execution_count": 265,
          "metadata": {},
          "output_type": "execute_result"
        }
      ],
      "source": [
        "type(1)"
      ]
    },
    {
      "cell_type": "code",
      "execution_count": 267,
      "metadata": {
        "colab": {
          "base_uri": "https://localhost:8080/"
        },
        "id": "-e73E7k2NODV",
        "outputId": "a442e4b2-71e0-466a-8993-411076ac0d57"
      },
      "outputs": [
        {
          "data": {
            "text/plain": [
              "tuple"
            ]
          },
          "execution_count": 267,
          "metadata": {},
          "output_type": "execute_result"
        }
      ],
      "source": [
        "type((1,))"
      ]
    },
    {
      "cell_type": "code",
      "execution_count": 268,
      "metadata": {},
      "outputs": [
        {
          "data": {
            "text/plain": [
              "(1, 123, 123)"
            ]
          },
          "execution_count": 268,
          "metadata": {},
          "output_type": "execute_result"
        }
      ],
      "source": [
        "x # Вспомним что хранится внутри x"
      ]
    },
    {
      "cell_type": "code",
      "execution_count": 275,
      "metadata": {
        "colab": {
          "base_uri": "https://localhost:8080/"
        },
        "id": "LCooZz_kNODW",
        "outputId": "b42be130-5c60-4142-fadb-b557c6f55601"
      },
      "outputs": [
        {
          "name": "stdout",
          "output_type": "stream",
          "text": [
            "1 123 123 3\n",
            "(123, 123) (1, 123, 123) (123, 123)\n"
          ]
        }
      ],
      "source": [
        "print(x[0], x[1], x[-1], len(x))\n",
        "print(x[1:3], x[:3], x[1:])  # Подкортежи"
      ]
    },
    {
      "cell_type": "code",
      "execution_count": 273,
      "metadata": {},
      "outputs": [
        {
          "data": {
            "text/plain": [
              "(123, 123)"
            ]
          },
          "execution_count": 273,
          "metadata": {},
          "output_type": "execute_result"
        }
      ],
      "source": [
        "x[1:3]"
      ]
    },
    {
      "cell_type": "code",
      "execution_count": 277,
      "metadata": {
        "colab": {
          "base_uri": "https://localhost:8080/"
        },
        "id": "hJhs4FBaNODW",
        "outputId": "673e877c-1824-4584-fa82-70324ecfba8f"
      },
      "outputs": [
        {
          "data": {
            "text/plain": [
              "tuple"
            ]
          },
          "execution_count": 277,
          "metadata": {},
          "output_type": "execute_result"
        }
      ],
      "source": [
        "type(x[1:])"
      ]
    },
    {
      "cell_type": "code",
      "execution_count": 280,
      "metadata": {
        "id": "eqdRSpKUNODW"
      },
      "outputs": [],
      "source": [
        "# x[2] = 4               # Нельзя!\n",
        "#x[3:5] = [4, 5, 6]    # Нельзя!"
      ]
    },
    {
      "cell_type": "code",
      "execution_count": 281,
      "metadata": {
        "colab": {
          "base_uri": "https://localhost:8080/"
        },
        "id": "VQqZ4-osNODW",
        "outputId": "5242302f-4f63-4428-a79f-8d50966970cd"
      },
      "outputs": [
        {
          "data": {
            "text/plain": [
              "(1, 3, 5, 7, 2, 4, 6, 8)"
            ]
          },
          "execution_count": 281,
          "metadata": {},
          "output_type": "execute_result"
        }
      ],
      "source": [
        "y1 = (1, 3, 5, 7)\n",
        "y2 = (2, 4, 6, 8)\n",
        "y1 + y2                # Конкатенация"
      ]
    },
    {
      "cell_type": "code",
      "execution_count": 283,
      "metadata": {},
      "outputs": [],
      "source": [
        "a = 2\n",
        "b = 10\n",
        "\n",
        "b = a"
      ]
    },
    {
      "cell_type": "code",
      "execution_count": 291,
      "metadata": {
        "colab": {
          "base_uri": "https://localhost:8080/"
        },
        "id": "VIALc8oKNODW",
        "outputId": "fd56f26c-9cb2-4101-9aab-690a1bda7cb2"
      },
      "outputs": [],
      "source": [
        "a, b, c = (1, 2, 3)"
      ]
    },
    {
      "cell_type": "code",
      "execution_count": 292,
      "metadata": {
        "id": "M7gTkmw1NODW"
      },
      "outputs": [],
      "source": [
        "a, b = b, a # Эта и последующая запись одинаковы"
      ]
    },
    {
      "cell_type": "code",
      "execution_count": null,
      "metadata": {
        "id": "zURstHasNODW"
      },
      "outputs": [],
      "source": [
        "(a, b) = (b, a) # Эта и предыдущая запись одинаковы"
      ]
    },
    {
      "cell_type": "code",
      "execution_count": 293,
      "metadata": {
        "id": "_m03313DNODW"
      },
      "outputs": [],
      "source": [
        "tpl = (1, 2, 3, 55)"
      ]
    },
    {
      "cell_type": "code",
      "execution_count": 294,
      "metadata": {
        "colab": {
          "base_uri": "https://localhost:8080/"
        },
        "id": "IC_T_O5ENODW",
        "outputId": "724f15d1-769c-4502-e4c0-a5c60a365e93"
      },
      "outputs": [
        {
          "name": "stdout",
          "output_type": "stream",
          "text": [
            "1 2 3 55\n"
          ]
        }
      ],
      "source": [
        "a, b, c, d = (1, 2, 3, 55)\n",
        "print(a, b, c, d)"
      ]
    },
    {
      "attachments": {},
      "cell_type": "markdown",
      "metadata": {
        "id": "_gg_qmvqNODX"
      },
      "source": [
        "# Словари\n",
        "_Словарь_ ( _ассоциативный массив_ ) - изменяемый контейнер. Обращение к элементу словаря - по имени (ключу) элемента. В качестве ключей могут выступать любые неизменяемые типы, в частности, строки, числа (int, long, float), кортежи."
      ]
    },
    {
      "cell_type": "code",
      "execution_count": 297,
      "metadata": {
        "colab": {
          "base_uri": "https://localhost:8080/"
        },
        "id": "K-bycpNzNODX",
        "outputId": "9371e8c3-3b95-4e57-8062-e31ba271a841"
      },
      "outputs": [
        {
          "name": "stdout",
          "output_type": "stream",
          "text": [
            "{'FirstName': 'Isac', 'Яблоко': 100}\n"
          ]
        }
      ],
      "source": [
        "person = {'FirstName':'Isac','Яблоко':100}\n",
        "print(person)"
      ]
    },
    {
      "cell_type": "code",
      "execution_count": 298,
      "metadata": {},
      "outputs": [
        {
          "data": {
            "text/plain": [
              "100"
            ]
          },
          "execution_count": 298,
          "metadata": {},
          "output_type": "execute_result"
        }
      ],
      "source": [
        "person[\"Яблоко\"]"
      ]
    },
    {
      "cell_type": "code",
      "execution_count": 309,
      "metadata": {
        "id": "8GU7bt5ENODX"
      },
      "outputs": [],
      "source": [
        "person = {'FirstName': 'Isac', 'LastName': 'Newton', (1, 2): 5, 'Age': 22, 2:123, 2.3:2.3}"
      ]
    },
    {
      "cell_type": "code",
      "execution_count": 310,
      "metadata": {
        "colab": {
          "base_uri": "https://localhost:8080/"
        },
        "id": "wmNcd4sYNODX",
        "outputId": "b5aca5c8-6cfa-4699-e79d-88257c276405"
      },
      "outputs": [
        {
          "data": {
            "text/plain": [
              "dict"
            ]
          },
          "execution_count": 310,
          "metadata": {},
          "output_type": "execute_result"
        }
      ],
      "source": [
        "type(person)"
      ]
    },
    {
      "cell_type": "code",
      "execution_count": 315,
      "metadata": {
        "colab": {
          "base_uri": "https://localhost:8080/"
        },
        "id": "e8gwlzsWNODY",
        "outputId": "3ee87318-ed0b-486c-d5e2-15079a3c5d3e"
      },
      "outputs": [
        {
          "name": "stdout",
          "output_type": "stream",
          "text": [
            "{'FirstName': 'Isaaaaaaaaac', 'LastName': 'Newton', (1, 2): 5, 'Age': 50, 2: 123, 2.3: 2.3, 'Profession': 'Scientist', -33.5: 65535, (1, 3): [1, 2, 4], True: [1, 2, 4]}\n"
          ]
        }
      ],
      "source": [
        "person['FirstName'] = 'Isaaaaaaaaac'\n",
        "person['Profession'] = 'Scientist'\n",
        "person['Age'] = 50\n",
        "person[-33.5] = 0xFFFF\n",
        "person[(1,3)] = [1, 2, 4,]\n",
        "person[True] = [1, 2, 4,]\n",
        "print(person)"
      ]
    },
    {
      "cell_type": "code",
      "execution_count": 316,
      "metadata": {
        "colab": {
          "base_uri": "https://localhost:8080/"
        },
        "id": "Dxzt9L2XNODY",
        "outputId": "6f70f082-51e3-411f-8438-2d1bb7b66ca2"
      },
      "outputs": [
        {
          "data": {
            "text/plain": [
              "{'FirstName': 'Isaaaaaaaaac',\n",
              " 'LastName': 'Newton',\n",
              " (1, 2): '123',\n",
              " 'Age': 50,\n",
              " 2: 123,\n",
              " 2.3: 2.3,\n",
              " 'Profession': 'Scientist',\n",
              " -33.5: 65535,\n",
              " (1, 3): [1, 2, 4],\n",
              " True: [1, 2, 4]}"
            ]
          },
          "execution_count": 316,
          "metadata": {},
          "output_type": "execute_result"
        }
      ],
      "source": [
        "person[(1, 2)] = '123' # В качестве ключей используем любые неизменяемые типы\n",
        "person"
      ]
    },
    {
      "cell_type": "code",
      "execution_count": 317,
      "metadata": {
        "colab": {
          "base_uri": "https://localhost:8080/"
        },
        "id": "QfhDq3w4NODY",
        "outputId": "d50b76fc-8bb6-4b5b-f357-e4416a8ac70d"
      },
      "outputs": [
        {
          "name": "stdout",
          "output_type": "stream",
          "text": [
            "{(1, 3): 5.555, (4, 8): 6.666}\n"
          ]
        }
      ],
      "source": [
        "sparse = {(1, 3): 5.555, (4, 8): 6.666}\n",
        "print(sparse)"
      ]
    },
    {
      "cell_type": "code",
      "execution_count": 318,
      "metadata": {
        "colab": {
          "base_uri": "https://localhost:8080/"
        },
        "id": "S9UHYvAwNODY",
        "outputId": "6e19291f-b4d0-4bd4-81b8-6385382f0fe1"
      },
      "outputs": [
        {
          "data": {
            "text/plain": [
              "False"
            ]
          },
          "execution_count": 318,
          "metadata": {},
          "output_type": "execute_result"
        }
      ],
      "source": [
        "(1, 4) in sparse"
      ]
    },
    {
      "cell_type": "code",
      "execution_count": 319,
      "metadata": {
        "colab": {
          "base_uri": "https://localhost:8080/"
        },
        "id": "UqSLlVgENODY",
        "outputId": "0475aa5d-2747-4cb9-c0da-217d229f4a08"
      },
      "outputs": [
        {
          "data": {
            "text/plain": [
              "True"
            ]
          },
          "execution_count": 319,
          "metadata": {},
          "output_type": "execute_result"
        }
      ],
      "source": [
        "(1, 3) in sparse"
      ]
    },
    {
      "cell_type": "code",
      "execution_count": 320,
      "metadata": {},
      "outputs": [
        {
          "data": {
            "text/plain": [
              "{'FirstName': 'Isaaaaaaaaac',\n",
              " 'LastName': 'Newton',\n",
              " (1, 2): '123',\n",
              " 'Age': 50,\n",
              " 2: 123,\n",
              " 2.3: 2.3,\n",
              " 'Profession': 'Scientist',\n",
              " -33.5: 65535,\n",
              " (1, 3): [1, 2, 4],\n",
              " True: [1, 2, 4]}"
            ]
          },
          "execution_count": 320,
          "metadata": {},
          "output_type": "execute_result"
        }
      ],
      "source": [
        "person"
      ]
    },
    {
      "cell_type": "code",
      "execution_count": 321,
      "metadata": {
        "colab": {
          "base_uri": "https://localhost:8080/"
        },
        "id": "mbeSPZVFNODY",
        "outputId": "485efa19-ee8a-4db4-eeff-b977adbce1e5"
      },
      "outputs": [
        {
          "data": {
            "text/plain": [
              "dict_keys(['FirstName', 'LastName', (1, 2), 'Age', 2, 2.3, 'Profession', -33.5, (1, 3), True])"
            ]
          },
          "execution_count": 321,
          "metadata": {},
          "output_type": "execute_result"
        }
      ],
      "source": [
        "person.keys() # Метод \"keys\" выведет на экран ключи словаря"
      ]
    },
    {
      "cell_type": "code",
      "execution_count": 322,
      "metadata": {
        "colab": {
          "base_uri": "https://localhost:8080/"
        },
        "id": "Rkj32PUqNODY",
        "outputId": "21e92612-42f4-4170-de89-25940d8444cc"
      },
      "outputs": [
        {
          "data": {
            "text/plain": [
              "dict_values(['Isaaaaaaaaac', 'Newton', '123', 50, 123, 2.3, 'Scientist', 65535, [1, 2, 4], [1, 2, 4]])"
            ]
          },
          "execution_count": 322,
          "metadata": {},
          "output_type": "execute_result"
        }
      ],
      "source": [
        "person.values() # Метод \"values\" выведет на экран значения словаря"
      ]
    },
    {
      "cell_type": "code",
      "execution_count": 324,
      "metadata": {
        "colab": {
          "base_uri": "https://localhost:8080/"
        },
        "id": "T-aGEqllNODZ",
        "outputId": "d5f183e2-a865-4e86-a334-923621544498"
      },
      "outputs": [
        {
          "data": {
            "text/plain": [
              "True"
            ]
          },
          "execution_count": 324,
          "metadata": {},
          "output_type": "execute_result"
        }
      ],
      "source": [
        "'Isaaaaaaaaac' in person.values()"
      ]
    },
    {
      "cell_type": "code",
      "execution_count": 325,
      "metadata": {
        "colab": {
          "base_uri": "https://localhost:8080/"
        },
        "id": "kiG7RAYFNODZ",
        "outputId": "d095137d-5c74-429e-f377-f33fc5752862"
      },
      "outputs": [
        {
          "name": "stdout",
          "output_type": "stream",
          "text": [
            "{'LastName': 'Newton', (1, 2): '123', 'Age': 50, 2: 123, 2.3: 2.3, 'Profession': 'Scientist', -33.5: 65535, (1, 3): [1, 2, 4], True: [1, 2, 4]}\n"
          ]
        }
      ],
      "source": [
        "del person['FirstName']\n",
        "print(person)"
      ]
    },
    {
      "cell_type": "code",
      "execution_count": 326,
      "metadata": {
        "colab": {
          "base_uri": "https://localhost:8080/"
        },
        "id": "t7MyqT02NODZ",
        "outputId": "f1843bbe-de0a-4ad6-fcf3-fb14a39ecfce"
      },
      "outputs": [
        {
          "data": {
            "text/plain": [
              "dict_items([('LastName', 'Newton'), ((1, 2), '123'), ('Age', 50), (2, 123), (2.3, 2.3), ('Profession', 'Scientist'), (-33.5, 65535), ((1, 3), [1, 2, 4]), (True, [1, 2, 4])])"
            ]
          },
          "execution_count": 326,
          "metadata": {},
          "output_type": "execute_result"
        }
      ],
      "source": [
        "person.items() # Метод \"items\" выводит на экран пары ключ:значение "
      ]
    },
    {
      "attachments": {},
      "cell_type": "markdown",
      "metadata": {
        "id": "ISDOdsDzNODc"
      },
      "source": [
        "# Управляющие конструкции"
      ]
    },
    {
      "attachments": {},
      "cell_type": "markdown",
      "metadata": {
        "id": "WQaQLzgKNODc"
      },
      "source": [
        "## Условие `if`"
      ]
    },
    {
      "cell_type": "code",
      "execution_count": 329,
      "metadata": {},
      "outputs": [
        {
          "data": {
            "text/plain": [
              "True"
            ]
          },
          "execution_count": 329,
          "metadata": {},
          "output_type": "execute_result"
        }
      ],
      "source": [
        "brother_age > sister_age"
      ]
    },
    {
      "cell_type": "code",
      "execution_count": 331,
      "metadata": {
        "colab": {
          "base_uri": "https://localhost:8080/"
        },
        "id": "vxMqVovNNODc",
        "outputId": "15f8f525-1f42-44ec-c588-a666d397eb34"
      },
      "outputs": [
        {
          "name": "stdout",
          "output_type": "stream",
          "text": [
            "19\n",
            "Все!\n"
          ]
        }
      ],
      "source": [
        "brother_age = 19\n",
        "sister_age = 18\n",
        "if brother_age > sister_age:\n",
        "    print(brother_age) # Условие if контролирует: Можно ли зайти внутрь в конструкцию после if или нет \n",
        "print('Все!')"
      ]
    },
    {
      "cell_type": "code",
      "execution_count": 333,
      "metadata": {
        "colab": {
          "base_uri": "https://localhost:8080/"
        },
        "id": "Jcr1AyypNODc",
        "outputId": "56f1dc6a-e9c3-452f-871f-708b199cc960"
      },
      "outputs": [
        {
          "name": "stdout",
          "output_type": "stream",
          "text": [
            "Брат старше сестры\n"
          ]
        }
      ],
      "source": [
        "brother_age = 20\n",
        "sister_age = 13\n",
        "if brother_age > sister_age:\n",
        "    print('Брат старше сестры')\n",
        "else:\n",
        "    print('Брат не старше сестры')"
      ]
    },
    {
      "cell_type": "code",
      "execution_count": 334,
      "metadata": {
        "colab": {
          "base_uri": "https://localhost:8080/"
        },
        "id": "8PBQ6NQtNODc",
        "outputId": "237e9206-b942-42f7-ed99-bf44315864b4"
      },
      "outputs": [
        {
          "name": "stdout",
          "output_type": "stream",
          "text": [
            "Брат младше сестры\n"
          ]
        }
      ],
      "source": [
        "brother_age = 10\n",
        "sister_age = 13\n",
        "if brother_age > sister_age:\n",
        "    print('Брат старше сестры')\n",
        "else:\n",
        "    if brother_age < sister_age: \n",
        "        print('Брат младше сестры')\n",
        "    else:\n",
        "        print('Брат и сестра одного возраста')"
      ]
    },
    {
      "attachments": {},
      "cell_type": "markdown",
      "metadata": {},
      "source": [
        "Конструкция `elif` - это комбинация двух других конструкций `if` и `else`"
      ]
    },
    {
      "cell_type": "code",
      "execution_count": 338,
      "metadata": {
        "colab": {
          "base_uri": "https://localhost:8080/"
        },
        "id": "jaOdeAHUNODc",
        "outputId": "06001451-3768-4a41-8615-2099e64ac1d7"
      },
      "outputs": [
        {
          "name": "stdout",
          "output_type": "stream",
          "text": [
            "Брат и сестра одного возраста\n"
          ]
        }
      ],
      "source": [
        "brother_age = 20\n",
        "sister_age = 20\n",
        "if brother_age > sister_age:\n",
        "    print('Брат старше сестры')\n",
        "elif brother_age < sister_age: # elif может быть много\n",
        "    print('Брат младше сестры')\n",
        "#elif условие:\n",
        "#    команды\n",
        "elif brother_age == sister_age:\n",
        "    print('Брат и сестра одного возраста')"
      ]
    },
    {
      "attachments": {},
      "cell_type": "markdown",
      "metadata": {
        "id": "KONlQZ1DNODc"
      },
      "source": [
        "## Цикл `while`"
      ]
    },
    {
      "cell_type": "code",
      "execution_count": 341,
      "metadata": {},
      "outputs": [],
      "source": [
        "a = 16\n",
        "b = 4\n",
        "tmp = a % b"
      ]
    },
    {
      "cell_type": "code",
      "execution_count": 342,
      "metadata": {},
      "outputs": [
        {
          "name": "stdout",
          "output_type": "stream",
          "text": [
            "0\n"
          ]
        }
      ],
      "source": [
        "print(tmp)"
      ]
    },
    {
      "cell_type": "code",
      "execution_count": 339,
      "metadata": {
        "colab": {
          "base_uri": "https://localhost:8080/"
        },
        "id": "Gifkz6tDNODc",
        "outputId": "d0897ddf-3216-4285-e519-bdcde9112912"
      },
      "outputs": [
        {
          "name": "stdout",
          "output_type": "stream",
          "text": [
            "4\n"
          ]
        }
      ],
      "source": [
        "a = 16\n",
        "b = 4\n",
        "while b != 0:\n",
        "    tmp = a % b\n",
        "    a = b\n",
        "    b = tmp\n",
        "\n",
        "print(a)"
      ]
    },
    {
      "cell_type": "code",
      "execution_count": 347,
      "metadata": {
        "colab": {
          "base_uri": "https://localhost:8080/"
        },
        "id": "vM7ZtCL3NODd",
        "outputId": "7899b43e-723a-4d4a-9f95-d1c8dca5e076"
      },
      "outputs": [
        {
          "name": "stdout",
          "output_type": "stream",
          "text": [
            "-0.09999999999999987\n"
          ]
        }
      ],
      "source": [
        "eps = 1\n",
        "while 1 + eps > 1:\n",
        "    eps = eps - 0.1\n",
        "\n",
        "print(eps)"
      ]
    },
    {
      "attachments": {},
      "cell_type": "markdown",
      "metadata": {
        "collapsed": true,
        "id": "pX8cfZhZNODd"
      },
      "source": [
        "Имеются `continue`, `break`\n"
      ]
    },
    {
      "cell_type": "code",
      "execution_count": 348,
      "metadata": {},
      "outputs": [
        {
          "name": "stdout",
          "output_type": "stream",
          "text": [
            "0.9\n"
          ]
        }
      ],
      "source": [
        "eps = 1\n",
        "while 1 + eps > 1:\n",
        "    eps = eps - 0.1\n",
        "    break\n",
        "\n",
        "print(eps)"
      ]
    },
    {
      "cell_type": "code",
      "execution_count": 353,
      "metadata": {},
      "outputs": [
        {
          "name": "stdout",
          "output_type": "stream",
          "text": [
            "Шаг номер:  0\n",
            "Шаг номер:  1\n",
            "Шаг номер:  2\n",
            "Шаг номер:  3\n",
            "Шаг номер:  4\n",
            "Шаг номер:  5\n",
            "Шаг номер:  6\n",
            "Шаг номер:  7\n",
            "Шаг номер:  8\n",
            "Шаг номер:  9\n",
            "Шаг номер:  10\n",
            "-0.09999999999999987\n"
          ]
        }
      ],
      "source": [
        "eps = 1\n",
        "i = 0\n",
        "while 1 + eps > 1:\n",
        "    eps = eps - 0.1\n",
        "    print('Шаг номер: ', i)\n",
        "    i = i + 1\n",
        "    \n",
        "\n",
        "print(eps)"
      ]
    },
    {
      "attachments": {},
      "cell_type": "markdown",
      "metadata": {
        "id": "hMNE_eM4NODd"
      },
      "source": [
        "# Цикл `for`"
      ]
    },
    {
      "cell_type": "code",
      "execution_count": 358,
      "metadata": {
        "colab": {
          "base_uri": "https://localhost:8080/"
        },
        "id": "RGsQPdbWNODe",
        "outputId": "a2bed177-253c-438e-97ba-cb09bacb8e90"
      },
      "outputs": [
        {
          "name": "stdout",
          "output_type": "stream",
          "text": [
            "1\n",
            "2\n",
            "3\n",
            "4\n",
            "5\n",
            "6\n",
            "7\n",
            "8\n",
            "9\n"
          ]
        }
      ],
      "source": [
        "for k in range(1, 10): # функция range возвращает последовательность чисел от одного числа до другого\n",
        "    print(k)"
      ]
    },
    {
      "cell_type": "code",
      "execution_count": 359,
      "metadata": {
        "colab": {
          "base_uri": "https://localhost:8080/"
        },
        "id": "f39Li5a5NODe",
        "outputId": "b7f06d5c-e214-4112-8151-9894c2d63e7e"
      },
      "outputs": [
        {
          "name": "stdout",
          "output_type": "stream",
          "text": [
            "1\n",
            "2\n",
            "3\n",
            "4\n"
          ]
        }
      ],
      "source": [
        "for number_name in [1, 2, 3, 4]:\n",
        "    # continue\n",
        "    print(number_name)"
      ]
    },
    {
      "cell_type": "code",
      "execution_count": 360,
      "metadata": {
        "colab": {
          "base_uri": "https://localhost:8080/"
        },
        "id": "6r-B-1qMNODe",
        "outputId": "f1815a5e-becf-490f-9d6d-a2f57adccaaf"
      },
      "outputs": [
        {
          "name": "stdout",
          "output_type": "stream",
          "text": [
            "l\n",
            "e\n",
            "t\n",
            "t\n",
            "e\n",
            "r\n",
            "s\n"
          ]
        }
      ],
      "source": [
        "for i in \"letters\":\n",
        "    print(i)"
      ]
    },
    {
      "cell_type": "code",
      "execution_count": 361,
      "metadata": {
        "colab": {
          "base_uri": "https://localhost:8080/"
        },
        "id": "PJuM8MoINODe",
        "outputId": "3fd6f422-3747-472f-f2f0-4e8dae69b684"
      },
      "outputs": [
        {
          "name": "stdout",
          "output_type": "stream",
          "text": [
            "1\n",
            "2\n",
            "tree\n",
            "four\n",
            "[5, 6, 7]\n"
          ]
        }
      ],
      "source": [
        "for item in [1, 2, 'three', 'four', [5, 6, 7]]:\n",
        "    print(item)"
      ]
    },
    {
      "cell_type": "code",
      "execution_count": 364,
      "metadata": {},
      "outputs": [],
      "source": [
        "### Вспомним как обращаться к словарю\n",
        "person = {'surname': 'Gauss', 'name': 'Karl', (1, 2): 3}"
      ]
    },
    {
      "cell_type": "code",
      "execution_count": 366,
      "metadata": {},
      "outputs": [
        {
          "data": {
            "text/plain": [
              "'Gauss'"
            ]
          },
          "execution_count": 366,
          "metadata": {},
          "output_type": "execute_result"
        }
      ],
      "source": [
        "person['surname']"
      ]
    },
    {
      "cell_type": "code",
      "execution_count": 368,
      "metadata": {
        "colab": {
          "base_uri": "https://localhost:8080/"
        },
        "id": "nIywt4UpNODe",
        "outputId": "ed834bf7-c5ac-453a-a188-701b4348467c"
      },
      "outputs": [
        {
          "name": "stdout",
          "output_type": "stream",
          "text": [
            "Gauss\n",
            "Karl\n",
            "3\n"
          ]
        }
      ],
      "source": [
        "for key in person:\n",
        "    # print(key)\n",
        "    print(person[key])"
      ]
    },
    {
      "attachments": {},
      "cell_type": "markdown",
      "metadata": {
        "id": "YHK5LpsyNODh"
      },
      "source": [
        "# Функции"
      ]
    },
    {
      "cell_type": "code",
      "execution_count": 381,
      "metadata": {},
      "outputs": [
        {
          "name": "stdout",
          "output_type": "stream",
          "text": [
            "1\n",
            "3\n",
            "5\n"
          ]
        }
      ],
      "source": [
        "for i in range(1,6,2):\n",
        "    print(i)"
      ]
    },
    {
      "cell_type": "code",
      "execution_count": 382,
      "metadata": {
        "colab": {
          "base_uri": "https://localhost:8080/"
        },
        "id": "8gh-kx7jNODh",
        "outputId": "518924e0-e9ce-49a3-b438-5baf394a6f56"
      },
      "outputs": [],
      "source": [
        "# Можно создавать свои функции, которые используются для сокращения кода\n",
        "def some_function(a, b):\n",
        "    a = abs(a)\n",
        "    b = abs(b)\n",
        "    for i in range(1,6,2):\n",
        "        a = a + i \n",
        "        b = b + i \n",
        "    return a, b # Функция  должна возвращать то, что внутри посчитала иначе у в результате будет None"
      ]
    },
    {
      "cell_type": "code",
      "execution_count": 391,
      "metadata": {},
      "outputs": [],
      "source": [
        "a, b = some_function(-5,10)"
      ]
    },
    {
      "cell_type": "code",
      "execution_count": 400,
      "metadata": {
        "id": "QDSCeoTMNODh"
      },
      "outputs": [],
      "source": [
        "def fibo(B = 50):\n",
        "    # Обычный комментарий\n",
        "    '''\n",
        "    Print Fibonacci numbers less than or equal to B\n",
        "    '''\n",
        "    a, b = 0, 1\n",
        "    while b <= B:\n",
        "        print(b)\n",
        "        a, b = b, a + b\n",
        "        "
      ]
    },
    {
      "cell_type": "code",
      "execution_count": 401,
      "metadata": {
        "colab": {
          "base_uri": "https://localhost:8080/"
        },
        "id": "mtX9cyEtNODh",
        "outputId": "8a051dd7-4e30-4b57-a047-7bc3434aeeb6"
      },
      "outputs": [
        {
          "name": "stdout",
          "output_type": "stream",
          "text": [
            "1\n",
            "1\n",
            "2\n",
            "3\n",
            "5\n",
            "8\n",
            "13\n",
            "21\n",
            "34\n",
            "55\n",
            "89\n",
            "144\n",
            "233\n",
            "377\n",
            "610\n",
            "987\n"
          ]
        }
      ],
      "source": [
        "fibo(1000)"
      ]
    },
    {
      "attachments": {},
      "cell_type": "markdown",
      "metadata": {
        "id": "di5WkgalNODj"
      },
      "source": [
        "### Видимость объектов"
      ]
    },
    {
      "attachments": {},
      "cell_type": "markdown",
      "metadata": {
        "id": "6zHTgju4NODj"
      },
      "source": [
        "Имена из вызывающего контекста использовать можно, но присваивать им другие объекты нельзя.\n",
        "Объекты менять можно."
      ]
    },
    {
      "cell_type": "code",
      "execution_count": 403,
      "metadata": {},
      "outputs": [],
      "source": [
        "def fun():\n",
        "    a = 3\n",
        "    print(a)"
      ]
    },
    {
      "cell_type": "code",
      "execution_count": 408,
      "metadata": {
        "colab": {
          "base_uri": "https://localhost:8080/"
        },
        "id": "cj2mNma-NODj",
        "outputId": "3f7b393a-5162-41be-9181-1cc9ac138982"
      },
      "outputs": [
        {
          "name": "stdout",
          "output_type": "stream",
          "text": [
            "3\n",
            "123\n"
          ]
        }
      ],
      "source": [
        "a = 123\n",
        "fun()\n",
        "print(a)"
      ]
    },
    {
      "cell_type": "code",
      "execution_count": 409,
      "metadata": {
        "colab": {
          "base_uri": "https://localhost:8080/"
        },
        "id": "4IS3tVhZNODk",
        "outputId": "728abf2e-0957-40f8-d6be-817d0e4a18a5"
      },
      "outputs": [
        {
          "name": "stdout",
          "output_type": "stream",
          "text": [
            "124\n",
            "123\n"
          ]
        }
      ],
      "source": [
        "def fun():\n",
        "    print(a + 1)  # Так можно\n",
        "    # a = 3  # Так нельзя\n",
        "\n",
        "    \n",
        "a = 123\n",
        "fun()    \n",
        "print(a)"
      ]
    },
    {
      "cell_type": "code",
      "execution_count": 414,
      "metadata": {
        "colab": {
          "base_uri": "https://localhost:8080/"
        },
        "id": "yiO7Ehs7NODk",
        "outputId": "bba5955e-3fc3-4781-edfa-d8f13da2ff17"
      },
      "outputs": [
        {
          "name": "stdout",
          "output_type": "stream",
          "text": [
            "['NewValue0', 1, 2, 'NewValue3']\n"
          ]
        }
      ],
      "source": [
        "def fun():\n",
        "    lst[0] = 'NewValue0'     # Можно!\n",
        "    lst.append('NewValue3')\n",
        "\n",
        "lst = [0, 1, 2]\n",
        "fun()    \n",
        "print(lst)"
      ]
    },
    {
      "attachments": {},
      "cell_type": "markdown",
      "metadata": {
        "id": "XkokjiVRNODk"
      },
      "source": [
        "# Работа с модулями"
      ]
    },
    {
      "attachments": {},
      "cell_type": "markdown",
      "metadata": {
        "id": "9YhUFdMJNODk"
      },
      "source": [
        "```python\n",
        "import модуль\n",
        "from модуль import что-то конкретное\n",
        "from модуль import *\n",
        "import модуль as псевдоним\n",
        "```"
      ]
    },
    {
      "cell_type": "code",
      "execution_count": 415,
      "metadata": {
        "colab": {
          "base_uri": "https://localhost:8080/"
        },
        "id": "N3PtkbA2NODk",
        "outputId": "1254f280-a71e-49b4-de52-fbd6fc9d61ca"
      },
      "outputs": [
        {
          "name": "stdout",
          "output_type": "stream",
          "text": [
            "3.141592653589793 2.718281828459045\n"
          ]
        }
      ],
      "source": [
        "import math\n",
        "print(math.pi, math.exp(1))"
      ]
    },
    {
      "cell_type": "code",
      "execution_count": 416,
      "metadata": {
        "colab": {
          "base_uri": "https://localhost:8080/"
        },
        "id": "xloCxRQFNODk",
        "outputId": "21efec3b-55a7-473b-cb88-08f0d6132d6b"
      },
      "outputs": [
        {
          "name": "stdout",
          "output_type": "stream",
          "text": [
            "1.4142135623730951\n"
          ]
        }
      ],
      "source": [
        "print(math.sqrt(2))"
      ]
    },
    {
      "cell_type": "code",
      "execution_count": null,
      "metadata": {
        "colab": {
          "base_uri": "https://localhost:8080/"
        },
        "id": "gyQBXpyWNODl",
        "outputId": "5b4a80eb-016c-4f82-e3e8-214d833b4a2d"
      },
      "outputs": [],
      "source": [
        "2**.5"
      ]
    },
    {
      "cell_type": "code",
      "execution_count": null,
      "metadata": {
        "colab": {
          "base_uri": "https://localhost:8080/"
        },
        "id": "hsJ_g9GqNODl",
        "outputId": "bba7e007-1305-4f46-bf11-bb35d443eecd"
      },
      "outputs": [],
      "source": [
        "from math import pi, exp\n",
        "print(pi, exp(1))"
      ]
    },
    {
      "cell_type": "code",
      "execution_count": null,
      "metadata": {
        "colab": {
          "base_uri": "https://localhost:8080/"
        },
        "id": "-UwPaN-ENODl",
        "outputId": "6997d6bf-a5a6-45da-b7da-de140eddc5f8"
      },
      "outputs": [],
      "source": [
        "from math import *\n",
        "print(pi, exp(1), sin(pi), sqrt(2))"
      ]
    },
    {
      "attachments": {},
      "cell_type": "markdown",
      "metadata": {
        "id": "4o0OAGumNODl"
      },
      "source": [
        "Любой файл с кодом на питоне - это уже модуль.\n",
        "```python\n",
        "import модуль\n",
        "```\n",
        "отправляет его на выполнение.\n",
        "\n",
        "Несколько модулей можно объединять в пакеты."
      ]
    }
  ],
  "metadata": {
    "colab": {
      "include_colab_link": true,
      "provenance": []
    },
    "kernelspec": {
      "display_name": "Python 3",
      "language": "python",
      "name": "python3"
    },
    "language_info": {
      "codemirror_mode": {
        "name": "ipython",
        "version": 3
      },
      "file_extension": ".py",
      "mimetype": "text/x-python",
      "name": "python",
      "nbconvert_exporter": "python",
      "pygments_lexer": "ipython3",
      "version": "3.10.10"
    }
  },
  "nbformat": 4,
  "nbformat_minor": 0
}
