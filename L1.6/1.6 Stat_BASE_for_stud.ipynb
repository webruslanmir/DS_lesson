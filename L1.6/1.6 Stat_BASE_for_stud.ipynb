{
 "cells": [
  {
   "cell_type": "markdown",
   "id": "8277ca02",
   "metadata": {
    "id": "8277ca02",
    "papermill": {
     "duration": 0.112743,
     "end_time": "2022-09-17T00:12:57.265328",
     "exception": false,
     "start_time": "2022-09-17T00:12:57.152585",
     "status": "completed"
    },
    "tags": []
   },
   "source": [
    "\n",
    "# Проверка гипотез с помощью python."
   ]
  },
  {
   "cell_type": "markdown",
   "id": "ed2f4a30",
   "metadata": {
    "id": "ed2f4a30",
    "papermill": {
     "duration": 0.109327,
     "end_time": "2022-09-17T00:12:57.963155",
     "exception": false,
     "start_time": "2022-09-17T00:12:57.853828",
     "status": "completed"
    },
    "tags": []
   },
   "source": [
    "## Задание\n",
    "\n",
    "* Выполненить проверку предложенной гипотезы\n",
    "* Выполненить проверку статистической гипотезы для проверки нормальности числовых признаков\n",
    "* Проверка мультиколлинеарности\n",
    "* Все статистические тесты должны быть выполнены с 95%-ным уровнем достоверности (т.е. значение р < 0,05)"
   ]
  },
  {
   "cell_type": "markdown",
   "id": "b36dd14f-cd82-46c1-87de-cde64db77940",
   "metadata": {
    "id": "ba760e61",
    "papermill": {
     "duration": 0.106947,
     "end_time": "2022-09-17T00:13:02.034149",
     "exception": false,
     "start_time": "2022-09-17T00:13:01.927202",
     "status": "completed"
    },
    "tags": []
   },
   "source": [
    "## Датасет"
   ]
  },
  {
   "cell_type": "markdown",
   "id": "ab7d97da-ee9e-4cd5-8d01-f75481a99393",
   "metadata": {},
   "source": [
    "Как данные представлены заказчиком:"
   ]
  },
  {
   "cell_type": "markdown",
   "id": "746dd87c-32f5-4ee4-97f3-ace09b9661ae",
   "metadata": {
    "id": "aaba22c5",
    "papermill": {
     "duration": 0.107761,
     "end_time": "2022-09-17T00:13:02.248931",
     "exception": false,
     "start_time": "2022-09-17T00:13:02.141170",
     "status": "completed"
    },
    "tags": []
   },
   "source": [
    "<table>\n",
    "<thead><tr>\n",
    "<th><strong>Feature Name</strong></th>\n",
    "<th><strong>Description</strong></th>\n",
    "<th><strong>Data Type</strong></th>\n",
    "</tr>\n",
    "</thead>\n",
    "<tbody>\n",
    "<tr>\n",
    "<td>customerID</td>\n",
    "<td>Содержит идентификатор клиента</td>\n",
    "<td>categorical</td>\n",
    "</tr>\n",
    "<tr>\n",
    "<td>gender</td>\n",
    "<td>Пол клиента</td>\n",
    "<td>categorical</td>\n",
    "</tr>\n",
    "<tr>\n",
    "<td>SeniorCitizen</td>\n",
    "<td>Является ли клиент пожилым гражданином</td>\n",
    "<td>numeric, int</td>\n",
    "</tr>\n",
    "<tr>\n",
    "<td>Partner</td>\n",
    "<td>Есть ли у клиента партнер</td>\n",
    "<td>categorical</td>\n",
    "</tr>\n",
    "<tr>\n",
    "<td>Dependents</td>\n",
    "<td>Является ли клиент кормильцем</td>\n",
    "<td>categorical</td>\n",
    "</tr>\n",
    "<tr>\n",
    "<td>tenure</td>\n",
    "<td>Количество месяцев, в течение которых клиент оставался в компании</td>\n",
    "<td>numeric, int</td>\n",
    "</tr>\n",
    "<tr>\n",
    "<td>PhoneService</td>\n",
    "<td>Есть ли у клиента телефонная связь</td>\n",
    "<td>categorical</td>\n",
    "</tr>\n",
    "<tr>\n",
    "<td>MultipleLines</td>\n",
    "<td>Есть ли у клиента несколько линий</td>\n",
    "<td>categorical</td>\n",
    "</tr>\n",
    "<tr>\n",
    "<td>InternetService</td>\n",
    "<td>Интернет-провайдер клиента</td>\n",
    "<td>categorical</td>\n",
    "</tr>\n",
    "<tr>\n",
    "<td>OnlineSecurity</td>\n",
    "<td>Есть ли у клиента онлайн-безопасность</td>\n",
    "<td>categorical</td>\n",
    "</tr>\n",
    "<tr>\n",
    "<td>OnlineBackup</td>\n",
    "<td>Есть ли у клиента онлайн-резервное копирование</td>\n",
    "<td>categorical</td>\n",
    "</tr>\n",
    "<tr>\n",
    "<td>DeviceProtection</td>\n",
    "<td>Имеет ли клиент защиту устройства</td>\n",
    "<td>categorical</td>\n",
    "</tr>\n",
    "<tr>\n",
    "<td>TechSupport</td>\n",
    "<td>Есть ли у клиента техническая поддержка</td>\n",
    "<td>categorical</td>\n",
    "</tr>\n",
    "<tr>\n",
    "<td>streamingTV</td>\n",
    "<td>Есть ли у клиента потоковое телевидение</td>\n",
    "<td>categorical</td>\n",
    "</tr>\n",
    "<tr>\n",
    "<td>streamingMovies</td>\n",
    "<td>Есть ли у клиента стриминговые сервисы</td>\n",
    "<td>categorical</td>\n",
    "</tr>\n",
    "<tr>\n",
    "<td>Contract</td>\n",
    "<td>Срок действия контракта заказчика</td>\n",
    "<td>categorical</td>\n",
    "</tr>\n",
    "<tr>\n",
    "<td>PaperlessBilling</td>\n",
    "<td>имеет ли клиент безналичные счета</td>\n",
    "<td>categorical</td>\n",
    "</tr>\n",
    "<tr>\n",
    "<td>PaymentMethod</td>\n",
    "<td>Способ оплаты клиента</td>\n",
    "<td>categorical</td>\n",
    "</tr>\n",
    "<tr>\n",
    "<td>MonthlyCharges</td>\n",
    "<td>Сумма, взимаемая с клиента ежемесячно </td>\n",
    "<td> numeric , int</td>\n",
    "</tr>\n",
    "<tr>\n",
    "<td>TotalCharges</td>\n",
    "<td>Общая сумма, списанная с клиента</td>\n",
    "<td>object</td>\n",
    "</tr>\n",
    "<tr>\n",
    "<td>Churn</td>\n",
    "<td>Ушел ли клиент</td>\n",
    "<td>categorical</td>\n",
    "</tr>\n",
    "</tbody>\n",
    "</table>"
   ]
  },
  {
   "cell_type": "markdown",
   "id": "08ae603f-bf76-4e2a-b7e0-cc8f4c48ea08",
   "metadata": {},
   "source": [
    "Описание от заказчика:\n",
    "\n",
    "Каждая строка представляет клиента, каждый столбец содержит атрибуты клиента.\n",
    "\n",
    "Набор данных включает информацию о:\n",
    "\n",
    "- Клиенты, которые ушли в течение последнего месяца - колонка называется `Churn`\n",
    "- Услуги, на которые подписался каждый клиент - телефон, несколько линий, интернет, онлайн-безопасность, резервное копирование, защита устройств, техническая поддержка, потоковое ТВ и фильмы.\n",
    "- Информация о счетах клиентов - как долго они являются клиентами, контракт, способ оплаты, безналичные счета, ежемесячные платежи и общая сумма платежей.\n",
    "- Демографическая информация о клиентах - пол, возраст, наличие партнеров и иждивенцев."
   ]
  },
  {
   "cell_type": "markdown",
   "id": "d5987f69",
   "metadata": {
    "id": "d5987f69",
    "papermill": {
     "duration": 0.104938,
     "end_time": "2022-09-17T00:12:58.405685",
     "exception": false,
     "start_time": "2022-09-17T00:12:58.300747",
     "status": "completed"
    },
    "tags": []
   },
   "source": [
    "## 1. Импорт Библиотек "
   ]
  },
  {
   "cell_type": "markdown",
   "id": "02b1ba32-c7a4-4cca-940c-2c26096652a5",
   "metadata": {},
   "source": [
    "Импортируйте необходимые библиотеки"
   ]
  },
  {
   "cell_type": "code",
   "execution_count": 102,
   "id": "aced3dd7",
   "metadata": {
    "_kg_hide-input": true,
    "colab": {
     "base_uri": "https://localhost:8080/",
     "height": 17
    },
    "id": "aced3dd7",
    "outputId": "8b15989a-7641-4dd8-e1cd-acc9568ed88f",
    "papermill": {
     "duration": 2.648922,
     "end_time": "2022-09-17T00:13:01.160303",
     "exception": false,
     "start_time": "2022-09-17T00:12:58.511381",
     "status": "completed"
    },
    "tags": [],
    "ExecuteTime": {
     "end_time": "2024-09-19T22:22:02.785163400Z",
     "start_time": "2024-09-19T22:22:02.629148100Z"
    }
   },
   "outputs": [],
   "source": [
    "import numpy as np\n",
    "import pandas as pd\n",
    "pd.set_option('display.max_columns', None) # отобразить все колонки\n",
    "\n",
    "from scipy import stats\n",
    "import warnings\n",
    "warnings.filterwarnings(\"ignore\")"
   ]
  },
  {
   "cell_type": "markdown",
   "id": "a08aba17",
   "metadata": {
    "id": "a08aba17",
    "papermill": {
     "duration": 0.105855,
     "end_time": "2022-09-17T00:13:01.597528",
     "exception": false,
     "start_time": "2022-09-17T00:13:01.491673",
     "status": "completed"
    },
    "tags": []
   },
   "source": [
    "## 2. Данные"
   ]
  },
  {
   "cell_type": "code",
   "execution_count": 103,
   "id": "423cbac6",
   "metadata": {
    "colab": {
     "base_uri": "https://localhost:8080/",
     "height": 369
    },
    "id": "423cbac6",
    "outputId": "bef79296-7f1f-4e53-e1d6-0b349fee9c6a",
    "papermill": {
     "duration": 0.24658,
     "end_time": "2022-09-17T00:13:02.607322",
     "exception": false,
     "start_time": "2022-09-17T00:13:02.360742",
     "status": "completed"
    },
    "tags": [],
    "ExecuteTime": {
     "end_time": "2024-09-19T22:22:03.587786900Z",
     "start_time": "2024-09-19T22:22:02.788417500Z"
    }
   },
   "outputs": [
    {
     "data": {
      "text/plain": "   customerID  gender  SeniorCitizen Partner Dependents  tenure PhoneService  \\\n0  7590-VHVEG  Female              0     Yes         No       1           No   \n1  5575-GNVDE    Male              0      No         No      34          Yes   \n2  3668-QPYBK    Male              0      No         No       2          Yes   \n3  7795-CFOCW    Male              0      No         No      45           No   \n4  9237-HQITU  Female              0      No         No       2          Yes   \n\n      MultipleLines InternetService OnlineSecurity OnlineBackup  \\\n0  No phone service             DSL             No          Yes   \n1                No             DSL            Yes           No   \n2                No             DSL            Yes          Yes   \n3  No phone service             DSL            Yes           No   \n4                No     Fiber optic             No           No   \n\n  DeviceProtection TechSupport StreamingTV StreamingMovies        Contract  \\\n0               No          No          No              No  Month-to-month   \n1              Yes          No          No              No        One year   \n2               No          No          No              No  Month-to-month   \n3              Yes         Yes          No              No        One year   \n4               No          No          No              No  Month-to-month   \n\n  PaperlessBilling              PaymentMethod  MonthlyCharges TotalCharges  \\\n0              Yes           Electronic check           29.85        29.85   \n1               No               Mailed check           56.95       1889.5   \n2              Yes               Mailed check           53.85       108.15   \n3               No  Bank transfer (automatic)           42.30      1840.75   \n4              Yes           Electronic check           70.70       151.65   \n\n  Churn  \n0    No  \n1    No  \n2   Yes  \n3    No  \n4   Yes  ",
      "text/html": "<div>\n<style scoped>\n    .dataframe tbody tr th:only-of-type {\n        vertical-align: middle;\n    }\n\n    .dataframe tbody tr th {\n        vertical-align: top;\n    }\n\n    .dataframe thead th {\n        text-align: right;\n    }\n</style>\n<table border=\"1\" class=\"dataframe\">\n  <thead>\n    <tr style=\"text-align: right;\">\n      <th></th>\n      <th>customerID</th>\n      <th>gender</th>\n      <th>SeniorCitizen</th>\n      <th>Partner</th>\n      <th>Dependents</th>\n      <th>tenure</th>\n      <th>PhoneService</th>\n      <th>MultipleLines</th>\n      <th>InternetService</th>\n      <th>OnlineSecurity</th>\n      <th>OnlineBackup</th>\n      <th>DeviceProtection</th>\n      <th>TechSupport</th>\n      <th>StreamingTV</th>\n      <th>StreamingMovies</th>\n      <th>Contract</th>\n      <th>PaperlessBilling</th>\n      <th>PaymentMethod</th>\n      <th>MonthlyCharges</th>\n      <th>TotalCharges</th>\n      <th>Churn</th>\n    </tr>\n  </thead>\n  <tbody>\n    <tr>\n      <th>0</th>\n      <td>7590-VHVEG</td>\n      <td>Female</td>\n      <td>0</td>\n      <td>Yes</td>\n      <td>No</td>\n      <td>1</td>\n      <td>No</td>\n      <td>No phone service</td>\n      <td>DSL</td>\n      <td>No</td>\n      <td>Yes</td>\n      <td>No</td>\n      <td>No</td>\n      <td>No</td>\n      <td>No</td>\n      <td>Month-to-month</td>\n      <td>Yes</td>\n      <td>Electronic check</td>\n      <td>29.85</td>\n      <td>29.85</td>\n      <td>No</td>\n    </tr>\n    <tr>\n      <th>1</th>\n      <td>5575-GNVDE</td>\n      <td>Male</td>\n      <td>0</td>\n      <td>No</td>\n      <td>No</td>\n      <td>34</td>\n      <td>Yes</td>\n      <td>No</td>\n      <td>DSL</td>\n      <td>Yes</td>\n      <td>No</td>\n      <td>Yes</td>\n      <td>No</td>\n      <td>No</td>\n      <td>No</td>\n      <td>One year</td>\n      <td>No</td>\n      <td>Mailed check</td>\n      <td>56.95</td>\n      <td>1889.5</td>\n      <td>No</td>\n    </tr>\n    <tr>\n      <th>2</th>\n      <td>3668-QPYBK</td>\n      <td>Male</td>\n      <td>0</td>\n      <td>No</td>\n      <td>No</td>\n      <td>2</td>\n      <td>Yes</td>\n      <td>No</td>\n      <td>DSL</td>\n      <td>Yes</td>\n      <td>Yes</td>\n      <td>No</td>\n      <td>No</td>\n      <td>No</td>\n      <td>No</td>\n      <td>Month-to-month</td>\n      <td>Yes</td>\n      <td>Mailed check</td>\n      <td>53.85</td>\n      <td>108.15</td>\n      <td>Yes</td>\n    </tr>\n    <tr>\n      <th>3</th>\n      <td>7795-CFOCW</td>\n      <td>Male</td>\n      <td>0</td>\n      <td>No</td>\n      <td>No</td>\n      <td>45</td>\n      <td>No</td>\n      <td>No phone service</td>\n      <td>DSL</td>\n      <td>Yes</td>\n      <td>No</td>\n      <td>Yes</td>\n      <td>Yes</td>\n      <td>No</td>\n      <td>No</td>\n      <td>One year</td>\n      <td>No</td>\n      <td>Bank transfer (automatic)</td>\n      <td>42.30</td>\n      <td>1840.75</td>\n      <td>No</td>\n    </tr>\n    <tr>\n      <th>4</th>\n      <td>9237-HQITU</td>\n      <td>Female</td>\n      <td>0</td>\n      <td>No</td>\n      <td>No</td>\n      <td>2</td>\n      <td>Yes</td>\n      <td>No</td>\n      <td>Fiber optic</td>\n      <td>No</td>\n      <td>No</td>\n      <td>No</td>\n      <td>No</td>\n      <td>No</td>\n      <td>No</td>\n      <td>Month-to-month</td>\n      <td>Yes</td>\n      <td>Electronic check</td>\n      <td>70.70</td>\n      <td>151.65</td>\n      <td>Yes</td>\n    </tr>\n  </tbody>\n</table>\n</div>"
     },
     "execution_count": 103,
     "metadata": {},
     "output_type": "execute_result"
    }
   ],
   "source": [
    "df = pd.read_csv(\"https://cdn.1t.ru/24/%D0%A4%D0%B0%D0%B9%D0%BB%D1%8B/DS/1_6/%D0%97%D0%B0%D0%B4%D0%B0%D0%BD%D0%B8%D0%B5/churn.csv\")\n",
    "df.head()"
   ]
  },
  {
   "cell_type": "markdown",
   "id": "59d8f6d7",
   "metadata": {
    "id": "59d8f6d7",
    "papermill": {
     "duration": 0.110182,
     "end_time": "2022-09-17T00:13:04.215152",
     "exception": false,
     "start_time": "2022-09-17T00:13:04.104970",
     "status": "completed"
    },
    "tags": []
   },
   "source": [
    "## 2. Описательный анализ данных"
   ]
  },
  {
   "cell_type": "markdown",
   "id": "4f3a9143-db55-4062-92c1-95bae165c967",
   "metadata": {},
   "source": [
    "Рассмотрите данные - изучите медианы, средние, дисперсии и т.д. \n",
    "\n",
    "Что можете сказать о данных? Сделайте вывод."
   ]
  },
  {
   "cell_type": "code",
   "execution_count": 104,
   "id": "103b2699-e4bd-46b4-a287-d4e70ad26878",
   "metadata": {
    "ExecuteTime": {
     "end_time": "2024-09-19T22:22:03.642158Z",
     "start_time": "2024-09-19T22:22:03.590967800Z"
    }
   },
   "outputs": [
    {
     "data": {
      "text/plain": "                 count       mean        std    min   25%    50%    75%  \\\nSeniorCitizen   7043.0   0.162147   0.368612   0.00   0.0   0.00   0.00   \ntenure          7043.0  32.371149  24.559481   0.00   9.0  29.00  55.00   \nMonthlyCharges  7043.0  64.761692  30.090047  18.25  35.5  70.35  89.85   \n\n                   max  \nSeniorCitizen     1.00  \ntenure           72.00  \nMonthlyCharges  118.75  ",
      "text/html": "<div>\n<style scoped>\n    .dataframe tbody tr th:only-of-type {\n        vertical-align: middle;\n    }\n\n    .dataframe tbody tr th {\n        vertical-align: top;\n    }\n\n    .dataframe thead th {\n        text-align: right;\n    }\n</style>\n<table border=\"1\" class=\"dataframe\">\n  <thead>\n    <tr style=\"text-align: right;\">\n      <th></th>\n      <th>count</th>\n      <th>mean</th>\n      <th>std</th>\n      <th>min</th>\n      <th>25%</th>\n      <th>50%</th>\n      <th>75%</th>\n      <th>max</th>\n    </tr>\n  </thead>\n  <tbody>\n    <tr>\n      <th>SeniorCitizen</th>\n      <td>7043.0</td>\n      <td>0.162147</td>\n      <td>0.368612</td>\n      <td>0.00</td>\n      <td>0.0</td>\n      <td>0.00</td>\n      <td>0.00</td>\n      <td>1.00</td>\n    </tr>\n    <tr>\n      <th>tenure</th>\n      <td>7043.0</td>\n      <td>32.371149</td>\n      <td>24.559481</td>\n      <td>0.00</td>\n      <td>9.0</td>\n      <td>29.00</td>\n      <td>55.00</td>\n      <td>72.00</td>\n    </tr>\n    <tr>\n      <th>MonthlyCharges</th>\n      <td>7043.0</td>\n      <td>64.761692</td>\n      <td>30.090047</td>\n      <td>18.25</td>\n      <td>35.5</td>\n      <td>70.35</td>\n      <td>89.85</td>\n      <td>118.75</td>\n    </tr>\n  </tbody>\n</table>\n</div>"
     },
     "metadata": {},
     "output_type": "display_data"
    }
   ],
   "source": [
    "# ваше решение\n",
    "display(df.describe().T)\n",
    "# df.var\n",
    "# df.std\n",
    "# display(df.groupby(by=['gender', 'Partner'], as_index=False).agg(tenure_median=('tenure', 'median'), monthly_charges_median=('MonthlyCharges', 'median')))\n",
    "# display(df.groupby(by=['gender', 'SeniorCitizen'], as_index=False).agg(tenure_median=('tenure', 'median'), monthly_charges_median=('MonthlyCharges', 'median')))"
   ]
  },
  {
   "cell_type": "markdown",
   "id": "1daff97f-7552-4abb-918f-39fdda6d078e",
   "metadata": {},
   "source": [
    "**Вывод:**\n",
    "* Выборка производилась из 7043 пользователей сервиса\n",
    "* Пожилые люди представляют 16,2% клиентов \n",
    "* Медианное значение срока пользования клиентом сервисов - 29 месяцев                                                                                                                 "
   ]
  },
  {
   "cell_type": "markdown",
   "id": "20dfbfdf",
   "metadata": {
    "id": "20dfbfdf",
    "papermill": {
     "duration": 0.109572,
     "end_time": "2022-09-17T00:13:04.713273",
     "exception": false,
     "start_time": "2022-09-17T00:13:04.603701",
     "status": "completed"
    },
    "tags": []
   },
   "source": [
    "### Уникальные значения для всех столбцов"
   ]
  },
  {
   "cell_type": "markdown",
   "id": "6dae3e7e-2d2d-48f4-a815-12203933284b",
   "metadata": {
    "tags": []
   },
   "source": [
    "Рассмотрите уникальные значения категориальных признаков. \n",
    "\n",
    "Сделайте вывод.\n",
    "\n",
    "**Подсказка:** можете воспользоваться методом `describe(include='object')`"
   ]
  },
  {
   "cell_type": "code",
   "execution_count": 105,
   "id": "8fdc1546-6a9b-4dc8-afdc-fca1fd637ded",
   "metadata": {
    "ExecuteTime": {
     "end_time": "2024-09-19T22:22:03.730157700Z",
     "start_time": "2024-09-19T22:22:03.611106Z"
    }
   },
   "outputs": [
    {
     "name": "stdout",
     "output_type": "stream",
     "text": [
      "                 count unique               top  freq\n",
      "customerID        7043   7043        7590-VHVEG     1\n",
      "gender            7043      2              Male  3555\n",
      "Partner           7043      2                No  3641\n",
      "Dependents        7043      2                No  4933\n",
      "PhoneService      7043      2               Yes  6361\n",
      "MultipleLines     7043      3                No  3390\n",
      "InternetService   7043      3       Fiber optic  3096\n",
      "OnlineSecurity    7043      3                No  3498\n",
      "OnlineBackup      7043      3                No  3088\n",
      "DeviceProtection  7043      3                No  3095\n",
      "TechSupport       7043      3                No  3473\n",
      "StreamingTV       7043      3                No  2810\n",
      "StreamingMovies   7043      3                No  2785\n",
      "Contract          7043      3    Month-to-month  3875\n",
      "PaperlessBilling  7043      2               Yes  4171\n",
      "PaymentMethod     7043      4  Electronic check  2365\n",
      "TotalCharges      7043   6531                      11\n",
      "Churn             7043      2                No  5174\n"
     ]
    }
   ],
   "source": [
    "desc = df.describe(include='object')\n",
    "print(desc.T)"
   ]
  },
  {
   "cell_type": "markdown",
   "id": "31dd4378-da15-45df-94a6-2e6d9466b368",
   "metadata": {},
   "source": [
    "**Вывод:**\n",
    "* Мужчин среди клиентов незначительно больше чем женщин\n",
    "* Большая часть клиентов подключены по ВОЛС\n",
    "* У подавляющего большинства подключена телефонная связь\n",
    "* Действующих клиентов значительно больше чем неактивных 5174 из 7043\n",
    "* TotalCharges содержит 11 пустых ячеек "
   ]
  },
  {
   "cell_type": "markdown",
   "id": "71169f8f-3bf5-498c-8844-ec8e47c232a4",
   "metadata": {
    "id": "33d1abb3",
    "papermill": {
     "duration": 0.107391,
     "end_time": "2022-09-17T00:13:03.296525",
     "exception": false,
     "start_time": "2022-09-17T00:13:03.189134",
     "status": "completed"
    },
    "tags": []
   },
   "source": [
    "## 3. Предобработка данных"
   ]
  },
  {
   "cell_type": "markdown",
   "id": "0a01fab1-c07b-46b0-a2d2-e8939670ed1d",
   "metadata": {
    "id": "8e8f7fbc",
    "papermill": {
     "duration": 0.110418,
     "end_time": "2022-09-17T00:13:05.443495",
     "exception": false,
     "start_time": "2022-09-17T00:13:05.333077",
     "status": "completed"
    },
    "tags": []
   },
   "source": [
    "### Дубликаты"
   ]
  },
  {
   "cell_type": "markdown",
   "id": "e30c5d7d-10fe-4889-9156-e89b3ac80e9f",
   "metadata": {},
   "source": [
    "Предобработайте датасет - проверьте на наличие дубликатов и удалите, если они есть."
   ]
  },
  {
   "cell_type": "code",
   "execution_count": 106,
   "id": "719cd83b-60bd-4da9-81c4-0c22893b3e47",
   "metadata": {
    "ExecuteTime": {
     "end_time": "2024-09-19T22:22:03.754896Z",
     "start_time": "2024-09-19T22:22:03.663760700Z"
    }
   },
   "outputs": [
    {
     "name": "stdout",
     "output_type": "stream",
     "text": [
      "Количество дубликатов строк: 0\n"
     ]
    }
   ],
   "source": [
    "print(f'Количество дубликатов строк: {df.duplicated().sum()}')\n",
    "df = df.drop_duplicates()\n",
    "# display(df)"
   ]
  },
  {
   "cell_type": "markdown",
   "id": "8e8f7fbc",
   "metadata": {
    "id": "8e8f7fbc",
    "papermill": {
     "duration": 0.110418,
     "end_time": "2022-09-17T00:13:05.443495",
     "exception": false,
     "start_time": "2022-09-17T00:13:05.333077",
     "status": "completed"
    },
    "tags": []
   },
   "source": [
    "### Отсутствующие значения"
   ]
  },
  {
   "cell_type": "markdown",
   "id": "cefe6e59-bbf6-409f-bc89-299984ccf9ec",
   "metadata": {},
   "source": [
    "Пояснение к данному датасету:\n",
    "\n",
    "Не всегда в данных есть явные пропуски, которые легко индексируются средствами Pandas. К сожалению бывают проблемы с выгрузками данных, некачественными источниками, или когда данные записываются вручную - часто присутствует человеческий фактов. По мере работы с новыми данными лучше проверять на наличие таких данных, иначе из-за этого исследование может исказиться.\n",
    "\n",
    "Рассмотрим такой случай:"
   ]
  },
  {
   "cell_type": "code",
   "execution_count": 107,
   "id": "3493172e",
   "metadata": {
    "colab": {
     "base_uri": "https://localhost:8080/"
    },
    "id": "3493172e",
    "outputId": "635fe2a6-1c96-4210-a490-481404e23d8f",
    "papermill": {
     "duration": 0.127904,
     "end_time": "2022-09-17T00:13:05.681445",
     "exception": false,
     "start_time": "2022-09-17T00:13:05.553541",
     "status": "completed"
    },
    "tags": [],
    "ExecuteTime": {
     "end_time": "2024-09-19T22:22:03.757054900Z",
     "start_time": "2024-09-19T22:22:03.699282300Z"
    }
   },
   "outputs": [
    {
     "data": {
      "text/plain": "customerID          0\ngender              0\nSeniorCitizen       0\nPartner             0\nDependents          0\ntenure              0\nPhoneService        0\nMultipleLines       0\nInternetService     0\nOnlineSecurity      0\nOnlineBackup        0\nDeviceProtection    0\nTechSupport         0\nStreamingTV         0\nStreamingMovies     0\nContract            0\nPaperlessBilling    0\nPaymentMethod       0\nMonthlyCharges      0\nTotalCharges        0\nChurn               0\ndtype: int64"
     },
     "execution_count": 107,
     "metadata": {},
     "output_type": "execute_result"
    }
   ],
   "source": [
    "df.isna().sum()"
   ]
  },
  {
   "cell_type": "markdown",
   "id": "9262f68f-8d27-4794-ab21-327484d502ac",
   "metadata": {},
   "source": [
    "Да, не видно пропусков. Но почему тогда столбец `TotalCharges` не отобразился изначально как числовой столбец?\n",
    "\n",
    "Проверим все столбцы:"
   ]
  },
  {
   "cell_type": "code",
   "execution_count": 108,
   "id": "c086249f",
   "metadata": {
    "colab": {
     "base_uri": "https://localhost:8080/",
     "height": 411
    },
    "id": "c086249f",
    "outputId": "9865e55c-5ca5-4adf-da2b-c61c490d9f8e",
    "papermill": {
     "duration": 0.212036,
     "end_time": "2022-09-17T00:13:06.005380",
     "exception": false,
     "start_time": "2022-09-17T00:13:05.793344",
     "status": "completed"
    },
    "tags": [],
    "ExecuteTime": {
     "end_time": "2024-09-19T22:22:03.881539200Z",
     "start_time": "2024-09-19T22:22:03.717502100Z"
    }
   },
   "outputs": [
    {
     "name": "stdout",
     "output_type": "stream",
     "text": [
      "Неявные пропуски столбца TotalCharges: 11\n"
     ]
    }
   ],
   "source": [
    "for col in df:\n",
    "    if df[col].dtype == 'object':\n",
    "        nans = df[col].apply(lambda x: len(x.strip())==0).sum()\n",
    "        if nans > 0:\n",
    "            print(f'Неявные пропуски столбца {col}:', df[col].apply(lambda x: len(x.strip())==0).sum())"
   ]
  },
  {
   "cell_type": "markdown",
   "id": "d9751428-4425-4a69-a8b9-0d8be7bdda21",
   "metadata": {},
   "source": [
    "Что мы можем сделать в таком случае?\n",
    "\n",
    "1) По этому же фильтру удалить строки с пропусками, чтобы не искажать данные\n",
    "2) Перевести тип столбца на числовой и с параметром `errors = 'coerce'` и удалить\n",
    "\n",
    "Но можно не удалять, чтобы потерять данные, а:\n",
    "\n",
    "1) Заменить значения на среднюю\n",
    "2) Поменять на другое - но только в том случае, если есть какая-то зависимость в данных.\n",
    "\n",
    "Давайте изменим тип и найдем зависимость:"
   ]
  },
  {
   "cell_type": "code",
   "execution_count": 109,
   "id": "32c7fbb7-ea06-491f-9629-525175141ed2",
   "metadata": {
    "tags": [],
    "ExecuteTime": {
     "end_time": "2024-09-19T22:22:03.953187900Z",
     "start_time": "2024-09-19T22:22:03.774457900Z"
    }
   },
   "outputs": [
    {
     "data": {
      "text/plain": "      customerID  gender  SeniorCitizen Partner Dependents  tenure  \\\n488   4472-LVYGI  Female              0     Yes        Yes       0   \n753   3115-CZMZD    Male              0      No        Yes       0   \n936   5709-LVOEQ  Female              0     Yes        Yes       0   \n1082  4367-NUYAO    Male              0     Yes        Yes       0   \n1340  1371-DWPAZ  Female              0     Yes        Yes       0   \n3331  7644-OMVMY    Male              0     Yes        Yes       0   \n3826  3213-VVOLG    Male              0     Yes        Yes       0   \n4380  2520-SGTTA  Female              0     Yes        Yes       0   \n5218  2923-ARZLG    Male              0     Yes        Yes       0   \n6670  4075-WKNIU  Female              0     Yes        Yes       0   \n6754  2775-SEFEE    Male              0      No        Yes       0   \n\n     PhoneService     MultipleLines InternetService       OnlineSecurity  \\\n488            No  No phone service             DSL                  Yes   \n753           Yes                No              No  No internet service   \n936           Yes                No             DSL                  Yes   \n1082          Yes               Yes              No  No internet service   \n1340           No  No phone service             DSL                  Yes   \n3331          Yes                No              No  No internet service   \n3826          Yes               Yes              No  No internet service   \n4380          Yes                No              No  No internet service   \n5218          Yes                No              No  No internet service   \n6670          Yes               Yes             DSL                   No   \n6754          Yes               Yes             DSL                  Yes   \n\n             OnlineBackup     DeviceProtection          TechSupport  \\\n488                    No                  Yes                  Yes   \n753   No internet service  No internet service  No internet service   \n936                   Yes                  Yes                   No   \n1082  No internet service  No internet service  No internet service   \n1340                  Yes                  Yes                  Yes   \n3331  No internet service  No internet service  No internet service   \n3826  No internet service  No internet service  No internet service   \n4380  No internet service  No internet service  No internet service   \n5218  No internet service  No internet service  No internet service   \n6670                  Yes                  Yes                  Yes   \n6754                  Yes                   No                  Yes   \n\n              StreamingTV      StreamingMovies  Contract PaperlessBilling  \\\n488                   Yes                   No  Two year              Yes   \n753   No internet service  No internet service  Two year               No   \n936                   Yes                  Yes  Two year               No   \n1082  No internet service  No internet service  Two year               No   \n1340                  Yes                   No  Two year               No   \n3331  No internet service  No internet service  Two year               No   \n3826  No internet service  No internet service  Two year               No   \n4380  No internet service  No internet service  Two year               No   \n5218  No internet service  No internet service  One year              Yes   \n6670                  Yes                   No  Two year               No   \n6754                   No                   No  Two year              Yes   \n\n                  PaymentMethod  MonthlyCharges  TotalCharges Churn  \n488   Bank transfer (automatic)           52.55           NaN    No  \n753                Mailed check           20.25           NaN    No  \n936                Mailed check           80.85           NaN    No  \n1082               Mailed check           25.75           NaN    No  \n1340    Credit card (automatic)           56.05           NaN    No  \n3331               Mailed check           19.85           NaN    No  \n3826               Mailed check           25.35           NaN    No  \n4380               Mailed check           20.00           NaN    No  \n5218               Mailed check           19.70           NaN    No  \n6670               Mailed check           73.35           NaN    No  \n6754  Bank transfer (automatic)           61.90           NaN    No  ",
      "text/html": "<div>\n<style scoped>\n    .dataframe tbody tr th:only-of-type {\n        vertical-align: middle;\n    }\n\n    .dataframe tbody tr th {\n        vertical-align: top;\n    }\n\n    .dataframe thead th {\n        text-align: right;\n    }\n</style>\n<table border=\"1\" class=\"dataframe\">\n  <thead>\n    <tr style=\"text-align: right;\">\n      <th></th>\n      <th>customerID</th>\n      <th>gender</th>\n      <th>SeniorCitizen</th>\n      <th>Partner</th>\n      <th>Dependents</th>\n      <th>tenure</th>\n      <th>PhoneService</th>\n      <th>MultipleLines</th>\n      <th>InternetService</th>\n      <th>OnlineSecurity</th>\n      <th>OnlineBackup</th>\n      <th>DeviceProtection</th>\n      <th>TechSupport</th>\n      <th>StreamingTV</th>\n      <th>StreamingMovies</th>\n      <th>Contract</th>\n      <th>PaperlessBilling</th>\n      <th>PaymentMethod</th>\n      <th>MonthlyCharges</th>\n      <th>TotalCharges</th>\n      <th>Churn</th>\n    </tr>\n  </thead>\n  <tbody>\n    <tr>\n      <th>488</th>\n      <td>4472-LVYGI</td>\n      <td>Female</td>\n      <td>0</td>\n      <td>Yes</td>\n      <td>Yes</td>\n      <td>0</td>\n      <td>No</td>\n      <td>No phone service</td>\n      <td>DSL</td>\n      <td>Yes</td>\n      <td>No</td>\n      <td>Yes</td>\n      <td>Yes</td>\n      <td>Yes</td>\n      <td>No</td>\n      <td>Two year</td>\n      <td>Yes</td>\n      <td>Bank transfer (automatic)</td>\n      <td>52.55</td>\n      <td>NaN</td>\n      <td>No</td>\n    </tr>\n    <tr>\n      <th>753</th>\n      <td>3115-CZMZD</td>\n      <td>Male</td>\n      <td>0</td>\n      <td>No</td>\n      <td>Yes</td>\n      <td>0</td>\n      <td>Yes</td>\n      <td>No</td>\n      <td>No</td>\n      <td>No internet service</td>\n      <td>No internet service</td>\n      <td>No internet service</td>\n      <td>No internet service</td>\n      <td>No internet service</td>\n      <td>No internet service</td>\n      <td>Two year</td>\n      <td>No</td>\n      <td>Mailed check</td>\n      <td>20.25</td>\n      <td>NaN</td>\n      <td>No</td>\n    </tr>\n    <tr>\n      <th>936</th>\n      <td>5709-LVOEQ</td>\n      <td>Female</td>\n      <td>0</td>\n      <td>Yes</td>\n      <td>Yes</td>\n      <td>0</td>\n      <td>Yes</td>\n      <td>No</td>\n      <td>DSL</td>\n      <td>Yes</td>\n      <td>Yes</td>\n      <td>Yes</td>\n      <td>No</td>\n      <td>Yes</td>\n      <td>Yes</td>\n      <td>Two year</td>\n      <td>No</td>\n      <td>Mailed check</td>\n      <td>80.85</td>\n      <td>NaN</td>\n      <td>No</td>\n    </tr>\n    <tr>\n      <th>1082</th>\n      <td>4367-NUYAO</td>\n      <td>Male</td>\n      <td>0</td>\n      <td>Yes</td>\n      <td>Yes</td>\n      <td>0</td>\n      <td>Yes</td>\n      <td>Yes</td>\n      <td>No</td>\n      <td>No internet service</td>\n      <td>No internet service</td>\n      <td>No internet service</td>\n      <td>No internet service</td>\n      <td>No internet service</td>\n      <td>No internet service</td>\n      <td>Two year</td>\n      <td>No</td>\n      <td>Mailed check</td>\n      <td>25.75</td>\n      <td>NaN</td>\n      <td>No</td>\n    </tr>\n    <tr>\n      <th>1340</th>\n      <td>1371-DWPAZ</td>\n      <td>Female</td>\n      <td>0</td>\n      <td>Yes</td>\n      <td>Yes</td>\n      <td>0</td>\n      <td>No</td>\n      <td>No phone service</td>\n      <td>DSL</td>\n      <td>Yes</td>\n      <td>Yes</td>\n      <td>Yes</td>\n      <td>Yes</td>\n      <td>Yes</td>\n      <td>No</td>\n      <td>Two year</td>\n      <td>No</td>\n      <td>Credit card (automatic)</td>\n      <td>56.05</td>\n      <td>NaN</td>\n      <td>No</td>\n    </tr>\n    <tr>\n      <th>3331</th>\n      <td>7644-OMVMY</td>\n      <td>Male</td>\n      <td>0</td>\n      <td>Yes</td>\n      <td>Yes</td>\n      <td>0</td>\n      <td>Yes</td>\n      <td>No</td>\n      <td>No</td>\n      <td>No internet service</td>\n      <td>No internet service</td>\n      <td>No internet service</td>\n      <td>No internet service</td>\n      <td>No internet service</td>\n      <td>No internet service</td>\n      <td>Two year</td>\n      <td>No</td>\n      <td>Mailed check</td>\n      <td>19.85</td>\n      <td>NaN</td>\n      <td>No</td>\n    </tr>\n    <tr>\n      <th>3826</th>\n      <td>3213-VVOLG</td>\n      <td>Male</td>\n      <td>0</td>\n      <td>Yes</td>\n      <td>Yes</td>\n      <td>0</td>\n      <td>Yes</td>\n      <td>Yes</td>\n      <td>No</td>\n      <td>No internet service</td>\n      <td>No internet service</td>\n      <td>No internet service</td>\n      <td>No internet service</td>\n      <td>No internet service</td>\n      <td>No internet service</td>\n      <td>Two year</td>\n      <td>No</td>\n      <td>Mailed check</td>\n      <td>25.35</td>\n      <td>NaN</td>\n      <td>No</td>\n    </tr>\n    <tr>\n      <th>4380</th>\n      <td>2520-SGTTA</td>\n      <td>Female</td>\n      <td>0</td>\n      <td>Yes</td>\n      <td>Yes</td>\n      <td>0</td>\n      <td>Yes</td>\n      <td>No</td>\n      <td>No</td>\n      <td>No internet service</td>\n      <td>No internet service</td>\n      <td>No internet service</td>\n      <td>No internet service</td>\n      <td>No internet service</td>\n      <td>No internet service</td>\n      <td>Two year</td>\n      <td>No</td>\n      <td>Mailed check</td>\n      <td>20.00</td>\n      <td>NaN</td>\n      <td>No</td>\n    </tr>\n    <tr>\n      <th>5218</th>\n      <td>2923-ARZLG</td>\n      <td>Male</td>\n      <td>0</td>\n      <td>Yes</td>\n      <td>Yes</td>\n      <td>0</td>\n      <td>Yes</td>\n      <td>No</td>\n      <td>No</td>\n      <td>No internet service</td>\n      <td>No internet service</td>\n      <td>No internet service</td>\n      <td>No internet service</td>\n      <td>No internet service</td>\n      <td>No internet service</td>\n      <td>One year</td>\n      <td>Yes</td>\n      <td>Mailed check</td>\n      <td>19.70</td>\n      <td>NaN</td>\n      <td>No</td>\n    </tr>\n    <tr>\n      <th>6670</th>\n      <td>4075-WKNIU</td>\n      <td>Female</td>\n      <td>0</td>\n      <td>Yes</td>\n      <td>Yes</td>\n      <td>0</td>\n      <td>Yes</td>\n      <td>Yes</td>\n      <td>DSL</td>\n      <td>No</td>\n      <td>Yes</td>\n      <td>Yes</td>\n      <td>Yes</td>\n      <td>Yes</td>\n      <td>No</td>\n      <td>Two year</td>\n      <td>No</td>\n      <td>Mailed check</td>\n      <td>73.35</td>\n      <td>NaN</td>\n      <td>No</td>\n    </tr>\n    <tr>\n      <th>6754</th>\n      <td>2775-SEFEE</td>\n      <td>Male</td>\n      <td>0</td>\n      <td>No</td>\n      <td>Yes</td>\n      <td>0</td>\n      <td>Yes</td>\n      <td>Yes</td>\n      <td>DSL</td>\n      <td>Yes</td>\n      <td>Yes</td>\n      <td>No</td>\n      <td>Yes</td>\n      <td>No</td>\n      <td>No</td>\n      <td>Two year</td>\n      <td>Yes</td>\n      <td>Bank transfer (automatic)</td>\n      <td>61.90</td>\n      <td>NaN</td>\n      <td>No</td>\n    </tr>\n  </tbody>\n</table>\n</div>"
     },
     "execution_count": 109,
     "metadata": {},
     "output_type": "execute_result"
    }
   ],
   "source": [
    "df[\"TotalCharges\"] = pd.to_numeric(df[\"TotalCharges\"], errors = 'coerce')\n",
    "\n",
    "df[df[\"TotalCharges\"].isna()]"
   ]
  },
  {
   "cell_type": "markdown",
   "id": "2c030a1f-7848-4412-93b1-a8eecc8cbf5f",
   "metadata": {},
   "source": [
    "**Но как выглядят наши данные обычно?**"
   ]
  },
  {
   "cell_type": "code",
   "execution_count": 110,
   "id": "c5a0c8e0-8906-4a9a-b081-b718f4e11053",
   "metadata": {
    "tags": [],
    "ExecuteTime": {
     "end_time": "2024-09-19T22:22:03.955388Z",
     "start_time": "2024-09-19T22:22:03.806505800Z"
    }
   },
   "outputs": [
    {
     "data": {
      "text/plain": "      customerID  gender  SeniorCitizen Partner Dependents  tenure  \\\n992   4883-KCPZJ  Female              0     Yes        Yes      22   \n467   5968-XQIVE    Male              0     Yes        Yes      72   \n5187  2080-CAZNM  Female              1      No         No      41   \n1915  3221-CJMSG    Male              0      No         No      24   \n6668  2832-KJCRD  Female              0      No         No      38   \n\n     PhoneService MultipleLines InternetService       OnlineSecurity  \\\n992           Yes           Yes              No  No internet service   \n467           Yes           Yes     Fiber optic                   No   \n5187          Yes           Yes     Fiber optic                   No   \n1915          Yes            No             DSL                   No   \n6668          Yes           Yes     Fiber optic                   No   \n\n             OnlineBackup     DeviceProtection          TechSupport  \\\n992   No internet service  No internet service  No internet service   \n467                   Yes                   No                   No   \n5187                  Yes                  Yes                   No   \n1915                   No                   No                  Yes   \n6668                   No                  Yes                  Yes   \n\n              StreamingTV      StreamingMovies        Contract  \\\n992   No internet service  No internet service        Two year   \n467                   Yes                   No        One year   \n5187                  Yes                  Yes  Month-to-month   \n1915                   No                   No  Month-to-month   \n6668                  Yes                  Yes  Month-to-month   \n\n     PaperlessBilling            PaymentMethod  MonthlyCharges  TotalCharges  \\\n992                No  Credit card (automatic)           25.25        555.40   \n467               Yes         Electronic check           89.70       6588.95   \n5187              Yes         Electronic check          104.40       4133.95   \n1915              Yes  Credit card (automatic)           51.10       1269.60   \n6668              Yes         Electronic check          103.65       3988.50   \n\n     Churn  \n992     No  \n467     No  \n5187    No  \n1915    No  \n6668    No  ",
      "text/html": "<div>\n<style scoped>\n    .dataframe tbody tr th:only-of-type {\n        vertical-align: middle;\n    }\n\n    .dataframe tbody tr th {\n        vertical-align: top;\n    }\n\n    .dataframe thead th {\n        text-align: right;\n    }\n</style>\n<table border=\"1\" class=\"dataframe\">\n  <thead>\n    <tr style=\"text-align: right;\">\n      <th></th>\n      <th>customerID</th>\n      <th>gender</th>\n      <th>SeniorCitizen</th>\n      <th>Partner</th>\n      <th>Dependents</th>\n      <th>tenure</th>\n      <th>PhoneService</th>\n      <th>MultipleLines</th>\n      <th>InternetService</th>\n      <th>OnlineSecurity</th>\n      <th>OnlineBackup</th>\n      <th>DeviceProtection</th>\n      <th>TechSupport</th>\n      <th>StreamingTV</th>\n      <th>StreamingMovies</th>\n      <th>Contract</th>\n      <th>PaperlessBilling</th>\n      <th>PaymentMethod</th>\n      <th>MonthlyCharges</th>\n      <th>TotalCharges</th>\n      <th>Churn</th>\n    </tr>\n  </thead>\n  <tbody>\n    <tr>\n      <th>992</th>\n      <td>4883-KCPZJ</td>\n      <td>Female</td>\n      <td>0</td>\n      <td>Yes</td>\n      <td>Yes</td>\n      <td>22</td>\n      <td>Yes</td>\n      <td>Yes</td>\n      <td>No</td>\n      <td>No internet service</td>\n      <td>No internet service</td>\n      <td>No internet service</td>\n      <td>No internet service</td>\n      <td>No internet service</td>\n      <td>No internet service</td>\n      <td>Two year</td>\n      <td>No</td>\n      <td>Credit card (automatic)</td>\n      <td>25.25</td>\n      <td>555.40</td>\n      <td>No</td>\n    </tr>\n    <tr>\n      <th>467</th>\n      <td>5968-XQIVE</td>\n      <td>Male</td>\n      <td>0</td>\n      <td>Yes</td>\n      <td>Yes</td>\n      <td>72</td>\n      <td>Yes</td>\n      <td>Yes</td>\n      <td>Fiber optic</td>\n      <td>No</td>\n      <td>Yes</td>\n      <td>No</td>\n      <td>No</td>\n      <td>Yes</td>\n      <td>No</td>\n      <td>One year</td>\n      <td>Yes</td>\n      <td>Electronic check</td>\n      <td>89.70</td>\n      <td>6588.95</td>\n      <td>No</td>\n    </tr>\n    <tr>\n      <th>5187</th>\n      <td>2080-CAZNM</td>\n      <td>Female</td>\n      <td>1</td>\n      <td>No</td>\n      <td>No</td>\n      <td>41</td>\n      <td>Yes</td>\n      <td>Yes</td>\n      <td>Fiber optic</td>\n      <td>No</td>\n      <td>Yes</td>\n      <td>Yes</td>\n      <td>No</td>\n      <td>Yes</td>\n      <td>Yes</td>\n      <td>Month-to-month</td>\n      <td>Yes</td>\n      <td>Electronic check</td>\n      <td>104.40</td>\n      <td>4133.95</td>\n      <td>No</td>\n    </tr>\n    <tr>\n      <th>1915</th>\n      <td>3221-CJMSG</td>\n      <td>Male</td>\n      <td>0</td>\n      <td>No</td>\n      <td>No</td>\n      <td>24</td>\n      <td>Yes</td>\n      <td>No</td>\n      <td>DSL</td>\n      <td>No</td>\n      <td>No</td>\n      <td>No</td>\n      <td>Yes</td>\n      <td>No</td>\n      <td>No</td>\n      <td>Month-to-month</td>\n      <td>Yes</td>\n      <td>Credit card (automatic)</td>\n      <td>51.10</td>\n      <td>1269.60</td>\n      <td>No</td>\n    </tr>\n    <tr>\n      <th>6668</th>\n      <td>2832-KJCRD</td>\n      <td>Female</td>\n      <td>0</td>\n      <td>No</td>\n      <td>No</td>\n      <td>38</td>\n      <td>Yes</td>\n      <td>Yes</td>\n      <td>Fiber optic</td>\n      <td>No</td>\n      <td>No</td>\n      <td>Yes</td>\n      <td>Yes</td>\n      <td>Yes</td>\n      <td>Yes</td>\n      <td>Month-to-month</td>\n      <td>Yes</td>\n      <td>Electronic check</td>\n      <td>103.65</td>\n      <td>3988.50</td>\n      <td>No</td>\n    </tr>\n  </tbody>\n</table>\n</div>"
     },
     "execution_count": 110,
     "metadata": {},
     "output_type": "execute_result"
    }
   ],
   "source": [
    "df.sample(5)"
   ]
  },
  {
   "cell_type": "markdown",
   "id": "089c43d2-f7e8-4494-8f29-0419d0e4d193",
   "metadata": {},
   "source": [
    "**Ничего не заметили?**\n",
    "\n",
    "Может общая сумма, списанная с клиента, равна сумме, взимаемой с клиента ежемесячно умноженное на количество времени?\n",
    "\n",
    "Давайте посмострим."
   ]
  },
  {
   "cell_type": "code",
   "execution_count": 111,
   "id": "b5694487-db1c-4cf6-b543-af9e6a120970",
   "metadata": {
    "ExecuteTime": {
     "end_time": "2024-09-19T22:22:03.957541300Z",
     "start_time": "2024-09-19T22:22:03.825548300Z"
    }
   },
   "outputs": [
    {
     "data": {
      "text/plain": "    customerID  gender  SeniorCitizen Partner Dependents  tenure PhoneService  \\\n0   7590-VHVEG  Female              0     Yes         No       1           No   \n20  8779-QRDMV    Male              1      No         No       1           No   \n22  1066-JKSGK    Male              0      No         No       1          Yes   \n27  8665-UTDHZ    Male              0     Yes        Yes       1           No   \n33  7310-EGVHZ    Male              0      No         No       1          Yes   \n\n       MultipleLines InternetService       OnlineSecurity  \\\n0   No phone service             DSL                   No   \n20  No phone service             DSL                   No   \n22                No              No  No internet service   \n27  No phone service             DSL                   No   \n33                No              No  No internet service   \n\n           OnlineBackup     DeviceProtection          TechSupport  \\\n0                   Yes                   No                   No   \n20                   No                  Yes                   No   \n22  No internet service  No internet service  No internet service   \n27                  Yes                   No                   No   \n33  No internet service  No internet service  No internet service   \n\n            StreamingTV      StreamingMovies        Contract PaperlessBilling  \\\n0                    No                   No  Month-to-month              Yes   \n20                   No                  Yes  Month-to-month              Yes   \n22  No internet service  No internet service  Month-to-month               No   \n27                   No                   No  Month-to-month               No   \n33  No internet service  No internet service  Month-to-month               No   \n\n                PaymentMethod  MonthlyCharges  TotalCharges Churn  \n0            Electronic check           29.85         29.85    No  \n20           Electronic check           39.65         39.65   Yes  \n22               Mailed check           20.15         20.15   Yes  \n27           Electronic check           30.20         30.20   Yes  \n33  Bank transfer (automatic)           20.20         20.20    No  ",
      "text/html": "<div>\n<style scoped>\n    .dataframe tbody tr th:only-of-type {\n        vertical-align: middle;\n    }\n\n    .dataframe tbody tr th {\n        vertical-align: top;\n    }\n\n    .dataframe thead th {\n        text-align: right;\n    }\n</style>\n<table border=\"1\" class=\"dataframe\">\n  <thead>\n    <tr style=\"text-align: right;\">\n      <th></th>\n      <th>customerID</th>\n      <th>gender</th>\n      <th>SeniorCitizen</th>\n      <th>Partner</th>\n      <th>Dependents</th>\n      <th>tenure</th>\n      <th>PhoneService</th>\n      <th>MultipleLines</th>\n      <th>InternetService</th>\n      <th>OnlineSecurity</th>\n      <th>OnlineBackup</th>\n      <th>DeviceProtection</th>\n      <th>TechSupport</th>\n      <th>StreamingTV</th>\n      <th>StreamingMovies</th>\n      <th>Contract</th>\n      <th>PaperlessBilling</th>\n      <th>PaymentMethod</th>\n      <th>MonthlyCharges</th>\n      <th>TotalCharges</th>\n      <th>Churn</th>\n    </tr>\n  </thead>\n  <tbody>\n    <tr>\n      <th>0</th>\n      <td>7590-VHVEG</td>\n      <td>Female</td>\n      <td>0</td>\n      <td>Yes</td>\n      <td>No</td>\n      <td>1</td>\n      <td>No</td>\n      <td>No phone service</td>\n      <td>DSL</td>\n      <td>No</td>\n      <td>Yes</td>\n      <td>No</td>\n      <td>No</td>\n      <td>No</td>\n      <td>No</td>\n      <td>Month-to-month</td>\n      <td>Yes</td>\n      <td>Electronic check</td>\n      <td>29.85</td>\n      <td>29.85</td>\n      <td>No</td>\n    </tr>\n    <tr>\n      <th>20</th>\n      <td>8779-QRDMV</td>\n      <td>Male</td>\n      <td>1</td>\n      <td>No</td>\n      <td>No</td>\n      <td>1</td>\n      <td>No</td>\n      <td>No phone service</td>\n      <td>DSL</td>\n      <td>No</td>\n      <td>No</td>\n      <td>Yes</td>\n      <td>No</td>\n      <td>No</td>\n      <td>Yes</td>\n      <td>Month-to-month</td>\n      <td>Yes</td>\n      <td>Electronic check</td>\n      <td>39.65</td>\n      <td>39.65</td>\n      <td>Yes</td>\n    </tr>\n    <tr>\n      <th>22</th>\n      <td>1066-JKSGK</td>\n      <td>Male</td>\n      <td>0</td>\n      <td>No</td>\n      <td>No</td>\n      <td>1</td>\n      <td>Yes</td>\n      <td>No</td>\n      <td>No</td>\n      <td>No internet service</td>\n      <td>No internet service</td>\n      <td>No internet service</td>\n      <td>No internet service</td>\n      <td>No internet service</td>\n      <td>No internet service</td>\n      <td>Month-to-month</td>\n      <td>No</td>\n      <td>Mailed check</td>\n      <td>20.15</td>\n      <td>20.15</td>\n      <td>Yes</td>\n    </tr>\n    <tr>\n      <th>27</th>\n      <td>8665-UTDHZ</td>\n      <td>Male</td>\n      <td>0</td>\n      <td>Yes</td>\n      <td>Yes</td>\n      <td>1</td>\n      <td>No</td>\n      <td>No phone service</td>\n      <td>DSL</td>\n      <td>No</td>\n      <td>Yes</td>\n      <td>No</td>\n      <td>No</td>\n      <td>No</td>\n      <td>No</td>\n      <td>Month-to-month</td>\n      <td>No</td>\n      <td>Electronic check</td>\n      <td>30.20</td>\n      <td>30.20</td>\n      <td>Yes</td>\n    </tr>\n    <tr>\n      <th>33</th>\n      <td>7310-EGVHZ</td>\n      <td>Male</td>\n      <td>0</td>\n      <td>No</td>\n      <td>No</td>\n      <td>1</td>\n      <td>Yes</td>\n      <td>No</td>\n      <td>No</td>\n      <td>No internet service</td>\n      <td>No internet service</td>\n      <td>No internet service</td>\n      <td>No internet service</td>\n      <td>No internet service</td>\n      <td>No internet service</td>\n      <td>Month-to-month</td>\n      <td>No</td>\n      <td>Bank transfer (automatic)</td>\n      <td>20.20</td>\n      <td>20.20</td>\n      <td>No</td>\n    </tr>\n  </tbody>\n</table>\n</div>"
     },
     "execution_count": 111,
     "metadata": {},
     "output_type": "execute_result"
    }
   ],
   "source": [
    "df[(df['TotalCharges'] / df['MonthlyCharges']) == df['tenure']].head()"
   ]
  },
  {
   "cell_type": "markdown",
   "id": "afe1aca5-52c4-4ab3-80f4-1f17eb898235",
   "metadata": {},
   "source": [
    "Нашей гипотезе есть место быть.\n",
    "\n",
    "Но давайте проверим:"
   ]
  },
  {
   "cell_type": "code",
   "execution_count": 112,
   "id": "ad75ea07-ed0c-435a-9a6c-432989d02a5f",
   "metadata": {
    "tags": [],
    "ExecuteTime": {
     "end_time": "2024-09-19T22:22:03.970223200Z",
     "start_time": "2024-09-19T22:22:03.854605300Z"
    }
   },
   "outputs": [
    {
     "name": "stdout",
     "output_type": "stream",
     "text": [
      "Количество совпадений по нашей теории:\n",
      "614\n",
      "Количество различий:\n",
      "6429\n"
     ]
    }
   ],
   "source": [
    "print('Количество совпадений по нашей теории:')\n",
    "print(df[(df['TotalCharges'] / df['MonthlyCharges']) == df['tenure']]['customerID'].count())\n",
    "print('Количество различий:')\n",
    "print(df[(df['TotalCharges'] / df['MonthlyCharges']) != df['tenure']]['customerID'].count())"
   ]
  },
  {
   "cell_type": "markdown",
   "id": "1fb0adf1-221a-4d6e-a17c-307bbad7cba4",
   "metadata": {},
   "source": [
    "**Как видно**, что различий очень много, относительно одинаковых значений.\n",
    "\n",
    "Но, а если мы проверим наше различие в долях или процентах? Проверяем:"
   ]
  },
  {
   "cell_type": "code",
   "execution_count": 113,
   "id": "66a4d7b9-92ae-48cb-ad59-a51373f2a4db",
   "metadata": {
    "tags": [],
    "ExecuteTime": {
     "end_time": "2024-09-19T22:22:03.973442Z",
     "start_time": "2024-09-19T22:22:03.870311500Z"
    }
   },
   "outputs": [
    {
     "name": "stdout",
     "output_type": "stream",
     "text": [
      "В среднем new_total отличается от TotalCharges на 0.2311%\n"
     ]
    }
   ],
   "source": [
    "# cоздаем series и считаем TotalCharges вручную\n",
    "new_total = df['MonthlyCharges'] * df['tenure']\n",
    "\n",
    "# посчитаем во сколько раз в среднем отличается наш new_total и TotalCharges - в процентном отношении\n",
    "perc = abs(100 - (new_total / df['TotalCharges']).mean() * 100)\n",
    "\n",
    "print(f'В среднем new_total отличается от TotalCharges на {perc:.4f}%')"
   ]
  },
  {
   "cell_type": "markdown",
   "id": "4c46ddbc-cd66-44f8-a7dc-4ad96ec3e523",
   "metadata": {},
   "source": [
    "Как видно, они различаются незначительно (меньше `1%`), от чего мы можем предположить, что `TotalCharges` = `MonthlyCharges` * `время`. Скорее всего такие маленькие различия связаны с тем, что `tenure` округлялся.\n",
    "\n",
    "В данном датасете указано только количество месяцев, без уточнения времени (до дней), потому будет грубо просто перемножить один столбец на другой. Но пропуски мы уже можем заменить на `0`, так как в тех строках `tenure` == 0. Такое небольшое исследование было сделано для того, чтобы заполнить наши пропуски нужным числом.\n",
    "\n",
    "Заменим пропуски на нужное нам число."
   ]
  },
  {
   "cell_type": "code",
   "execution_count": 114,
   "id": "085bfa2f-2800-4814-9877-9fccf7c5994c",
   "metadata": {
    "tags": [],
    "ExecuteTime": {
     "end_time": "2024-09-19T22:22:03.984073400Z",
     "start_time": "2024-09-19T22:22:03.889435600Z"
    }
   },
   "outputs": [],
   "source": [
    "df['TotalCharges'].fillna(0, inplace=True)"
   ]
  },
  {
   "cell_type": "markdown",
   "id": "pt3BGKLdPcn9",
   "metadata": {
    "id": "pt3BGKLdPcn9"
   },
   "source": [
    "### Изменение типа данных"
   ]
  },
  {
   "cell_type": "markdown",
   "id": "12573416-214f-48ef-9a39-3d007253cf7a",
   "metadata": {},
   "source": [
    "Рассмотрев все данные, замените типы на нужные (при необходимости):\n",
    "\n",
    "- Если есть числа - на `int` или `float`\n",
    "- Если категории - можно оставить `object`"
   ]
  },
  {
   "cell_type": "code",
   "execution_count": 115,
   "id": "8099b599-1a04-437b-a2c9-ee834eee2809",
   "metadata": {
    "ExecuteTime": {
     "end_time": "2024-09-19T22:22:04.107828400Z",
     "start_time": "2024-09-19T22:22:03.913276300Z"
    }
   },
   "outputs": [
    {
     "data": {
      "text/plain": "customerID           object\ngender               object\nSeniorCitizen         int32\nPartner              object\nDependents           object\ntenure                int32\nPhoneService         object\nMultipleLines        object\nInternetService      object\nOnlineSecurity       object\nOnlineBackup         object\nDeviceProtection     object\nTechSupport          object\nStreamingTV          object\nStreamingMovies      object\nContract             object\nPaperlessBilling     object\nPaymentMethod        object\nMonthlyCharges      float64\nTotalCharges        float64\nChurn                object\ndtype: object"
     },
     "metadata": {},
     "output_type": "display_data"
    }
   ],
   "source": [
    "df['SeniorCitizen'] = df['SeniorCitizen'].astype('int')  # Не понял задание, для чего менять типы, если они и так в норме у данного ДФ, но для примера изменил\n",
    "df['tenure'] = df['tenure'].astype('int')  # Не понял задание, для чего менять типы, если они и так в норме у данного ДФ, но для примера изменил\n",
    "df['MonthlyCharges'] = df['MonthlyCharges'].astype('float')  # Не понял задание, для чего менять типы, если они и так в норме у данного ДФ, но для примера изменил\n",
    "display(df.dtypes)"
   ]
  },
  {
   "cell_type": "markdown",
   "id": "6e2ca993-d92d-4ea3-bca5-6408708f6e83",
   "metadata": {},
   "source": [
    "**Вывод:**\n"
   ]
  },
  {
   "cell_type": "markdown",
   "id": "84339281",
   "metadata": {
    "id": "84339281",
    "papermill": {
     "duration": 0.135596,
     "end_time": "2022-09-17T00:13:12.914231",
     "exception": false,
     "start_time": "2022-09-17T00:13:12.778635",
     "status": "completed"
    },
    "tags": []
   },
   "source": [
    "# 4 Проверка гипотез"
   ]
  },
  {
   "cell_type": "markdown",
   "id": "a6d6cc55-2a27-45ac-9f63-6ba92410d0ae",
   "metadata": {},
   "source": [
    "Задание: сравнить сравнить две выборки - `Churn='No'` и `Churn='Yes'` \n",
    "\n",
    "Гипотеза - среднее количество месяцев, в течение которых клиент оставался в компании, отличается между двумя выборками.\n",
    "\n",
    "### Двусторонняя гипотеза:\n",
    "- **H0 — Нулевая гипотеза.**\n",
    "\n",
    "*« Cреднее количество месяцев, в течение которых клиент оставался в компании, не отличается между двумя выборками».*\n",
    "\n",
    "- **H1 — Альтернативная гипотеза.**\n",
    "\n",
    "*«Cреднее количество месяцев, в течение которых клиент оставался в компании, отличается между двумя выборками».*\n",
    "\n",
    "**Cреднее количество месяцев, в течение которых клиент оставался в компании, может быть как больше так и меньше**"
   ]
  },
  {
   "cell_type": "code",
   "execution_count": 116,
   "id": "a0d13764-53ad-4218-b614-c3ca5fb40ad2",
   "metadata": {
    "ExecuteTime": {
     "end_time": "2024-09-19T22:22:04.137724400Z",
     "start_time": "2024-09-19T22:22:03.930937Z"
    }
   },
   "outputs": [
    {
     "data": {
      "text/plain": "  Churn  tenure_median\n0    No           38.0\n1   Yes           10.0",
      "text/html": "<div>\n<style scoped>\n    .dataframe tbody tr th:only-of-type {\n        vertical-align: middle;\n    }\n\n    .dataframe tbody tr th {\n        vertical-align: top;\n    }\n\n    .dataframe thead th {\n        text-align: right;\n    }\n</style>\n<table border=\"1\" class=\"dataframe\">\n  <thead>\n    <tr style=\"text-align: right;\">\n      <th></th>\n      <th>Churn</th>\n      <th>tenure_median</th>\n    </tr>\n  </thead>\n  <tbody>\n    <tr>\n      <th>0</th>\n      <td>No</td>\n      <td>38.0</td>\n    </tr>\n    <tr>\n      <th>1</th>\n      <td>Yes</td>\n      <td>10.0</td>\n    </tr>\n  </tbody>\n</table>\n</div>"
     },
     "metadata": {},
     "output_type": "display_data"
    },
    {
     "name": "stdout",
     "output_type": "stream",
     "text": [
      "Кол-во Churn = YES: 1869\n",
      "Кол-во Churn = NO: 5174\n",
      "P-value:0.00000. Нулевая гипотеза в Churn отвергается\n"
     ]
    }
   ],
   "source": [
    "display(df.groupby(by=['Churn'], as_index=False).agg(tenure_median=('tenure', 'median')))\n",
    "\n",
    "print(f\"Кол-во Churn = YES: {(df.Churn == 'Yes').sum()}\")\n",
    "print(f\"Кол-во Churn = NO: {(df.Churn == 'No').sum()}\")\n",
    "\n",
    "churn_no_months = df[df['Churn'] == 'No']['tenure']\n",
    "churn_yes_months = df[df['Churn'] == 'Yes']['tenure']\n",
    "\n",
    "\n",
    "def print_result(pv, column, alpha=.05):\n",
    "    if pv < alpha:\n",
    "        print(f'P-value:{pv:.5f}. Нулевая гипотеза в {column} отвергается')\n",
    "    else:\n",
    "        print(f'P-value:{pv:.5f}. Подтверждается нулевая гипотеза в {column}')\n",
    "\n",
    "\n",
    "# Проводим t-тест\n",
    "alpha = .05\n",
    "\n",
    "_, pvalue_churn = stats.ttest_ind(churn_no_months, churn_yes_months)\n",
    "\n",
    "print_result(pvalue_churn, 'Churn')\n",
    "\n"
   ]
  },
  {
   "cell_type": "markdown",
   "id": "66691f06-afde-4300-99f9-a4c781878d68",
   "metadata": {},
   "source": [
    "**Вывод:**\n",
    "* Медианное значение месяцев нахождения клиентов покинувших компанию - 10 мес\n",
    "* Лояльные к компании клиенты в среднем сотрудничают - 38 мес\n",
    "* Cреднее количество месяцев, в течение которых клиент оставался в компании, отличается между двумя выборками"
   ]
  },
  {
   "cell_type": "markdown",
   "id": "182612f7",
   "metadata": {
    "id": "182612f7",
    "papermill": {
     "duration": 0.135397,
     "end_time": "2022-09-17T00:13:13.186292",
     "exception": false,
     "start_time": "2022-09-17T00:13:13.050895",
     "status": "completed"
    },
    "tags": []
   },
   "source": [
    "## 5 Статистический анализ на норму"
   ]
  },
  {
   "cell_type": "markdown",
   "id": "c9cdddbd-896d-48af-9b88-662204560cb7",
   "metadata": {},
   "source": [
    "Задание: выберите числовые признаки и проведите анализ - соответсвуют ли распредения нормальному?\n",
    "\n",
    "Гипотезы:\n",
    "\n",
    "* H0: выборка имеет распределение по Гауссу (нормальное распределение).\n",
    "* H1: выборка не имеет распределения по Гауссу (не нормальное распределение)."
   ]
  },
  {
   "cell_type": "code",
   "execution_count": 117,
   "id": "7cf1ce3c-4ee0-4a63-a3fc-a0ef35e759f6",
   "metadata": {
    "ExecuteTime": {
     "end_time": "2024-09-19T22:22:04.164237600Z",
     "start_time": "2024-09-19T22:22:03.970253600Z"
    }
   },
   "outputs": [
    {
     "name": "stdout",
     "output_type": "stream",
     "text": [
      "Уровень значимости 15.00% : критическое значение 0.576, данные не выглядят нормально (отклоняем H0)\n",
      "Уровень значимости 10.00% : критическое значение 0.656, данные не выглядят нормально (отклоняем H0)\n",
      "Уровень значимости 5.00% : критическое значение 0.787, данные не выглядят нормально (отклоняем H0)\n",
      "Уровень значимости 2.50% : критическое значение 0.917, данные не выглядят нормально (отклоняем H0)\n",
      "Уровень значимости 1.00% : критическое значение 1.091, данные не выглядят нормально (отклоняем H0)\n",
      "P-value:0.00000. Нулевая гипотеза в SeniorCitizen отвергается\n",
      "P-value:0.00000. Нулевая гипотеза в tenure отвергается\n",
      "P-value:0.00000. Нулевая гипотеза в MonthlyCharges отвергается\n",
      "P-value:0.00000. Нулевая гипотеза в TotalCharges отвергается\n"
     ]
    }
   ],
   "source": [
    "result = stats.anderson(df['MonthlyCharges'])\n",
    "\n",
    "\n",
    "for i in range(len(result.critical_values)):\n",
    "    sl, cv = result.significance_level[i], result.critical_values[i]\n",
    "    if result.statistic < result.critical_values[i]:\n",
    "        print(f'Уровень значимости {sl:.2f}% : критическое значение {cv:.3f}, данные выглядят нормально (не удается отклонить H0)')\n",
    "    else:\n",
    "        print(f'Уровень значимости {sl:.2f}% : критическое значение {cv:.3f}, данные не выглядят нормально (отклоняем H0)')\n",
    "        \n",
    "\n",
    "_, pvalue_senior_citizen = stats.shapiro(df.SeniorCitizen)\n",
    "_, pvalue_tenure = stats.shapiro(df.tenure)\n",
    "_, pvalue_monthly_charges = stats.shapiro(df.MonthlyCharges)\n",
    "_, pvalue_total_charges = stats.shapiro(df.TotalCharges)\n",
    "\n",
    "print_result(pvalue_senior_citizen, 'SeniorCitizen')\n",
    "print_result(pvalue_tenure, 'tenure')\n",
    "print_result(pvalue_monthly_charges, 'MonthlyCharges')\n",
    "print_result(pvalue_total_charges, 'TotalCharges')\n"
   ]
  },
  {
   "cell_type": "markdown",
   "id": "b9040662-d2e5-4bfe-9d50-e7070ea54714",
   "metadata": {},
   "source": [
    "**Вывод:**\n",
    "* данные не выглядят нормально (отклоняем H0)"
   ]
  },
  {
   "cell_type": "code",
   "outputs": [
    {
     "data": {
      "text/plain": "array([[<Axes: title={'center': 'SeniorCitizen'}>,\n        <Axes: title={'center': 'tenure'}>],\n       [<Axes: title={'center': 'MonthlyCharges'}>,\n        <Axes: title={'center': 'TotalCharges'}>]], dtype=object)"
     },
     "execution_count": 118,
     "metadata": {},
     "output_type": "execute_result"
    },
    {
     "data": {
      "text/plain": "<Figure size 1000x500 with 4 Axes>",
      "image/png": "[encoded data removed]"
     },
     "metadata": {},
     "output_type": "display_data"
    }
   ],
   "source": [
    "df.hist(bins=30, figsize=(10,5))\n"
   ],
   "metadata": {
    "collapsed": false,
    "ExecuteTime": {
     "end_time": "2024-09-19T22:22:04.674607300Z",
     "start_time": "2024-09-19T22:22:03.996187Z"
    }
   },
   "id": "76f10c75d8ef39d6",
   "execution_count": 118
  },
  {
   "cell_type": "code",
   "outputs": [],
   "source": [],
   "metadata": {
    "collapsed": false,
    "ExecuteTime": {
     "end_time": "2024-09-19T22:22:04.682591100Z",
     "start_time": "2024-09-19T22:22:04.674607300Z"
    }
   },
   "id": "8946e7127b4fb410",
   "execution_count": 118
  }
 ],
 "metadata": {
  "colab": {
   "provenance": []
  },
  "kernelspec": {
   "display_name": "Python 3 (ipykernel)",
   "language": "python",
   "name": "python3"
  },
  "language_info": {
   "codemirror_mode": {
    "name": "ipython",
    "version": 3
   },
   "file_extension": ".py",
   "mimetype": "text/x-python",
   "name": "python",
   "nbconvert_exporter": "python",
   "pygments_lexer": "ipython3",
   "version": "3.11.9"
  },
  "papermill": {
   "default_parameters": {},
   "duration": 110.694338,
   "end_time": "2022-09-17T00:14:38.634386",
   "environment_variables": {},
   "exception": null,
   "input_path": "__notebook__.ipynb",
   "output_path": "__notebook__.ipynb",
   "parameters": {},
   "start_time": "2022-09-17T00:12:47.940048",
   "version": "2.3.3"
  }
 },
 "nbformat": 4,
 "nbformat_minor": 5
}
